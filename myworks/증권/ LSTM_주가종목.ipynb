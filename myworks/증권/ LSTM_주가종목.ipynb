{
 "cells": [
  {
   "cell_type": "code",
   "execution_count": 1,
   "id": "09c308d5-3a21-4bba-9321-9c05e41a5afd",
   "metadata": {},
   "outputs": [],
   "source": [
    "# # 필요한 패키지 설치\n",
    "# !pip install yfinance\n",
    "# !pip install pandas-datareader\n",
    "# !pip install pykrx"
   ]
  },
  {
   "cell_type": "code",
   "execution_count": 2,
   "id": "6195fb52-403a-413e-ae38-b4ff0abea6da",
   "metadata": {},
   "outputs": [],
   "source": [
    "# 필요한 라이브러리 불러오기\n",
    "import pandas as pd\n",
    "import numpy as np\n",
    "from pandas_datareader import data as pdr\n",
    "import yfinance as yf\n",
    "import matplotlib.pyplot as plt\n",
    "import pykrx as krx\n",
    "from pykrx import stock # pykrx:패키지, import stock:모듈"
   ]
  },
  {
   "cell_type": "markdown",
   "id": "9c057a94-4380-4a46-8c11-2783e7b6e758",
   "metadata": {},
   "source": [
    "# LSTM을 활용한 주식가격 예측"
   ]
  },
  {
   "cell_type": "markdown",
   "id": "6bdd2ee6-912f-4c92-93a9-ea880073b437",
   "metadata": {},
   "source": [
    "# Pykrx"
   ]
  },
  {
   "cell_type": "code",
   "execution_count": 3,
   "id": "23b664f0-f54a-451f-ad33-3f35556cef4c",
   "metadata": {},
   "outputs": [],
   "source": [
    "df = stock.get_market_ohlcv_by_date('20100101','20210101', '005930')\n",
    "df.fillna(method='ffill', inplace=True)   #앞에서 가져온다\n",
    "df.fillna(method='bfill', inplace=True)   #뒤에서 가져온다"
   ]
  },
  {
   "cell_type": "code",
   "execution_count": 4,
   "id": "987fee2d-4db1-405a-97b9-976a0b5b6ce9",
   "metadata": {},
   "outputs": [
    {
     "data": {
      "text/plain": [
       "(2714, 5)"
      ]
     },
     "execution_count": 4,
     "metadata": {},
     "output_type": "execute_result"
    }
   ],
   "source": [
    "df.shape  #(2714, 5)"
   ]
  },
  {
   "cell_type": "code",
   "execution_count": 5,
   "id": "a872d9ef-6de6-4d0b-806f-20ae37031692",
   "metadata": {},
   "outputs": [
    {
     "data": {
      "text/html": [
       "<div>\n",
       "<style scoped>\n",
       "    .dataframe tbody tr th:only-of-type {\n",
       "        vertical-align: middle;\n",
       "    }\n",
       "\n",
       "    .dataframe tbody tr th {\n",
       "        vertical-align: top;\n",
       "    }\n",
       "\n",
       "    .dataframe thead th {\n",
       "        text-align: right;\n",
       "    }\n",
       "</style>\n",
       "<table border=\"1\" class=\"dataframe\">\n",
       "  <thead>\n",
       "    <tr style=\"text-align: right;\">\n",
       "      <th></th>\n",
       "      <th>시가</th>\n",
       "      <th>고가</th>\n",
       "      <th>저가</th>\n",
       "      <th>종가</th>\n",
       "      <th>거래량</th>\n",
       "    </tr>\n",
       "    <tr>\n",
       "      <th>날짜</th>\n",
       "      <th></th>\n",
       "      <th></th>\n",
       "      <th></th>\n",
       "      <th></th>\n",
       "      <th></th>\n",
       "    </tr>\n",
       "  </thead>\n",
       "  <tbody>\n",
       "    <tr>\n",
       "      <th>2010-01-04</th>\n",
       "      <td>16060</td>\n",
       "      <td>16180</td>\n",
       "      <td>16000</td>\n",
       "      <td>16180</td>\n",
       "      <td>239271</td>\n",
       "    </tr>\n",
       "    <tr>\n",
       "      <th>2010-01-05</th>\n",
       "      <td>16520</td>\n",
       "      <td>16580</td>\n",
       "      <td>16300</td>\n",
       "      <td>16440</td>\n",
       "      <td>559219</td>\n",
       "    </tr>\n",
       "    <tr>\n",
       "      <th>2010-01-06</th>\n",
       "      <td>16580</td>\n",
       "      <td>16820</td>\n",
       "      <td>16520</td>\n",
       "      <td>16820</td>\n",
       "      <td>459755</td>\n",
       "    </tr>\n",
       "    <tr>\n",
       "      <th>2010-01-07</th>\n",
       "      <td>16820</td>\n",
       "      <td>16820</td>\n",
       "      <td>16260</td>\n",
       "      <td>16260</td>\n",
       "      <td>443237</td>\n",
       "    </tr>\n",
       "    <tr>\n",
       "      <th>2010-01-08</th>\n",
       "      <td>16400</td>\n",
       "      <td>16420</td>\n",
       "      <td>16120</td>\n",
       "      <td>16420</td>\n",
       "      <td>295798</td>\n",
       "    </tr>\n",
       "  </tbody>\n",
       "</table>\n",
       "</div>"
      ],
      "text/plain": [
       "               시가     고가     저가     종가     거래량\n",
       "날짜                                            \n",
       "2010-01-04  16060  16180  16000  16180  239271\n",
       "2010-01-05  16520  16580  16300  16440  559219\n",
       "2010-01-06  16580  16820  16520  16820  459755\n",
       "2010-01-07  16820  16820  16260  16260  443237\n",
       "2010-01-08  16400  16420  16120  16420  295798"
      ]
     },
     "execution_count": 5,
     "metadata": {},
     "output_type": "execute_result"
    }
   ],
   "source": [
    "df.head()"
   ]
  },
  {
   "cell_type": "code",
   "execution_count": 6,
   "id": "fb37ff21-c1e3-4374-b92f-c440969f9220",
   "metadata": {},
   "outputs": [
    {
     "name": "stdout",
     "output_type": "stream",
     "text": [
      "<class 'pandas.core.frame.DataFrame'>\n",
      "DatetimeIndex: 2714 entries, 2010-01-04 to 2020-12-30\n",
      "Data columns (total 5 columns):\n",
      " #   Column  Non-Null Count  Dtype\n",
      "---  ------  --------------  -----\n",
      " 0   시가      2714 non-null   int32\n",
      " 1   고가      2714 non-null   int32\n",
      " 2   저가      2714 non-null   int32\n",
      " 3   종가      2714 non-null   int32\n",
      " 4   거래량     2714 non-null   int32\n",
      "dtypes: int32(5)\n",
      "memory usage: 74.2 KB\n"
     ]
    }
   ],
   "source": [
    "df.info()"
   ]
  },
  {
   "cell_type": "code",
   "execution_count": 7,
   "id": "5ef46f62-bb6e-44ba-b0e2-f5c2b54d4592",
   "metadata": {},
   "outputs": [],
   "source": [
    "# #날짜모양의 글자다  '2019-01-01'  --> date타입\n",
    "# df['날짜'] = pd.to_datetime(df['날짜'], format='%Y-%m-%d')\n",
    "# df.set_index('날짜')"
   ]
  },
  {
   "cell_type": "code",
   "execution_count": 8,
   "id": "8415f224-484a-4a7d-a8b5-8269766c5baf",
   "metadata": {},
   "outputs": [
    {
     "data": {
      "text/plain": [
       "<AxesSubplot:xlabel='날짜'>"
      ]
     },
     "execution_count": 8,
     "metadata": {},
     "output_type": "execute_result"
    },
    {
     "data": {
      "image/png": "[encoded data removed]",
      "text/plain": [
       "<Figure size 432x288 with 1 Axes>"
      ]
     },
     "metadata": {
      "needs_background": "light"
     },
     "output_type": "display_data"
    }
   ],
   "source": [
    "df[\"종가\"].plot()"
   ]
  },
  {
   "cell_type": "code",
   "execution_count": 9,
   "id": "124316d9-644c-4c4b-a4a5-97eef3407959",
   "metadata": {},
   "outputs": [
    {
     "data": {
      "text/plain": [
       "<AxesSubplot:xlabel='날짜'>"
      ]
     },
     "execution_count": 9,
     "metadata": {},
     "output_type": "execute_result"
    },
    {
     "data": {
      "image/png": "[encoded data removed]",
      "text/plain": [
       "<Figure size 432x288 with 1 Axes>"
      ]
     },
     "metadata": {
      "needs_background": "light"
     },
     "output_type": "display_data"
    }
   ],
   "source": [
    "df[\"거래량\"].plot()"
   ]
  },
  {
   "cell_type": "code",
   "execution_count": 10,
   "id": "578d20e8-f9a2-4cb0-94c6-6ffeedd9f745",
   "metadata": {},
   "outputs": [
    {
     "data": {
      "text/plain": [
       "<AxesSubplot:>"
      ]
     },
     "execution_count": 10,
     "metadata": {},
     "output_type": "execute_result"
    },
    {
     "data": {
      "image/png": "[encoded data removed]",
      "text/plain": [
       "<Figure size 432x288 with 1 Axes>"
      ]
     },
     "metadata": {
      "needs_background": "light"
     },
     "output_type": "display_data"
    }
   ],
   "source": [
    "df['종가'].hist()"
   ]
  },
  {
   "cell_type": "code",
   "execution_count": 11,
   "id": "f70b356d-3581-4f6b-9681-4147ac2c5e39",
   "metadata": {},
   "outputs": [],
   "source": [
    "from sklearn.preprocessing import MinMaxScaler\n",
    "scaler = MinMaxScaler()\n",
    "df_scaler = scaler.fit_transform(df)\n",
    "sdf = pd.DataFrame(df_scaler)\n",
    "sdf.columns = df.columns\n",
    "sdf.index = df.index"
   ]
  },
  {
   "cell_type": "code",
   "execution_count": 12,
   "id": "545ec662-9417-41a6-96f8-8cbb1d675b27",
   "metadata": {},
   "outputs": [
    {
     "data": {
      "text/html": [
       "<div>\n",
       "<style scoped>\n",
       "    .dataframe tbody tr th:only-of-type {\n",
       "        vertical-align: middle;\n",
       "    }\n",
       "\n",
       "    .dataframe tbody tr th {\n",
       "        vertical-align: top;\n",
       "    }\n",
       "\n",
       "    .dataframe thead th {\n",
       "        text-align: right;\n",
       "    }\n",
       "</style>\n",
       "<table border=\"1\" class=\"dataframe\">\n",
       "  <thead>\n",
       "    <tr style=\"text-align: right;\">\n",
       "      <th></th>\n",
       "      <th>시가</th>\n",
       "      <th>고가</th>\n",
       "      <th>저가</th>\n",
       "      <th>종가</th>\n",
       "      <th>거래량</th>\n",
       "    </tr>\n",
       "    <tr>\n",
       "      <th>날짜</th>\n",
       "      <th></th>\n",
       "      <th></th>\n",
       "      <th></th>\n",
       "      <th></th>\n",
       "      <th></th>\n",
       "    </tr>\n",
       "  </thead>\n",
       "  <tbody>\n",
       "    <tr>\n",
       "      <th>2010-01-04</th>\n",
       "      <td>0.203291</td>\n",
       "      <td>0.199016</td>\n",
       "      <td>0.204604</td>\n",
       "      <td>0.038279</td>\n",
       "      <td>0.003769</td>\n",
       "    </tr>\n",
       "    <tr>\n",
       "      <th>2010-01-05</th>\n",
       "      <td>0.209114</td>\n",
       "      <td>0.203936</td>\n",
       "      <td>0.208440</td>\n",
       "      <td>0.042136</td>\n",
       "      <td>0.008808</td>\n",
       "    </tr>\n",
       "    <tr>\n",
       "      <th>2010-01-06</th>\n",
       "      <td>0.209873</td>\n",
       "      <td>0.206888</td>\n",
       "      <td>0.211253</td>\n",
       "      <td>0.047774</td>\n",
       "      <td>0.007241</td>\n",
       "    </tr>\n",
       "    <tr>\n",
       "      <th>2010-01-07</th>\n",
       "      <td>0.212911</td>\n",
       "      <td>0.206888</td>\n",
       "      <td>0.207928</td>\n",
       "      <td>0.039466</td>\n",
       "      <td>0.006981</td>\n",
       "    </tr>\n",
       "    <tr>\n",
       "      <th>2010-01-08</th>\n",
       "      <td>0.207595</td>\n",
       "      <td>0.201968</td>\n",
       "      <td>0.206138</td>\n",
       "      <td>0.041840</td>\n",
       "      <td>0.004659</td>\n",
       "    </tr>\n",
       "  </tbody>\n",
       "</table>\n",
       "</div>"
      ],
      "text/plain": [
       "                  시가        고가        저가        종가       거래량\n",
       "날짜                                                          \n",
       "2010-01-04  0.203291  0.199016  0.204604  0.038279  0.003769\n",
       "2010-01-05  0.209114  0.203936  0.208440  0.042136  0.008808\n",
       "2010-01-06  0.209873  0.206888  0.211253  0.047774  0.007241\n",
       "2010-01-07  0.212911  0.206888  0.207928  0.039466  0.006981\n",
       "2010-01-08  0.207595  0.201968  0.206138  0.041840  0.004659"
      ]
     },
     "execution_count": 12,
     "metadata": {},
     "output_type": "execute_result"
    }
   ],
   "source": [
    "sdf.head()"
   ]
  },
  {
   "cell_type": "code",
   "execution_count": 13,
   "id": "24f4d97c-f448-427a-9b77-d91144c7cf06",
   "metadata": {},
   "outputs": [
    {
     "name": "stdout",
     "output_type": "stream",
     "text": [
      "2714 542\n"
     ]
    }
   ],
   "source": [
    "print(sdf.shape[0],  int(sdf.shape[0] * 0.2))\n",
    "split_idx =  int(sdf.shape[0] * 0.2)"
   ]
  },
  {
   "cell_type": "code",
   "execution_count": 50,
   "id": "80a33d2b-540f-4f87-b6e1-f25eb69c1d5d",
   "metadata": {},
   "outputs": [],
   "source": [
    "train = sdf.iloc[:-542]\n",
    "test = sdf.iloc[-542:] "
   ]
  },
  {
   "cell_type": "code",
   "execution_count": 51,
   "id": "882cbee7-87c5-4d5c-a218-d001cc873004",
   "metadata": {},
   "outputs": [
    {
     "name": "stdout",
     "output_type": "stream",
     "text": [
      "(2172, 5) (542, 5)\n"
     ]
    }
   ],
   "source": [
    "print(train.shape, test.shape)"
   ]
  },
  {
   "cell_type": "code",
   "execution_count": 52,
   "id": "b06aa68c-279c-4337-aa9b-4d8a3c105d85",
   "metadata": {},
   "outputs": [],
   "source": [
    "def make_dataset(data, label, window_size=20): # data: 문제지 / label: 정답지\n",
    "    feature_list = []\n",
    "    label_list = []\n",
    "    for i in range(len(data) - window_size):\n",
    "        feature_list.append(np.array(data.iloc[i:i+window_size]))\n",
    "        label_list.append(np.array(label.iloc[i+window_size]))\n",
    "    return np.array(feature_list), np.array(label_list)\n"
   ]
  },
  {
   "cell_type": "code",
   "execution_count": 53,
   "id": "45e4819f-3e1c-4736-b633-f8f3b4c4bb79",
   "metadata": {},
   "outputs": [],
   "source": [
    "# 종가를 맞출것. 종가:y , 종가제외:X\n",
    "y_train = train['종가']\n",
    "X_train = train.drop('종가',axis=1)\n",
    "y_test = test['종가']\n",
    "X_test = test.drop('종가',axis=1)\n",
    "\n",
    "\n",
    "X_train_arr, y_train_arr = make_dataset(X_train,y_train)\n",
    "X_test_arr, y_test_arr = make_dataset(X_test,y_test)"
   ]
  },
  {
   "cell_type": "code",
   "execution_count": 54,
   "id": "a35d1658-7748-4096-8fc7-cf91d473ea2c",
   "metadata": {},
   "outputs": [
    {
     "name": "stdout",
     "output_type": "stream",
     "text": [
      "(2152, 20, 4) (2152,)\n",
      "(522, 20, 4) (522,)\n"
     ]
    }
   ],
   "source": [
    "print(X_train_arr.shape, y_train_arr.shape) # 20: windowsize , 20개씩 잡힌 4개 , 컬럼 2152 전체데이터개수\n",
    "print(X_test_arr.shape, y_test_arr.shape)"
   ]
  },
  {
   "cell_type": "code",
   "execution_count": 55,
   "id": "bfb2cb7a-7cb4-498b-ae7e-21cbe501d768",
   "metadata": {},
   "outputs": [],
   "source": [
    "from keras.models import Sequential\n",
    "from keras.layers import Dense, LSTM\n",
    "from keras.callbacks import EarlyStopping, ModelCheckpoint"
   ]
  },
  {
   "cell_type": "code",
   "execution_count": 56,
   "id": "8fe55fe7-7ce7-4ed1-8fd1-0623f7320d31",
   "metadata": {},
   "outputs": [],
   "source": [
    "# model = Sequential()\n",
    "# input_shape = (X_train_arr.shape[1],X_train_arr.shape[2])\n",
    "# model.add(LSTM(20, activation='relu', return_sequences= True, input_shape=input_shape))\n",
    "# model.add(Dense(1))"
   ]
  },
  {
   "cell_type": "code",
   "execution_count": 57,
   "id": "bdafdfcf-5739-4547-afa5-bf449c8e1c8b",
   "metadata": {},
   "outputs": [],
   "source": [
    "# lstm 부분, 확인하고 삭제\n",
    "model = Sequential()\n",
    "# model.add(Input())\n",
    "model.add(LSTM(20, activation='relu',return_sequences= True, input_shape = (X_train_arr.shape[1], X_train_arr.shape[2])))\n",
    "model.add(Dense(1))\n"
   ]
  },
  {
   "cell_type": "code",
   "execution_count": 58,
   "id": "4f1e6ac2-b627-4c0b-9eb2-4ddcbfc84df9",
   "metadata": {},
   "outputs": [],
   "source": [
    "model.compile(optimizer='adam', loss='mse', metrics=['mse'])"
   ]
  },
  {
   "cell_type": "code",
   "execution_count": 59,
   "id": "3c3aca4b-9582-407e-b468-6a627bb2e12a",
   "metadata": {},
   "outputs": [],
   "source": [
    "# checkpnt = ModelCheckpoint(filepath, monitor='val_loss', save_best_only=True)\n",
    "estop = EarlyStopping(monitor='val_loss', patience=4)"
   ]
  },
  {
   "cell_type": "code",
   "execution_count": 60,
   "id": "18db1363-68f1-4750-a669-400f1b0ff86a",
   "metadata": {},
   "outputs": [
    {
     "name": "stdout",
     "output_type": "stream",
     "text": [
      "Epoch 1/100\n",
      "61/61 [==============================] - 3s 25ms/step - loss: 0.0161 - mse: 0.0161 - val_loss: 0.0323 - val_mse: 0.0323\n",
      "Epoch 2/100\n",
      "61/61 [==============================] - 1s 13ms/step - loss: 0.0060 - mse: 0.0060 - val_loss: 0.0196 - val_mse: 0.0196\n",
      "Epoch 3/100\n",
      "61/61 [==============================] - 1s 16ms/step - loss: 0.0035 - mse: 0.0035 - val_loss: 0.0146 - val_mse: 0.0146\n",
      "Epoch 4/100\n",
      "61/61 [==============================] - 1s 15ms/step - loss: 0.0023 - mse: 0.0023 - val_loss: 0.0115 - val_mse: 0.0115\n",
      "Epoch 5/100\n",
      "61/61 [==============================] - 1s 18ms/step - loss: 0.0017 - mse: 0.0017 - val_loss: 0.0100 - val_mse: 0.0100\n",
      "Epoch 6/100\n",
      "61/61 [==============================] - 1s 12ms/step - loss: 0.0014 - mse: 0.0014 - val_loss: 0.0091 - val_mse: 0.0091\n",
      "Epoch 7/100\n",
      "61/61 [==============================] - 1s 12ms/step - loss: 0.0012 - mse: 0.0012 - val_loss: 0.0085 - val_mse: 0.0085\n",
      "Epoch 8/100\n",
      "61/61 [==============================] - 1s 14ms/step - loss: 0.0010 - mse: 0.0010 - val_loss: 0.0083 - val_mse: 0.0083\n",
      "Epoch 9/100\n",
      "61/61 [==============================] - 1s 19ms/step - loss: 9.3245e-04 - mse: 9.3245e-04 - val_loss: 0.0081 - val_mse: 0.0081\n",
      "Epoch 10/100\n",
      "61/61 [==============================] - 1s 15ms/step - loss: 8.6134e-04 - mse: 8.6134e-04 - val_loss: 0.0085 - val_mse: 0.0085\n",
      "Epoch 11/100\n",
      "61/61 [==============================] - 1s 13ms/step - loss: 8.3644e-04 - mse: 8.3644e-04 - val_loss: 0.0075 - val_mse: 0.0075\n",
      "Epoch 12/100\n",
      "61/61 [==============================] - 1s 20ms/step - loss: 7.5359e-04 - mse: 7.5359e-04 - val_loss: 0.0076 - val_mse: 0.0076\n",
      "Epoch 13/100\n",
      "61/61 [==============================] - 2s 25ms/step - loss: 7.3852e-04 - mse: 7.3852e-04 - val_loss: 0.0076 - val_mse: 0.0076\n",
      "Epoch 14/100\n",
      "61/61 [==============================] - 2s 25ms/step - loss: 6.6714e-04 - mse: 6.6714e-04 - val_loss: 0.0071 - val_mse: 0.0071\n",
      "Epoch 15/100\n",
      "61/61 [==============================] - 2s 26ms/step - loss: 6.1900e-04 - mse: 6.1900e-04 - val_loss: 0.0076 - val_mse: 0.0076\n",
      "Epoch 16/100\n",
      "61/61 [==============================] - 2s 28ms/step - loss: 6.2526e-04 - mse: 6.2526e-04 - val_loss: 0.0067 - val_mse: 0.0067\n",
      "Epoch 17/100\n",
      "61/61 [==============================] - 2s 35ms/step - loss: 6.3422e-04 - mse: 6.3422e-04 - val_loss: 0.0066 - val_mse: 0.0066\n",
      "Epoch 18/100\n",
      "61/61 [==============================] - 1s 24ms/step - loss: 6.1716e-04 - mse: 6.1716e-04 - val_loss: 0.0067 - val_mse: 0.0067\n",
      "Epoch 19/100\n",
      "61/61 [==============================] - 1s 22ms/step - loss: 5.8808e-04 - mse: 5.8808e-04 - val_loss: 0.0065 - val_mse: 0.0065\n",
      "Epoch 20/100\n",
      "61/61 [==============================] - 1s 23ms/step - loss: 5.3895e-04 - mse: 5.3895e-04 - val_loss: 0.0064 - val_mse: 0.0064\n",
      "Epoch 21/100\n",
      "61/61 [==============================] - 1s 20ms/step - loss: 5.4090e-04 - mse: 5.4090e-04 - val_loss: 0.0063 - val_mse: 0.0063\n",
      "Epoch 22/100\n",
      "61/61 [==============================] - 1s 22ms/step - loss: 5.3816e-04 - mse: 5.3816e-04 - val_loss: 0.0067 - val_mse: 0.0067\n",
      "Epoch 23/100\n",
      "61/61 [==============================] - 1s 20ms/step - loss: 5.2352e-04 - mse: 5.2352e-04 - val_loss: 0.0061 - val_mse: 0.0061\n",
      "Epoch 24/100\n",
      "61/61 [==============================] - 1s 19ms/step - loss: 4.9099e-04 - mse: 4.9099e-04 - val_loss: 0.0061 - val_mse: 0.0061\n",
      "Epoch 25/100\n",
      "61/61 [==============================] - 1s 15ms/step - loss: 5.0353e-04 - mse: 5.0353e-04 - val_loss: 0.0064 - val_mse: 0.0064\n",
      "Epoch 26/100\n",
      "61/61 [==============================] - 1s 20ms/step - loss: 4.8707e-04 - mse: 4.8707e-04 - val_loss: 0.0058 - val_mse: 0.0058\n",
      "Epoch 27/100\n",
      "61/61 [==============================] - 1s 19ms/step - loss: 4.5636e-04 - mse: 4.5636e-04 - val_loss: 0.0058 - val_mse: 0.0058\n",
      "Epoch 28/100\n",
      "61/61 [==============================] - 1s 20ms/step - loss: 4.6649e-04 - mse: 4.6649e-04 - val_loss: 0.0063 - val_mse: 0.0063\n",
      "Epoch 29/100\n",
      "61/61 [==============================] - 1s 16ms/step - loss: 4.8617e-04 - mse: 4.8617e-04 - val_loss: 0.0058 - val_mse: 0.0058\n",
      "Epoch 30/100\n",
      "61/61 [==============================] - 1s 15ms/step - loss: 4.4285e-04 - mse: 4.4285e-04 - val_loss: 0.0057 - val_mse: 0.0057\n",
      "Epoch 31/100\n",
      "61/61 [==============================] - 1s 13ms/step - loss: 4.4842e-04 - mse: 4.4842e-04 - val_loss: 0.0057 - val_mse: 0.0057\n",
      "Epoch 32/100\n",
      "61/61 [==============================] - 1s 14ms/step - loss: 4.4105e-04 - mse: 4.4105e-04 - val_loss: 0.0056 - val_mse: 0.0056\n",
      "Epoch 33/100\n",
      "61/61 [==============================] - 1s 18ms/step - loss: 4.3630e-04 - mse: 4.3630e-04 - val_loss: 0.0056 - val_mse: 0.0056\n",
      "Epoch 34/100\n",
      "61/61 [==============================] - 1s 19ms/step - loss: 4.2610e-04 - mse: 4.2610e-04 - val_loss: 0.0056 - val_mse: 0.0056\n",
      "Epoch 35/100\n",
      "61/61 [==============================] - 2s 28ms/step - loss: 4.4267e-04 - mse: 4.4267e-04 - val_loss: 0.0056 - val_mse: 0.0056\n",
      "Epoch 36/100\n",
      "61/61 [==============================] - 1s 20ms/step - loss: 4.4871e-04 - mse: 4.4871e-04 - val_loss: 0.0058 - val_mse: 0.0058\n"
     ]
    },
    {
     "data": {
      "text/plain": [
       "<tensorflow.python.keras.callbacks.History at 0x1ec95d0af88>"
      ]
     },
     "execution_count": 60,
     "metadata": {},
     "output_type": "execute_result"
    }
   ],
   "source": [
    "model.fit(X_train_arr,y_train_arr, epochs=100,\n",
    "                validation_split=0.1, # 사이즈: 개수 정해서 줌,  split: 10% 비율로\n",
    "                callbacks = [estop])"
   ]
  },
  {
   "cell_type": "code",
   "execution_count": 61,
   "id": "4d9d5a7a-e3c3-496c-9e01-c4317e158fcd",
   "metadata": {},
   "outputs": [],
   "source": [
    "pred = model.predict(X_test_arr)"
   ]
  },
  {
   "cell_type": "code",
   "execution_count": 65,
   "id": "611e61c4-4406-4f79-98d7-3ec3ac274495",
   "metadata": {},
   "outputs": [],
   "source": [
    "# print(y_test_arr[:5], pred[:5])"
   ]
  },
  {
   "cell_type": "code",
   "execution_count": 72,
   "id": "2ef8db76-ba7b-41b9-96bd-9471136adc27",
   "metadata": {},
   "outputs": [
    {
     "data": {
      "text/plain": [
       "(522, 1)"
      ]
     },
     "execution_count": 72,
     "metadata": {},
     "output_type": "execute_result"
    }
   ],
   "source": [
    "pred.mean(axis=1).shape"
   ]
  },
  {
   "cell_type": "code",
   "execution_count": 76,
   "id": "436b310e-2aa3-47ee-a3bf-5fecdf6b7759",
   "metadata": {},
   "outputs": [
    {
     "name": "stderr",
     "output_type": "stream",
     "text": [
      "No handles with labels found to put in legend.\n"
     ]
    },
    {
     "data": {
      "image/png": "[encoded data removed]",
      "text/plain": [
       "<Figure size 432x288 with 1 Axes>"
      ]
     },
     "metadata": {
      "needs_background": "light"
     },
     "output_type": "display_data"
    }
   ],
   "source": [
    "plt.plot(y_test_arr)\n",
    "plt.plot(pred.mean(axis=1))\n",
    "plt.legend()\n",
    "plt.show()"
   ]
  },
  {
   "cell_type": "code",
   "execution_count": null,
   "id": "cbf5b320-7b96-45fe-830c-904311c41d84",
   "metadata": {},
   "outputs": [],
   "source": []
  }
 ],
 "metadata": {
  "kernelspec": {
   "display_name": "Python 3",
   "language": "python",
   "name": "python3"
  },
  "language_info": {
   "codemirror_mode": {
    "name": "ipython",
    "version": 3
   },
   "file_extension": ".py",
   "mimetype": "text/x-python",
   "name": "python",
   "nbconvert_exporter": "python",
   "pygments_lexer": "ipython3",
   "version": "3.7.7"
  }
 },
 "nbformat": 4,
 "nbformat_minor": 5
}
