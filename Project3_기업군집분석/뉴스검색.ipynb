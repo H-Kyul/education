{
 "cells": [
  {
   "cell_type": "markdown",
   "id": "2b0a019e-9b4a-4f14-a5e0-898e7534346c",
   "metadata": {},
   "source": [
    "## 뉴스검색_최종\n",
    "- 뉴스 데이터 : 뉴스데이터_전체통합_수정_20210729.csv \n",
    "- 단어빈도 데이터 : 제목/내용 일별/월별.csv\n",
    "- 상장법인목록.csv\n",
    "- 주가확인 차트 v3(주가 기간내 모든 날짜 생성)"
   ]
  },
  {
   "cell_type": "code",
   "execution_count": 1,
   "id": "0d298ec0-212c-40c6-825c-f5b92227ef75",
   "metadata": {},
   "outputs": [],
   "source": [
    "import sys\n",
    "import os\n",
    "from functools import reduce\n",
    "import operator\n",
    "import pandas as pd\n",
    "import datetime\n",
    "import numpy as np\n",
    "import FinanceDataReader as fdr\n",
    "import matplotlib.pyplot as plt\n",
    "np.set_printoptions(threshold=sys.maxsize)\n",
    "import warnings\n",
    "warnings.filterwarnings(action='ignore')\n",
    "plt.rc('font', family='malgun gothic')\n",
    "plt.rcParams['axes.unicode_minus'] = False\n",
    "pd.set_option('display.max_columns', None)\n",
    "pd.set_option('display.max_rows', None)"
   ]
  },
  {
   "cell_type": "code",
   "execution_count": 2,
   "id": "71fcacfd-86ee-4905-bddf-7d2307bce889",
   "metadata": {},
   "outputs": [],
   "source": [
    "# 검색관련 기능\n",
    "\n",
    "# v2: 20210729 제목/내용 케이스 확장\n",
    "\n",
    "def findkeyword_v2(df,keyword,제목5내용6=5): \n",
    "    if 제목5내용6 ==5:\n",
    "        findstr = '제목단어'\n",
    "    if 제목5내용6 ==6:\n",
    "        findstr = '내용단어'\n",
    "    return df[findstr].str.contains(keyword) # 단어가 포함된 뉴스 전부\n",
    "def findkeywordtf(df,keyword):\n",
    "    return (df['단어'] == keyword)\n",
    "def findcorpnews(df,corpname):\n",
    "    return df['종목명'].str.contains(corpname) # 기업명이 있을 경우 기업조건 추가해 검색\n",
    "\n",
    "def 키워드제외기업(키워드,제목5내용6=5):\n",
    "    if 제목5내용6 == 5:   # 제목\n",
    "        키워드제외기업tempdf = 통합일별TF_제목.copy()\n",
    "    if 제목5내용6 == 6:   # 내용\n",
    "        키워드제외기업tempdf = 통합일별TF_내용.copy()\n",
    "    TF비율 = 키워드제외기업tempdf[키워드제외기업tempdf['단어'].str.contains(키워드)].groupby('종목명').agg({'빈도':'sum'}) # 20210729 통합TF->통합일별TF->통합일별TF_제목/내용 수정\n",
    "    TF비율.sort_values(by = '빈도', ascending=False, inplace=True)\n",
    "    TF비율['비율'] = TF비율['빈도'] / TF비율['빈도'].sum() *100\n",
    "\n",
    "    검색제외 = TF비율[(TF비율['빈도']<30)&(TF비율['비율']<2)] # 빈도수 30개이하인 것으로 테스트(예-웨스턴디지털) \n",
    "    return 검색제외.index.to_list()\n",
    "\n",
    "# TOP20개 목록에 '주식종목'이 포함되어 있으면, 핵심키워드로 판단 > 종목코드 같이 출력\n",
    "def 연관키워드_종목추출(TOP50keyword):\n",
    "    종목리스트 = []\n",
    "    Top50list = TOP50keyword.split(', ')\n",
    "    corpdf = pd.read_html('http://kind.krx.co.kr/corpgeneral/corpList.do?method=download', header=0)[0][['회사명','종목코드']] \n",
    "    for kw in list(Top50list):\n",
    "    #     try:\n",
    "        if kw == '현대차': \n",
    "            kw = '현대자동차'\n",
    "        종목코드 = corpdf.query(\"회사명=='{}'\".format(kw.upper())).종목코드.to_string(index=False).zfill(6)\n",
    "        if 종목코드 != 'Series([], )':\n",
    "            종목리스트.append(f'{kw}({종목코드})')\n",
    "    return ', '.join(종목리스트)\n",
    "#             print(f'{kw}({종목코드})')\n",
    "#     except:\n",
    "#         pass\n",
    "\n",
    "def findticker(namelist):\n",
    "    codelist = []\n",
    "    df = pd.read_html('http://kind.krx.co.kr/corpgeneral/corpList.do?method=download', header=0)[0][['회사명','종목코드']]\n",
    "    for corpname in namelist:\n",
    "        corpname = corpname.replace('POSCO','포스코').replace('현대차','현대자동차')\n",
    "        code = df.query(\"회사명=='{}'\".format(corpname))['종목코드'].to_string(index=False)\n",
    "        codelist.append(code)\n",
    "    codelist = [x.zfill(6) for x in codelist]\n",
    "    return codelist\n"
   ]
  },
  {
   "cell_type": "code",
   "execution_count": 3,
   "id": "bb772dea-1ae6-4dd8-afdc-9c02360b46e7",
   "metadata": {},
   "outputs": [],
   "source": [
    "# chart - 주가 흐름 확인(종가 기준)\n",
    "def 군집확인_종가scaling(종목코드): # minmax   / standard\n",
    "    from sklearn.preprocessing import MinMaxScaler, StandardScaler\n",
    "    df = fdr.DataReader(종목코드,'20200720','20210723')\n",
    "    scaler = StandardScaler()\n",
    "    df_scaled = scaler.fit_transform(df)\n",
    "    df = pd.DataFrame(df_scaled, index=df.index , columns=df.columns)\n",
    "    df = df['Close']\n",
    "    \n",
    "    return df"
   ]
  },
  {
   "cell_type": "code",
   "execution_count": 4,
   "id": "9c932c96-e6fc-4069-b08e-a0a3f26505c6",
   "metadata": {},
   "outputs": [],
   "source": [
    "# chart - 일자별 주가와 단어 빈도수 확인\n",
    "\n",
    "from matplotlib import dates\n",
    "from matplotlib.dates import date2num, DayLocator, DateFormatter\n",
    "\n",
    "def 주가확인_v3(종목이름,영향단어,제목5내용6=5, 주가=None, 빈도='pink'):\n",
    "    if 제목5내용6 == 5:   # 제목\n",
    "        주가확인tempTF = 통합일별TF_제목.copy()\n",
    "    if 제목5내용6 == 6:   # 내용\n",
    "        주가확인tempTF = 통합일별TF_내용.copy()\n",
    "\n",
    "    tempTF = 주가확인tempTF.groupby('종목명').get_group(종목이름.upper()).groupby('단어').get_group(영향단어.lower()) # 20210729 통합TF->통합일별TF->통합일별TF_제목/내용 수정\n",
    "    tempTF = tempTF[(tempTF['날짜']>=start_date)&(tempTF['날짜']<=end_date)]\n",
    "\n",
    "    # 주가데이터 \n",
    "    종목코드 = corpdf[corpdf.회사명==종목이름]['종목코드'].values[0]\n",
    "    주가df = fdr.DataReader(종목코드,start_date,end_date)\n",
    "    주가df.reset_index(inplace=True)\n",
    "    주가df.rename(columns={'Date':'날짜'},inplace=True)\n",
    "    주가df['날짜'] =주가df['날짜'].apply(lambda x:  str(pd.to_datetime(x).date()))\n",
    "\n",
    "    # 날짜데이터\n",
    "    dates = pd.date_range(start_date,end_date)\n",
    "    전체날짜 = pd.DataFrame(dates, columns=['날짜'])\n",
    "    전체날짜['날짜'] =전체날짜['날짜'].apply(lambda x:  str(pd.to_datetime(x).date()))\n",
    "\n",
    "\n",
    "    # 날짜데이터, 주가데이터, TF데이터 병합\n",
    "    viewdf = pd.merge(주가df[['날짜','Close']],tempTF[['날짜','빈도']],on='날짜',how='outer')\n",
    "    viewdf = pd.merge(viewdf[['날짜','Close','빈도']],전체날짜['날짜'],on='날짜',how='outer')\n",
    "    viewdf.sort_values('날짜',inplace=True)\n",
    "    viewdf['Close'].fillna(method='ffill',inplace=True)\n",
    "    viewdf['Close'].fillna(method='bfill',inplace=True)\n",
    "    viewdf['빈도'].fillna(0, inplace=True)\n",
    "\n",
    "    # 차트 생성\n",
    "    keepdates = viewdf['날짜'].tolist()\n",
    "    viewdf['날짜'] = date2num(pd.to_datetime(viewdf['날짜']).tolist())   # 정상날짜 나오게함.\n",
    "\n",
    "    fig, ax1 = plt.subplots() \n",
    "    plt.rcParams['figure.figsize'] = (12, 8)\n",
    "    ax1.bar('날짜', '빈도', data=viewdf, color=빈도)#,marker='o')\n",
    "    ax1.legend([f'단어빈도 <{영향단어}>'], loc = 'upper left')\n",
    "    ax2 = ax1.twinx()\n",
    "    ax2.plot('날짜','Close',data=viewdf,marker='o', alpha= 0.7,c=주가)\n",
    "    ax2.legend([f'{종목이름} 주가'], loc = 'upper right')\n",
    "    # ax2.xaxis.set_major_locator(dates.AutoDateLocator())\n",
    "    ax2.xaxis.set_major_formatter(DateFormatter('%Y-%m-%d'))\n",
    "    plt.xlabel(종목이름)\n",
    "    plt.show()\n",
    "    \n",
    "    viewdf['날짜'] = keepdates # 뉴스 확인위해 날짜 복원\n",
    "    viewdf.head()\n"
   ]
  },
  {
   "cell_type": "markdown",
   "id": "62a2fb37-ebd7-4a4f-902d-0202d4744550",
   "metadata": {
    "tags": []
   },
   "source": [
    "## 데이터 불러오기"
   ]
  },
  {
   "cell_type": "code",
   "execution_count": 5,
   "id": "808ecda5-28b8-448e-bc81-5bcea4a00793",
   "metadata": {},
   "outputs": [],
   "source": [
    "# 뉴스 데이터\n",
    "newsDF = pd.read_csv('뉴스데이터_전체통합_수정_20210729.csv')"
   ]
  },
  {
   "cell_type": "code",
   "execution_count": 6,
   "id": "8d44681c-79f2-4737-8935-0974eadb79bc",
   "metadata": {},
   "outputs": [
    {
     "data": {
      "text/plain": [
       "'2021-07-24 18:00:00'"
      ]
     },
     "execution_count": 6,
     "metadata": {},
     "output_type": "execute_result"
    }
   ],
   "source": [
    "newsDF.날짜.max()"
   ]
  },
  {
   "cell_type": "code",
   "execution_count": 7,
   "id": "898579fa-5bfd-4628-85b5-f4b5ec7344c2",
   "metadata": {},
   "outputs": [
    {
     "data": {
      "text/plain": [
       "0"
      ]
     },
     "execution_count": 7,
     "metadata": {},
     "output_type": "execute_result"
    }
   ],
   "source": [
    "# 제목단어 null 데이터 삭제하고 다시 붙여넣기--------------------------------------그냥 drop / 의미있는기사 3건정도 되나, '명사'추출이 안되는 단어\n",
    "newsDF.drop(newsDF[newsDF['제목단어'].isnull()].index, axis=0, inplace=True)\n",
    "newsDF.isna().sum().sum()"
   ]
  },
  {
   "cell_type": "code",
   "execution_count": 8,
   "id": "dff191fe-5ba1-448d-afbf-37b36c3ddac8",
   "metadata": {},
   "outputs": [
    {
     "data": {
      "text/plain": [
       "(61544, 10)"
      ]
     },
     "execution_count": 8,
     "metadata": {},
     "output_type": "execute_result"
    }
   ],
   "source": [
    "newsDF.shape"
   ]
  },
  {
   "cell_type": "code",
   "execution_count": 9,
   "id": "fcafbfd8-c5b0-4751-8970-f3c3c14d30b6",
   "metadata": {},
   "outputs": [],
   "source": [
    "# 종목코드 추출용 - 상장법인목록\n",
    "\n",
    "corpdf = pd.read_csv('상장법인목록.csv')\n",
    "corpdf.head()\n",
    "corpdf['종목코드'] = corpdf['종목코드'].apply(lambda x: str(x).zfill(6))\n",
    "corpdf.head()\n",
    "corpdf.to_csv('상장법인목록.csv',index=False)"
   ]
  },
  {
   "cell_type": "markdown",
   "id": "4a506dac-3f78-4251-9697-b5bc86ce2cec",
   "metadata": {},
   "source": [
    "### 통합 TF "
   ]
  },
  {
   "cell_type": "code",
   "execution_count": 10,
   "id": "10adde54-1bec-4879-9b4c-243eef132013",
   "metadata": {},
   "outputs": [],
   "source": [
    "# 통합 TF 데이터 생성\n",
    "\n",
    "통합일별TF_제목 = pd.read_csv('통합일별TF_제목기준(아모레수정)_20210729.csv')\n",
    "통합일별TF_내용 = pd.read_csv('통합일별TF_내용기준(아모레수정)_20210729.csv')"
   ]
  },
  {
   "cell_type": "code",
   "execution_count": 11,
   "id": "b417f0aa-10c6-4656-ae82-6525728a10f6",
   "metadata": {},
   "outputs": [
    {
     "name": "stdout",
     "output_type": "stream",
     "text": [
      "-제목- \t\t -내용-\n",
      "(276165, 4) (4555259, 4)\n"
     ]
    }
   ],
   "source": [
    "print('-제목-' , '\\t\\t','-내용-')\n",
    "print(통합일별TF_제목.shape,통합일별TF_내용.shape)"
   ]
  },
  {
   "cell_type": "code",
   "execution_count": 12,
   "id": "b8e34ed6-b406-49ca-8f41-181e099fb4e6",
   "metadata": {},
   "outputs": [],
   "source": [
    "# # 월별과 크로스체크 - 가공 잘 됐는지 ----------------확인 완료\n",
    "# tm= 통합월별TF_내용.groupby('단어').agg({'빈도':'sum'})\n",
    "# tm.sort_values('빈도',ascending=False,inplace=True)\n",
    "# tm.head(10)\n",
    "\n",
    "# td= 통합일별TF.groupby('단어').agg({'빈도':'sum'})\n",
    "# td.sort_values('빈도',ascending=False,inplace=True)\n",
    "# td.head(10)"
   ]
  },
  {
   "cell_type": "markdown",
   "id": "684085c5-c21a-4cb8-990e-952445c35c33",
   "metadata": {},
   "source": [
    "### 통합 TF 조회 - 2가지(제목 / 내용)"
   ]
  },
  {
   "cell_type": "code",
   "execution_count": 13,
   "id": "7fed119c-8355-4fab-9ac7-e5556d9168d5",
   "metadata": {},
   "outputs": [],
   "source": [
    "제목TF = 통합일별TF_제목.groupby(['종목명','단어']).agg({'빈도':'sum'}) \n",
    "제목TF.sort_values(['종목명','빈도'],ascending=False, inplace=True)\n",
    "\n",
    "# 특정 기업에서 빈도 높은 단어 보고싶을 때\n",
    "# 기업명 = '포스코' # 주의: 현대차->현대자동차, 알파벳->대문자, 네이버->NAVER, POSCO->포스코\n",
    "# 제목TF.loc[기업명].head() # 특정기업"
   ]
  },
  {
   "cell_type": "code",
   "execution_count": 14,
   "id": "fab6a0cd-077a-44ce-abd8-e9f6ac8b3469",
   "metadata": {},
   "outputs": [],
   "source": [
    "내용TF = 통합일별TF_내용.groupby(['종목명','단어']).agg({'빈도':'sum'}) \n",
    "내용TF.sort_values(['종목명','빈도'],ascending=False, inplace=True)\n",
    "# 내용TF.head()\n",
    "\n",
    "# 특정 기업에서 빈도 높은 단어 보고싶을 때\n",
    "# 기업명 = '포스코' # 주의: 현대차->현대자동차, 알파벳->대문자, 네이버->NAVER, POSCO->포스코\n",
    "# 내용TF.loc[기업명].head() # 특정기업"
   ]
  },
  {
   "cell_type": "markdown",
   "id": "e7452b36-ac7b-4189-bb60-fc8821ad552a",
   "metadata": {},
   "source": [
    "# 검색"
   ]
  },
  {
   "cell_type": "markdown",
   "id": "0e48b9db-535c-4db0-8249-b9a56b96439f",
   "metadata": {},
   "source": [
    "샘플: 검색조건\n",
    "1. 기업: SK텔레콤\n",
    "2. 키워드: 플랫폼\n",
    "3. 기간: 20210301 20210331"
   ]
  },
  {
   "cell_type": "code",
   "execution_count": 15,
   "id": "511a6582-c137-46d8-99b4-04e07549aa66",
   "metadata": {},
   "outputs": [
    {
     "name": "stdin",
     "output_type": "stream",
     "text": [
      "[검색어 개수]  1\n",
      "[검색어]  배터리\n",
      "[검색할 기업 이름]  \n"
     ]
    },
    {
     "name": "stdout",
     "output_type": "stream",
     "text": [
      "검색 대상은 20개 전체 기업입니다.\n",
      "\n",
      " -----------------------\n",
      "기업필터링전기존검색뉴스 2217\n",
      "연관 낮은 기업 제거 후 2116 \n",
      " -----------------------\n",
      "\n",
      "- - - - - - - 조건에 맞는 뉴스 검색 완료 - - - - - - -\n",
      "\n",
      "[검색된 뉴스 개수] 2116 건\n",
      "[검색된 뉴스 기간] 2020-07-23~2021-07-22\n",
      "검색된 뉴스가 없습니다.\n"
     ]
    },
    {
     "data": {
      "text/html": [
       "<div>\n",
       "<style scoped>\n",
       "    .dataframe tbody tr th:only-of-type {\n",
       "        vertical-align: middle;\n",
       "    }\n",
       "\n",
       "    .dataframe tbody tr th {\n",
       "        vertical-align: top;\n",
       "    }\n",
       "\n",
       "    .dataframe thead th {\n",
       "        text-align: right;\n",
       "    }\n",
       "</style>\n",
       "<table border=\"1\" class=\"dataframe\">\n",
       "  <thead>\n",
       "    <tr style=\"text-align: right;\">\n",
       "      <th></th>\n",
       "      <th>종목명</th>\n",
       "      <th>제목</th>\n",
       "      <th>출처</th>\n",
       "      <th>날짜</th>\n",
       "      <th>내용</th>\n",
       "      <th>URL</th>\n",
       "      <th>주가</th>\n",
       "    </tr>\n",
       "  </thead>\n",
       "  <tbody>\n",
       "    <tr>\n",
       "      <th>0</th>\n",
       "      <td>삼성SDI</td>\n",
       "      <td>삼성SDI \"전고체 배터리 2027년 상용화\"</td>\n",
       "      <td>한국경제</td>\n",
       "      <td>2020-07-23 17:17:00</td>\n",
       "      <td>이재용·정의선이 기다리는 그 기술리튬보다 용량 크고 안정적양산 시점 처음으로 제시삼...</td>\n",
       "      <td>https://finance.naver.com/item/news_read.nhn?a...</td>\n",
       "      <td>385500.0</td>\n",
       "    </tr>\n",
       "    <tr>\n",
       "      <th>1</th>\n",
       "      <td>삼성SDI</td>\n",
       "      <td>전기차 개화기 준비하는 삼성SDI…\"꿈의 배터리, 2027년 이후 상용화 기대\"</td>\n",
       "      <td>머니투데이</td>\n",
       "      <td>2020-07-23 18:31:00</td>\n",
       "      <td>[머니투데이 김성은 기자] /사진=삼성SDI삼성SDI가 리튬이온 배터리 대비 안전성...</td>\n",
       "      <td>https://finance.naver.com/item/news_read.nhn?a...</td>\n",
       "      <td>385500.0</td>\n",
       "    </tr>\n",
       "    <tr>\n",
       "      <th>2</th>\n",
       "      <td>SK이노베이션</td>\n",
       "      <td>LG화학-SK이노베이션, 배터리 분쟁 결말 D-70..쟁점은</td>\n",
       "      <td>이데일리</td>\n",
       "      <td>2020-07-27 13:09:00</td>\n",
       "      <td>- 10월 5일 美 ITC 최종 판결 앞두고 양측 물밑 협상 지속- 배상 수준 놓고...</td>\n",
       "      <td>https://finance.naver.com/item/news_read.nhn?a...</td>\n",
       "      <td>131000.0</td>\n",
       "    </tr>\n",
       "    <tr>\n",
       "      <th>3</th>\n",
       "      <td>LG화학</td>\n",
       "      <td>LG화학-SK이노베이션, 배터리 분쟁 결말 D-70..쟁점은</td>\n",
       "      <td>이데일리</td>\n",
       "      <td>2020-07-27 13:09:00</td>\n",
       "      <td>- 10월 5일 美 ITC 최종 판결 앞두고 양측 물밑 협상 지속- 배상 수준 놓고...</td>\n",
       "      <td>https://finance.naver.com/item/news_read.nhn?a...</td>\n",
       "      <td>517000.0</td>\n",
       "    </tr>\n",
       "    <tr>\n",
       "      <th>4</th>\n",
       "      <td>삼성SDI</td>\n",
       "      <td>“TWS 코인셀 배터리, 하반기부터 공급 시작”-삼성SDI 컨콜</td>\n",
       "      <td>이데일리</td>\n",
       "      <td>2020-07-28 13:52:00</td>\n",
       "      <td>[이데일리 김종호 기자] “TWS용 코인셀 배터리는 고객 승인을 마치고 하반기부터 ...</td>\n",
       "      <td>https://finance.naver.com/item/news_read.nhn?a...</td>\n",
       "      <td>393000.0</td>\n",
       "    </tr>\n",
       "  </tbody>\n",
       "</table>\n",
       "</div>"
      ],
      "text/plain": [
       "       종목명                                            제목     출처  \\\n",
       "0    삼성SDI                     삼성SDI \"전고체 배터리 2027년 상용화\"   한국경제   \n",
       "1    삼성SDI  전기차 개화기 준비하는 삼성SDI…\"꿈의 배터리, 2027년 이후 상용화 기대\"  머니투데이   \n",
       "2  SK이노베이션             LG화학-SK이노베이션, 배터리 분쟁 결말 D-70..쟁점은   이데일리   \n",
       "3     LG화학             LG화학-SK이노베이션, 배터리 분쟁 결말 D-70..쟁점은   이데일리   \n",
       "4    삼성SDI           “TWS 코인셀 배터리, 하반기부터 공급 시작”-삼성SDI 컨콜   이데일리   \n",
       "\n",
       "                    날짜                                                 내용  \\\n",
       "0  2020-07-23 17:17:00  이재용·정의선이 기다리는 그 기술리튬보다 용량 크고 안정적양산 시점 처음으로 제시삼...   \n",
       "1  2020-07-23 18:31:00  [머니투데이 김성은 기자] /사진=삼성SDI삼성SDI가 리튬이온 배터리 대비 안전성...   \n",
       "2  2020-07-27 13:09:00  - 10월 5일 美 ITC 최종 판결 앞두고 양측 물밑 협상 지속- 배상 수준 놓고...   \n",
       "3  2020-07-27 13:09:00  - 10월 5일 美 ITC 최종 판결 앞두고 양측 물밑 협상 지속- 배상 수준 놓고...   \n",
       "4  2020-07-28 13:52:00  [이데일리 김종호 기자] “TWS용 코인셀 배터리는 고객 승인을 마치고 하반기부터 ...   \n",
       "\n",
       "                                                 URL        주가  \n",
       "0  https://finance.naver.com/item/news_read.nhn?a...  385500.0  \n",
       "1  https://finance.naver.com/item/news_read.nhn?a...  385500.0  \n",
       "2  https://finance.naver.com/item/news_read.nhn?a...  131000.0  \n",
       "3  https://finance.naver.com/item/news_read.nhn?a...  517000.0  \n",
       "4  https://finance.naver.com/item/news_read.nhn?a...  393000.0  "
      ]
     },
     "execution_count": 15,
     "metadata": {},
     "output_type": "execute_result"
    }
   ],
   "source": [
    "# 검색 1 - 제목TF 기준\n",
    "\n",
    "\n",
    "# -------------------------------------------------------------------------------------------------------------1) 데이터 입력\n",
    "start_date = '2020-07-01'\n",
    "end_date = '2021-07-24'\n",
    "start_month = pd.to_datetime(start_date).month\n",
    "end_month = pd.to_datetime(end_date).month\n",
    "\n",
    "N = input('[검색어 개수] ')             #(키워드#v2) 키워드 입력받기)\n",
    "if N:\n",
    "    키워드 = [input('[검색어] ') for _ in range (int(N))]\n",
    "else: \n",
    "    키워드 = []\n",
    "    print('지정한 검색어가 없습니다.')\n",
    "    \n",
    "기업명 = input('[검색할 기업 이름] ').upper()\n",
    "\n",
    "\n",
    "\n",
    "\n",
    "# -------------------------------------------------------------------------------------------------------------2) 뉴스 검색\n",
    "뉴스df = newsDF.copy()[(newsDF['날짜']>=start_date)&(newsDF['날짜']<=end_date)]\n",
    "\n",
    "\n",
    "#-------------------------------------------------------------------기업명 필터링\n",
    "if len(기업명)>0:\n",
    "    if 기업명 == '네이버':\n",
    "        기업명 = 'NAVER'\n",
    "    뉴스df = 뉴스df[findcorpnews(뉴스df,기업명)]\n",
    "    print(f'검색 대상은 \"{기업명}\"입니다.')\n",
    "else:\n",
    "    print(f'검색 대상은 20개 전체 기업입니다.')\n",
    "\n",
    "    \n",
    "#--------------------------------------------------------------------키워드 필터링\n",
    "for i in range(len(키워드)):                                                 \n",
    "    뉴스df = 뉴스df[findkeyword_v2(뉴스df,키워드[i].upper(),5)]\n",
    "    \n",
    "#--------------------------------------------------------------------연관적은기업 필터링\n",
    "try:\n",
    "    droplist = []\n",
    "    for key in 키워드:\n",
    "        검색제외리스트 = 키워드제외기업(key,5)\n",
    "        for corp in 검색제외리스트:\n",
    "            droplist.append(뉴스df[findcorpnews(뉴스df,corp)].index.to_list())\n",
    "\n",
    "    droplist = list(set(list(reduce(operator.add, droplist)))) # 검색에서 제외할 뉴스 인덱스\n",
    "    print('\\n -----------------------')\n",
    "    print('기업필터링전기존검색뉴스',뉴스df.shape[0])    \n",
    "    뉴스df.drop(index = droplist, axis=0, inplace=True)\n",
    "    print('연관 낮은 기업 제거 후',뉴스df.shape[0],'\\n -----------------------')\n",
    "except:\n",
    "    pass\n",
    "\n",
    "\n",
    "#-------------------------------------------------------------------'시황'뉴스 필터링(종목 열거형 뉴스)\n",
    "# df = df[~(df['제목'].str.contains('시황'))]\n",
    "# # df = df[~(df['내용'].str.contains('종목'))]\n",
    "# print('시황 제거 후',df.shape,'\\n -----------------------')\n",
    "\n",
    "뉴스df.reset_index(drop=True, inplace=True)\n",
    "\n",
    "\n",
    "print('\\n- - - - - - - 조건에 맞는 뉴스 검색 완료 - - - - - - -\\n')\n",
    "print(f'[검색된 뉴스 개수] {뉴스df.shape[0]} 건')\n",
    "print(f'[검색된 뉴스 기간] {pd.to_datetime(뉴스df.날짜.min()).date()}~{pd.to_datetime(뉴스df.날짜.max()).date()}')\n",
    "#-------------------------------------------------------------------뉴스데이터 검색될 경우 TF 생성\n",
    "try: \n",
    "    뉴스tf = TF생성_조회용_v2(뉴스df,5)\n",
    "    단어필터링 = 뉴스tf.query(\"(단어=='지난해')|(단어=='올해')|(단어=='올해')|(단어=='통해')| (단어=='시장')| (단어=='기업')| (단어=='기자')|\\\n",
    "                        (단어=='지난')|(단어=='때문')|(단어=='그룹')\").index\n",
    "    뉴스tf.drop(단어필터링, axis=0, inplace=True) # 연관20에서제거목적\n",
    "    \n",
    "    # 키워드 언급 횟수 계산    \n",
    "    keytfsum = 0\n",
    "    keyfreq = []\n",
    "\n",
    "    for i in range(len(키워드)):\n",
    "        findata = 뉴스tf[findkeywordtf(뉴스tf,키워드[i].lower())]\n",
    "        if findata.shape[0] != 0:\n",
    "            keyfreq.append(f'{findata.iloc[0,0]} : {findata.iloc[0,1]}')\n",
    "            findata = findata.iloc[0,1]\n",
    "            keytfsum += findata\n",
    "    \n",
    "    TOP20keyword = \", \".join(뉴스tf[:20].단어.tolist())\n",
    "    연관종목 = 뉴스tf[:50].단어.tolist()\n",
    "    종목리스트 = 연관키워드_종목추출(TOP20keyword)    \n",
    "\n",
    "    print(f'[검색된 기사 내 키워드 빈도수] 총 {keytfsum} 건 => {\", \".join(keyfreq)}') # 정확히 일치하는 키워드만 보여줌\n",
    "    print(f'[{키워드} 연관 기사 발행 기업] {뉴스df.종목명.nunique()}개 => \"{\", \".join(뉴스df.종목명.unique())}\" \\n') # 비율도같이추가\n",
    "    print(f'[키워드 관련 주식종목] {종목리스트}')\n",
    "    print(f'[연관 키워드 TOP20] {TOP20keyword}\\n')\n",
    "    print('\\n- - - - - - - 검색 조건에 맞는 전체 기사를 추출합니다 - - - - - - -\\n')\n",
    "    뉴스df.sort_values('날짜', inplace=True)\n",
    "\n",
    "except:\n",
    "    print('검색된 뉴스가 없습니다.')\n",
    "뉴스df.head()\n",
    "뉴스df[['종목명','제목','출처','날짜','내용','URL','주가']].head()"
   ]
  },
  {
   "cell_type": "code",
   "execution_count": 16,
   "id": "5d520d2f-a9b1-4bc1-b49f-df3c0d26f402",
   "metadata": {},
   "outputs": [
    {
     "data": {
      "image/png": "[encoded data removed]",
      "text/plain": [
       "<Figure size 432x288 with 2 Axes>"
      ]
     },
     "metadata": {
      "needs_background": "light"
     },
     "output_type": "display_data"
    }
   ],
   "source": [
    "# 주가&키워드빈도 확인----------------------------\n",
    "\n",
    "종목이름 = 'LG화학'\n",
    "start_date = '2021-05-01'\n",
    "end_date = '2021-07-12'\n",
    "영향단어 = '외국인'\n",
    "빈도 = 'pink'\n",
    "주가 = 'blue'\n",
    "주가확인_v3(종목이름,영향단어, 제목5내용6=5) # 제목TF 기준 5 / 내용TF 기준 6"
   ]
  },
  {
   "cell_type": "code",
   "execution_count": 17,
   "id": "b9a7d23a-eb4f-4091-944f-2a8ed52e485d",
   "metadata": {},
   "outputs": [
    {
     "name": "stdin",
     "output_type": "stream",
     "text": [
      "[검색어 개수]  1\n",
      "[검색어]  배터리\n",
      "[검색할 기업 이름]  \n"
     ]
    },
    {
     "name": "stdout",
     "output_type": "stream",
     "text": [
      "검색 대상은 20개 전체 기업입니다.\n",
      "\n",
      "- - - - - - - 조건에 맞는 뉴스 검색 완료 - - - - - - -\n",
      "\n",
      "[검색된 뉴스 개수] 7451 건\n",
      "[검색된 뉴스 기간] 2020-07-23~2021-07-23\n",
      "검색된 뉴스가 없습니다.\n"
     ]
    },
    {
     "data": {
      "text/html": [
       "<div>\n",
       "<style scoped>\n",
       "    .dataframe tbody tr th:only-of-type {\n",
       "        vertical-align: middle;\n",
       "    }\n",
       "\n",
       "    .dataframe tbody tr th {\n",
       "        vertical-align: top;\n",
       "    }\n",
       "\n",
       "    .dataframe thead th {\n",
       "        text-align: right;\n",
       "    }\n",
       "</style>\n",
       "<table border=\"1\" class=\"dataframe\">\n",
       "  <thead>\n",
       "    <tr style=\"text-align: right;\">\n",
       "      <th></th>\n",
       "      <th>종목명</th>\n",
       "      <th>제목</th>\n",
       "      <th>출처</th>\n",
       "      <th>날짜</th>\n",
       "      <th>내용</th>\n",
       "      <th>URL</th>\n",
       "      <th>주가</th>\n",
       "    </tr>\n",
       "  </thead>\n",
       "  <tbody>\n",
       "    <tr>\n",
       "      <th>0</th>\n",
       "      <td>아모레퍼시픽</td>\n",
       "      <td>[유안타증권 주간추천주]‘높아진 회복 가시성’…삼성전자·SK이노·아모레퍼시픽</td>\n",
       "      <td>이데일리</td>\n",
       "      <td>2020-07-25 00:00:00</td>\n",
       "      <td>[이데일리 조용석 기자]◇코스피△삼성전자(005930)-3분기 메모리사업 실적은 상...</td>\n",
       "      <td>https://finance.naver.com/item/news_read.nhn?a...</td>\n",
       "      <td>163500.0</td>\n",
       "    </tr>\n",
       "    <tr>\n",
       "      <th>1</th>\n",
       "      <td>아모레퍼시픽</td>\n",
       "      <td>[유안타證 주간추천주]‘변곡점 예상’…삼성물산·아모레퍼시픽·SK이노</td>\n",
       "      <td>이데일리</td>\n",
       "      <td>2020-08-22 00:00:00</td>\n",
       "      <td>[이데일리 조용석 기자]◇코스피△삼성물산(028260)-삼성그룹 지배구조 개편 가능...</td>\n",
       "      <td>https://finance.naver.com/item/news_read.nhn?a...</td>\n",
       "      <td>174000.0</td>\n",
       "    </tr>\n",
       "    <tr>\n",
       "      <th>2</th>\n",
       "      <td>아모레퍼시픽</td>\n",
       "      <td>20년 터줏대감 삼성전자와 신흥주자 카카오에 동학개미 러브콜</td>\n",
       "      <td>중앙일보</td>\n",
       "      <td>2021-01-06 00:00:00</td>\n",
       "      <td>['시가총액 톱10' 20년 변천사 살펴보니]\\t\\t\\t\\t\\t주식 시장은 국가 경...</td>\n",
       "      <td>https://news.joins.com/article/olink/23557939</td>\n",
       "      <td>200000.0</td>\n",
       "    </tr>\n",
       "    <tr>\n",
       "      <th>3</th>\n",
       "      <td>아모레퍼시픽</td>\n",
       "      <td>20년 터줏대감 삼성전자와 신흥주자 카카오에 동학개미 러브콜</td>\n",
       "      <td>중앙일보</td>\n",
       "      <td>2021-01-06 00:00:00</td>\n",
       "      <td>['시가총액 톱10' 20년 변천사 살펴보니]\\t\\t\\t\\t\\t주식 시장은 국가 경...</td>\n",
       "      <td>https://news.joins.com/article/olink/23557939</td>\n",
       "      <td>200000.0</td>\n",
       "    </tr>\n",
       "    <tr>\n",
       "      <th>4</th>\n",
       "      <td>아모레퍼시픽</td>\n",
       "      <td>주요 기업들 4분기 실적 전망은…대형주 초강세 이어질까</td>\n",
       "      <td>머니투데이</td>\n",
       "      <td>2021-01-11 00:00:00</td>\n",
       "      <td>[머니투데이 김소연 기자] [[오늘의 포인트]] 지난해 4분기 기업들의 실적 발표 ...</td>\n",
       "      <td>http://news.moneytoday.co.kr/view/mtview.php?n...</td>\n",
       "      <td>196000.0</td>\n",
       "    </tr>\n",
       "  </tbody>\n",
       "</table>\n",
       "</div>"
      ],
      "text/plain": [
       "      종목명                                          제목     출처  \\\n",
       "0  아모레퍼시픽  [유안타증권 주간추천주]‘높아진 회복 가시성’…삼성전자·SK이노·아모레퍼시픽   이데일리   \n",
       "1  아모레퍼시픽       [유안타證 주간추천주]‘변곡점 예상’…삼성물산·아모레퍼시픽·SK이노   이데일리   \n",
       "2  아모레퍼시픽           20년 터줏대감 삼성전자와 신흥주자 카카오에 동학개미 러브콜   중앙일보   \n",
       "3  아모레퍼시픽           20년 터줏대감 삼성전자와 신흥주자 카카오에 동학개미 러브콜   중앙일보   \n",
       "4  아모레퍼시픽              주요 기업들 4분기 실적 전망은…대형주 초강세 이어질까  머니투데이   \n",
       "\n",
       "                    날짜                                                 내용  \\\n",
       "0  2020-07-25 00:00:00  [이데일리 조용석 기자]◇코스피△삼성전자(005930)-3분기 메모리사업 실적은 상...   \n",
       "1  2020-08-22 00:00:00  [이데일리 조용석 기자]◇코스피△삼성물산(028260)-삼성그룹 지배구조 개편 가능...   \n",
       "2  2021-01-06 00:00:00  ['시가총액 톱10' 20년 변천사 살펴보니]\\t\\t\\t\\t\\t주식 시장은 국가 경...   \n",
       "3  2021-01-06 00:00:00  ['시가총액 톱10' 20년 변천사 살펴보니]\\t\\t\\t\\t\\t주식 시장은 국가 경...   \n",
       "4  2021-01-11 00:00:00  [머니투데이 김소연 기자] [[오늘의 포인트]] 지난해 4분기 기업들의 실적 발표 ...   \n",
       "\n",
       "                                                 URL        주가  \n",
       "0  https://finance.naver.com/item/news_read.nhn?a...  163500.0  \n",
       "1  https://finance.naver.com/item/news_read.nhn?a...  174000.0  \n",
       "2      https://news.joins.com/article/olink/23557939  200000.0  \n",
       "3      https://news.joins.com/article/olink/23557939  200000.0  \n",
       "4  http://news.moneytoday.co.kr/view/mtview.php?n...  196000.0  "
      ]
     },
     "execution_count": 17,
     "metadata": {},
     "output_type": "execute_result"
    }
   ],
   "source": [
    "# 검색 2 - 내용TF 기준\n",
    "\n",
    "\n",
    "# -------------------------------------------------------------------------------------------------------------1) 데이터 입력\n",
    "start_date = '2020-07-01'\n",
    "end_date = '2021-07-24'\n",
    "start_month = pd.to_datetime(start_date).month\n",
    "end_month = pd.to_datetime(end_date).month\n",
    "\n",
    "N = input('[검색어 개수] ')             #(키워드#v2) 키워드 입력받기)\n",
    "if N:\n",
    "    키워드 = [input('[검색어] ') for _ in range (int(N))]\n",
    "else: \n",
    "    키워드 = []\n",
    "    print('지정한 검색어가 없습니다.')\n",
    "    \n",
    "기업명 = input('[검색할 기업 이름] ').upper()\n",
    "\n",
    "\n",
    "\n",
    "\n",
    "# -------------------------------------------------------------------------------------------------------------2) 뉴스 검색\n",
    "뉴스df_내용 = newsDF.copy()[(newsDF['날짜']>=start_date)&(newsDF['날짜']<=end_date)]\n",
    "\n",
    "\n",
    "#-------------------------------------------------------------------기업명 필터링\n",
    "if len(기업명)>0:\n",
    "    if 기업명 == '네이버':\n",
    "        기업명 = 'NAVER'\n",
    "    뉴스df_내용 = 뉴스df_내용[findcorpnews(뉴스df_내용,기업명)]\n",
    "    print(f'검색 대상은 \"{기업명}\"입니다.')\n",
    "else:\n",
    "    print(f'검색 대상은 20개 전체 기업입니다.')\n",
    "\n",
    "    \n",
    "#--------------------------------------------------------------------키워드 필터링\n",
    "for i in range(len(키워드)):                                                 \n",
    "    뉴스df_내용 = 뉴스df_내용[findkeyword_v2(뉴스df_내용,키워드[i].upper(),6)]\n",
    "    \n",
    "#--------------------------------------------------------------------연관적은기업 필터링\n",
    "try:\n",
    "    droplist = []\n",
    "    for key in 키워드:\n",
    "        검색제외리스트 = 키워드제외기업(key,6)\n",
    "        for corp in 검색제외리스트:\n",
    "            droplist.append(뉴스df_내용[findcorpnews(뉴스df_내용,corp)].index.to_list())\n",
    "\n",
    "    droplist = list(set(list(reduce(operator.add, droplist)))) # 검색에서 제외할 뉴스 인덱스\n",
    "    print('\\n -----------------------')\n",
    "    print('기업필터링전기존검색뉴스',뉴스df_내용.shape[0])    \n",
    "    뉴스df_내용.drop(index = droplist, axis=0, inplace=True)\n",
    "    print('연관 낮은 기업 제거 후',뉴스df_내용.shape[0],'\\n -----------------------')\n",
    "except:\n",
    "    pass\n",
    "\n",
    "\n",
    "#-------------------------------------------------------------------'시황'이라는 단어가 포함된 주식종목 열거형 뉴스 필터링\n",
    "# df = df[~(df['제목'].str.contains('시황'))]\n",
    "# # df = df[~(df['내용'].str.contains('종목'))]\n",
    "# print('시황 제거 후',df.shape,'\\n -----------------------')\n",
    "\n",
    "뉴스df_내용.reset_index(drop=True, inplace=True)\n",
    "\n",
    "\n",
    "print('\\n- - - - - - - 조건에 맞는 뉴스 검색 완료 - - - - - - -\\n')\n",
    "print(f'[검색된 뉴스 개수] {뉴스df_내용.shape[0]} 건')\n",
    "print(f'[검색된 뉴스 기간] {pd.to_datetime(뉴스df_내용.날짜.min()).date()}~{pd.to_datetime(뉴스df_내용.날짜.max()).date()}')\n",
    "#-------------------------------------------------------------------뉴스데이터 검색될 경우 TF 생성\n",
    "try: \n",
    "    뉴스tf_내용 = TF생성_조회용_v2(뉴스df_내용,6)\n",
    "    단어필터링 = 뉴스tf_내용.query(\"(단어=='지난해')|(단어=='올해')|(단어=='올해')|(단어=='통해')| (단어=='시장')| (단어=='기업')| (단어=='기자')|\\\n",
    "                        (단어=='지난')|(단어=='때문')|(단어=='그룹')\").index\n",
    "    뉴스tf_내용.drop(단어필터링, axis=0, inplace=True) # 연관20에서제거목적\n",
    "    \n",
    "    # 키워드 언급 횟수 계산    \n",
    "    keytfsum = 0\n",
    "    keyfreq = []\n",
    "\n",
    "    for i in range(len(키워드)):\n",
    "\n",
    "        findata = 뉴스tf_내용[findkeywordtf(뉴스tf_내용,키워드[i].lower())]\n",
    "    #     print(findata)\n",
    "        if findata.shape[0] != 0:\n",
    "            keyfreq.append(f'{findata.iloc[0,0]} : {findata.iloc[0,1]}')\n",
    "            findata = findata.iloc[0,1]\n",
    "            keytfsum += findata\n",
    "    \n",
    "    TOP20keyword = \", \".join(뉴스tf_내용[:20].단어.tolist())\n",
    "    연관종목 = 뉴스tf_내용[:50].단어.tolist()\n",
    "    종목리스트 = 연관키워드_종목추출(TOP20keyword)    \n",
    "\n",
    "    print(f'[검색된 기사 내 키워드 빈도수] 총 {keytfsum} 건 => {\", \".join(keyfreq)}') # 정확히 일치하는 키워드만 보여줌\n",
    "    print(f'[{키워드} 연관 기사 발행 기업] {뉴스df_내용.종목명.nunique()}개 => \"{\", \".join(뉴스df_내용.종목명.unique())}\" \\n') # 비율도같이추가\n",
    "    print(f'[키워드 관련 주식종목] {종목리스트}')\n",
    "    print(f'[연관 키워드 TOP20] {TOP20keyword}\\n')\n",
    "    print('\\n- - - - - - - 검색 조건에 맞는 전체 기사를 추출합니다 - - - - - - -\\n')\n",
    "    뉴스df_내용.sort_values('날짜', inplace=True)\n",
    "\n",
    "except:\n",
    "    print('검색된 뉴스가 없습니다.')\n",
    "뉴스df_내용[['종목명','제목','출처','날짜','내용','URL','주가']].head()"
   ]
  },
  {
   "cell_type": "code",
   "execution_count": 18,
   "id": "3bc64e53-c885-4e2c-ac92-10440043f4b7",
   "metadata": {},
   "outputs": [
    {
     "data": {
      "image/png": "[encoded data removed]",
      "text/plain": [
       "<Figure size 864x576 with 2 Axes>"
      ]
     },
     "metadata": {
      "needs_background": "light"
     },
     "output_type": "display_data"
    },
    {
     "data": {
      "image/png": "[encoded data removed]",
      "text/plain": [
       "<Figure size 864x576 with 2 Axes>"
      ]
     },
     "metadata": {
      "needs_background": "light"
     },
     "output_type": "display_data"
    }
   ],
   "source": [
    "# 검색결과 주가 확인- 키워드 영향력 찾기\n",
    "start_date = '2021-05-01'\n",
    "end_date = '2021-07-14'\n",
    "주가확인_v3('포스코','외국인',제목5내용6=6)\n",
    "주가확인_v3('포스코','매도',제목5내용6=6)"
   ]
  }
 ],
 "metadata": {
  "kernelspec": {
   "display_name": "Python 3 (ipykernel)",
   "language": "python",
   "name": "python3"
  },
  "language_info": {
   "codemirror_mode": {
    "name": "ipython",
    "version": 3
   },
   "file_extension": ".py",
   "mimetype": "text/x-python",
   "name": "python",
   "nbconvert_exporter": "python",
   "pygments_lexer": "ipython3",
   "version": "3.8.9"
  }
 },
 "nbformat": 4,
 "nbformat_minor": 5
}
