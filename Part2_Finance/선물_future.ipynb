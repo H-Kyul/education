{
 "cells": [
  {
   "cell_type": "code",
   "execution_count": 1,
   "id": "417bd5f1-b49c-4e00-8583-11247019d531",
   "metadata": {},
   "outputs": [],
   "source": [
    "from pandas_datareader import data as pdr\n",
    "import FinanceDataReader as fdr\n",
    "import yfinance as yf\n",
    "from pykrx import stock\n",
    "from datetime import datetime, timedelta\n",
    "import pandas as pd\n",
    "import numpy as np\n",
    "import matplotlib.pyplot as plt\n",
    "import seaborn as sns\n",
    "import warnings\n",
    "warnings.filterwarnings(action='ignore')\n",
    "\n",
    "from matplotlib import font_manager, rc\n",
    "font_name = font_manager.FontProperties(fname=\"c:/Windows/Fonts/malgun.ttf\").get_name()\n",
    "rc('font', family=font_name)\n",
    "plt.rcParams['axes.unicode_minus'] = False"
   ]
  },
  {
   "cell_type": "markdown",
   "id": "9faba949-d753-4ecc-b3f6-1663c87d27f9",
   "metadata": {},
   "source": [
    "# 함수"
   ]
  },
  {
   "cell_type": "code",
   "execution_count": 2,
   "id": "1a874092-1845-4e8c-925c-8eecf43e091b",
   "metadata": {},
   "outputs": [],
   "source": [
    "# 강사님 차트 함수\n",
    "def myplot(df, nrows=5,  kind='line', title='제목', labels=False):  \n",
    "#     if nrows > 0:\n",
    "#         print(df.head(nrows))\n",
    "#     else:\n",
    "#         print(df.tail(nrows))\n",
    "    if labels:\n",
    "        cols = df.columns\n",
    "        for i, col in enumerate(cols):\n",
    "            df[col].plot(label=labels[i], kind=kind)\n",
    "    else :\n",
    "        df.plot(kind=kind)\n",
    "    \n",
    "    plt.title(title)\n",
    "    plt.legend()\n",
    "    plt.show()\n"
   ]
  },
  {
   "cell_type": "code",
   "execution_count": 3,
   "id": "4bdf09fe-55d7-457b-95ee-03823fcb2c88",
   "metadata": {},
   "outputs": [],
   "source": [
    "# 강사님 차트 함수\n",
    "def myplotmix(df1, df2, y1='ylabel-1', y2='ylabel-2', kind1='bar', kind2='line', title='제목',  nrows1=5, nrows2=5,  labels=False):  \n",
    "    ytl=['b', 'g', 'r', 'c', 'm', 'y', 'k', 'w']\n",
    "\n",
    "    if nrows1 > 0:\n",
    "        print(df1.head(nrows1))\n",
    "    elif nrows1 < 0:\n",
    "        print(df1.tail(nrows1))\n",
    "    if nrows2 > 0:\n",
    "        print(df2.head(nrows2))\n",
    "    else:\n",
    "        print(df2.tail(nrows2))\n",
    "    fig, ax1 = plt.subplots(figsize=(12, 4))\n",
    "    ax2=ax1.twinx()\n",
    "    if kind1 == 'line':\n",
    "        df1.plot(kind=kind1, ax=ax2, marker='d',color='#e35f62')  #color='y', \n",
    "        df2.plot(kind=kind2, ax=ax1)  #bar\n",
    "    else:\n",
    "        df1.plot(kind=kind1, ax=ax1,color='#bcbd22')\n",
    "        df2.plot(kind=kind2, ax=ax2) #color='y',\n",
    "        \n",
    "    # df['date'] = df['date'].dt.strftime('%Y-%m-%d') \n",
    "    # ax1.set_xticklabels(df['date'])    \n",
    "    ax1.yaxis.tick_right()\n",
    "    ax2.yaxis.tick_left()\n",
    "    ax1.set_ylabel(y1) #, color='red')\n",
    "    ax2.set_ylabel(y2) #, color='red')\n",
    "    ax1.legend(loc=1)\n",
    "    ax2.legend(loc=2)\n",
    "    plt.title(title)\n",
    "    ax1.grid(False)\n",
    "    \n",
    "    plt.show()"
   ]
  },
  {
   "cell_type": "markdown",
   "id": "304c7a02-9b11-4f97-9115-735c3dd824fc",
   "metadata": {},
   "source": [
    "- 데이터 불러오기"
   ]
  },
  {
   "cell_type": "code",
   "execution_count": 4,
   "id": "76a6777e-7ca7-4c8a-ae51-645c2d2fb62f",
   "metadata": {},
   "outputs": [],
   "source": [
    "df = pd.read_excel('WTI선물.xlsx', sheet_name='M')\n",
    "expdf = pd.read_excel('WTI선물.xlsx', sheet_name='EXP')"
   ]
  },
  {
   "cell_type": "code",
   "execution_count": 24,
   "id": "ab5f352d-7898-4547-8192-3d29f89c7f65",
   "metadata": {},
   "outputs": [
    {
     "name": "stdout",
     "output_type": "stream",
     "text": [
      "<class 'pandas.core.frame.DataFrame'>\n",
      "RangeIndex: 2014 entries, 0 to 2013\n",
      "Data columns (total 4 columns):\n",
      " #   Column  Non-Null Count  Dtype         \n",
      "---  ------  --------------  -----         \n",
      " 0   Date    2014 non-null   datetime64[ns]\n",
      " 1   Spot    2014 non-null   float64       \n",
      " 2   Front   2014 non-null   float64       \n",
      " 3   Second  2014 non-null   float64       \n",
      "dtypes: datetime64[ns](1), float64(3)\n",
      "memory usage: 63.1 KB\n"
     ]
    }
   ],
   "source": [
    "df.head()"
   ]
  },
  {
   "cell_type": "markdown",
   "id": "8b8e2c73-3f95-4c72-b7a7-a9a961a18f1e",
   "metadata": {},
   "source": [
    "# 이론가 산출\n",
    "이론가 = 지수가격 * EXP( (cd금리) * t)"
   ]
  },
  {
   "cell_type": "code",
   "execution_count": 6,
   "id": "c2e04b57-4af8-41b5-a0e0-668745ad96f4",
   "metadata": {
    "tags": []
   },
   "outputs": [],
   "source": [
    "def 이론가(선물지수, 이자율, 배당률, 오늘, 만기일):\n",
    "    선물이론가 = 선물지수 * np.exp((이자율-배당률) * np.busday_count(오늘, 만기일)/252)\n",
    "    return 선물이론가"
   ]
  },
  {
   "cell_type": "code",
   "execution_count": 7,
   "id": "42f4a411-3deb-447e-b589-52645266fa19",
   "metadata": {},
   "outputs": [],
   "source": [
    "# sample data\n",
    "temp = pd.DataFrame({\n",
    "                    'date':pd.date_range('2021-01-04',periods=4),\n",
    "                   '지수': [100,101,102,103]   \n",
    "#                    'b':[1,1,1,1]\n",
    "                })\n",
    "\n",
    "temp['date']  = pd.to_datetime(temp['date'] , format='%Y-%m-%d', errors='raise')\n",
    "temp = temp.set_index('date')"
   ]
  },
  {
   "cell_type": "code",
   "execution_count": 8,
   "id": "f9dcfec0-ca7d-4145-8ef4-aa23fd1e1193",
   "metadata": {
    "tags": []
   },
   "outputs": [
    {
     "data": {
      "text/html": [
       "<div>\n",
       "<style scoped>\n",
       "    .dataframe tbody tr th:only-of-type {\n",
       "        vertical-align: middle;\n",
       "    }\n",
       "\n",
       "    .dataframe tbody tr th {\n",
       "        vertical-align: top;\n",
       "    }\n",
       "\n",
       "    .dataframe thead th {\n",
       "        text-align: right;\n",
       "    }\n",
       "</style>\n",
       "<table border=\"1\" class=\"dataframe\">\n",
       "  <thead>\n",
       "    <tr style=\"text-align: right;\">\n",
       "      <th></th>\n",
       "      <th>지수</th>\n",
       "      <th>선물이론가</th>\n",
       "    </tr>\n",
       "    <tr>\n",
       "      <th>date</th>\n",
       "      <th></th>\n",
       "      <th></th>\n",
       "    </tr>\n",
       "  </thead>\n",
       "  <tbody>\n",
       "    <tr>\n",
       "      <th>2021-01-04</th>\n",
       "      <td>100</td>\n",
       "      <td>100.011905</td>\n",
       "    </tr>\n",
       "    <tr>\n",
       "      <th>2021-01-05</th>\n",
       "      <td>101</td>\n",
       "      <td>101.009018</td>\n",
       "    </tr>\n",
       "    <tr>\n",
       "      <th>2021-01-06</th>\n",
       "      <td>102</td>\n",
       "      <td>102.006072</td>\n",
       "    </tr>\n",
       "    <tr>\n",
       "      <th>2021-01-07</th>\n",
       "      <td>103</td>\n",
       "      <td>103.003066</td>\n",
       "    </tr>\n",
       "  </tbody>\n",
       "</table>\n",
       "</div>"
      ],
      "text/plain": [
       "             지수       선물이론가\n",
       "date                       \n",
       "2021-01-04  100  100.011905\n",
       "2021-01-05  101  101.009018\n",
       "2021-01-06  102  102.006072\n",
       "2021-01-07  103  103.003066"
      ]
     },
     "execution_count": 8,
     "metadata": {},
     "output_type": "execute_result"
    }
   ],
   "source": [
    "이자율 = 0.0225\n",
    "배당률 = 0.015\n",
    "\n",
    "for date in temp.index:\n",
    "    오늘 = date.date()\n",
    "    만기일 = pd.to_datetime('2021-01-08').date()\n",
    "    선물지수 = temp.loc[date,'지수']\n",
    "    선물이론가 = 이론가(선물지수,이자율,배당률,오늘, 만기일)\n",
    "    temp.loc[date,'선물이론가']= 선물이론가\n",
    "temp"
   ]
  },
  {
   "cell_type": "code",
   "execution_count": null,
   "id": "c8dc7af1-bd5b-4f70-82d0-8a5e86bab16b",
   "metadata": {},
   "outputs": [],
   "source": []
  }
 ],
 "metadata": {
  "kernelspec": {
   "display_name": "Python 3",
   "language": "python",
   "name": "python3"
  },
  "language_info": {
   "codemirror_mode": {
    "name": "ipython",
    "version": 3
   },
   "file_extension": ".py",
   "mimetype": "text/x-python",
   "name": "python",
   "nbconvert_exporter": "python",
   "pygments_lexer": "ipython3",
   "version": "3.7.7"
  }
 },
 "nbformat": 4,
 "nbformat_minor": 5
}
