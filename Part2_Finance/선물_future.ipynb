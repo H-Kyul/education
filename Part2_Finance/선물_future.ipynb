{
 "cells": [
  {
   "cell_type": "code",
   "execution_count": 1,
   "id": "417bd5f1-b49c-4e00-8583-11247019d531",
   "metadata": {},
   "outputs": [],
   "source": [
    "from pandas_datareader import data as pdr\n",
    "import FinanceDataReader as fdr\n",
    "import yfinance as yf\n",
    "from pykrx import stock\n",
    "from datetime import datetime, timedelta\n",
    "import pandas as pd\n",
    "import numpy as np\n",
    "import matplotlib.pyplot as plt\n",
    "import seaborn as sns\n",
    "import warnings\n",
    "warnings.filterwarnings(action='ignore')\n",
    "\n",
    "from matplotlib import font_manager, rc\n",
    "font_name = font_manager.FontProperties(fname=\"c:/Windows/Fonts/malgun.ttf\").get_name()\n",
    "rc('font', family=font_name)\n",
    "plt.rcParams['axes.unicode_minus'] = False"
   ]
  },
  {
   "cell_type": "markdown",
   "id": "9faba949-d753-4ecc-b3f6-1663c87d27f9",
   "metadata": {},
   "source": [
    "# 함수"
   ]
  },
  {
   "cell_type": "code",
   "execution_count": 2,
   "id": "1a874092-1845-4e8c-925c-8eecf43e091b",
   "metadata": {},
   "outputs": [],
   "source": [
    
    "def myplot(df, nrows=5,  kind='line', title='제목', labels=False):  \n",
    "#     if nrows > 0:\n",
    "#         print(df.head(nrows))\n",
    "#     else:\n",
    "#         print(df.tail(nrows))\n",
    "    if labels:\n",
    "        cols = df.columns\n",
    "        for i, col in enumerate(cols):\n",
    "            df[col].plot(label=labels[i], kind=kind)\n",
    "    else :\n",
    "        df.plot(kind=kind)\n",
    "    \n",
    "    plt.title(title)\n",
    "    plt.legend()\n",
    "    plt.show()\n"
   ]
  },
  {
   "cell_type": "code",
   "execution_count": 3,
   "id": "4bdf09fe-55d7-457b-95ee-03823fcb2c88",
   "metadata": {},
   "outputs": [],
   "source": [
    
    "def myplotmix(df1, df2, y1='ylabel-1', y2='ylabel-2', kind1='bar', kind2='line', title='제목',  nrows1=5, nrows2=5,  labels=False):  \n",
    "    ytl=['b', 'g', 'r', 'c', 'm', 'y', 'k', 'w']\n",
    "\n",
    "    if nrows1 > 0:\n",
    "        print(df1.head(nrows1))\n",
    "    elif nrows1 < 0:\n",
    "        print(df1.tail(nrows1))\n",
    "    if nrows2 > 0:\n",
    "        print(df2.head(nrows2))\n",
    "    else:\n",
    "        print(df2.tail(nrows2))\n",
    "    fig, ax1 = plt.subplots(figsize=(12, 4))\n",
    "    ax2=ax1.twinx()\n",
    "    if kind1 == 'line':\n",
    "        df1.plot(kind=kind1, ax=ax2, marker='d',color='#e35f62')  #color='y', \n",
    "        df2.plot(kind=kind2, ax=ax1)  #bar\n",
    "    else:\n",
    "        df1.plot(kind=kind1, ax=ax1,color='#bcbd22')\n",
    "        df2.plot(kind=kind2, ax=ax2) #color='y',\n",
    "        \n",
    "    # df['date'] = df['date'].dt.strftime('%Y-%m-%d') \n",
    "    # ax1.set_xticklabels(df['date'])    \n",
    "    ax1.yaxis.tick_right()\n",
    "    ax2.yaxis.tick_left()\n",
    "    ax1.set_ylabel(y1) #, color='red')\n",
    "    ax2.set_ylabel(y2) #, color='red')\n",
    "    ax1.legend(loc=1)\n",
    "    ax2.legend(loc=2)\n",
    "    plt.title(title)\n",
    "    ax1.grid(False)\n",
    "    \n",
    "    plt.show()"
   ]
  },
  {
   "cell_type": "markdown",
   "id": "304c7a02-9b11-4f97-9115-735c3dd824fc",
   "metadata": {},
   "source": [
    "- 데이터 불러오기"
   ]
  },
  {
   "cell_type": "code",
   "execution_count": 4,
   "id": "76a6777e-7ca7-4c8a-ae51-645c2d2fb62f",
   "metadata": {},
   "outputs": [],
   "source": [
    "df = pd.read_excel('WTI선물.xlsx', sheet_name='M')\n",
    "edf = pd.read_excel('WTI선물.xlsx', sheet_name='EXP')"
   ]
  },
  {
   "cell_type": "code",
   "execution_count": 5,
   "id": "ab5f352d-7898-4547-8192-3d29f89c7f65",
   "metadata": {},
   "outputs": [
    {
     "data": {
      "text/html": [
       "<div>\n",
       "<style scoped>\n",
       "    .dataframe tbody tr th:only-of-type {\n",
       "        vertical-align: middle;\n",
       "    }\n",
       "\n",
       "    .dataframe tbody tr th {\n",
       "        vertical-align: top;\n",
       "    }\n",
       "\n",
       "    .dataframe thead th {\n",
       "        text-align: right;\n",
       "    }\n",
       "</style>\n",
       "<table border=\"1\" class=\"dataframe\">\n",
       "  <thead>\n",
       "    <tr style=\"text-align: right;\">\n",
       "      <th></th>\n",
       "      <th>Spot</th>\n",
       "      <th>Front</th>\n",
       "      <th>Second</th>\n",
       "    </tr>\n",
       "    <tr>\n",
       "      <th>Date</th>\n",
       "      <th></th>\n",
       "      <th></th>\n",
       "      <th></th>\n",
       "    </tr>\n",
       "  </thead>\n",
       "  <tbody>\n",
       "    <tr>\n",
       "      <th>2017-12-28</th>\n",
       "      <td>59.84</td>\n",
       "      <td>59.84</td>\n",
       "      <td>59.87</td>\n",
       "    </tr>\n",
       "    <tr>\n",
       "      <th>2017-12-27</th>\n",
       "      <td>59.64</td>\n",
       "      <td>59.64</td>\n",
       "      <td>59.69</td>\n",
       "    </tr>\n",
       "    <tr>\n",
       "      <th>2017-12-26</th>\n",
       "      <td>59.97</td>\n",
       "      <td>59.97</td>\n",
       "      <td>60.00</td>\n",
       "    </tr>\n",
       "    <tr>\n",
       "      <th>2017-12-22</th>\n",
       "      <td>58.42</td>\n",
       "      <td>58.47</td>\n",
       "      <td>58.54</td>\n",
       "    </tr>\n",
       "    <tr>\n",
       "      <th>2017-12-21</th>\n",
       "      <td>58.33</td>\n",
       "      <td>58.36</td>\n",
       "      <td>58.40</td>\n",
       "    </tr>\n",
       "  </tbody>\n",
       "</table>\n",
       "</div>"
      ],
      "text/plain": [
       "             Spot  Front  Second\n",
       "Date                            \n",
       "2017-12-28  59.84  59.84   59.87\n",
       "2017-12-27  59.64  59.64   59.69\n",
       "2017-12-26  59.97  59.97   60.00\n",
       "2017-12-22  58.42  58.47   58.54\n",
       "2017-12-21  58.33  58.36   58.40"
      ]
     },
     "execution_count": 5,
     "metadata": {},
     "output_type": "execute_result"
    }
   ],
   "source": [
    "df.set_index('Date',inplace=True)\n",
    "df.head()"
   ]
  },
  {
   "cell_type": "code",
   "execution_count": 6,
   "id": "fbf22e9f-8d50-4b44-a59e-b4def4016478",
   "metadata": {},
   "outputs": [
    {
     "data": {
      "text/html": [
       "<div>\n",
       "<style scoped>\n",
       "    .dataframe tbody tr th:only-of-type {\n",
       "        vertical-align: middle;\n",
       "    }\n",
       "\n",
       "    .dataframe tbody tr th {\n",
       "        vertical-align: top;\n",
       "    }\n",
       "\n",
       "    .dataframe thead th {\n",
       "        text-align: right;\n",
       "    }\n",
       "</style>\n",
       "<table border=\"1\" class=\"dataframe\">\n",
       "  <thead>\n",
       "    <tr style=\"text-align: right;\">\n",
       "      <th></th>\n",
       "      <th>Ticker</th>\n",
       "      <th>Month</th>\n",
       "      <th>Last Trade</th>\n",
       "      <th>Last Price</th>\n",
       "    </tr>\n",
       "  </thead>\n",
       "  <tbody>\n",
       "    <tr>\n",
       "      <th>0</th>\n",
       "      <td>CLG00</td>\n",
       "      <td>2000-02-01</td>\n",
       "      <td>01/20/00</td>\n",
       "      <td>29.66</td>\n",
       "    </tr>\n",
       "    <tr>\n",
       "      <th>1</th>\n",
       "      <td>CLH00</td>\n",
       "      <td>2000-03-01</td>\n",
       "      <td>02/22/00</td>\n",
       "      <td>29.62</td>\n",
       "    </tr>\n",
       "    <tr>\n",
       "      <th>2</th>\n",
       "      <td>CLJ00</td>\n",
       "      <td>2000-04-01</td>\n",
       "      <td>03/21/00</td>\n",
       "      <td>28.00</td>\n",
       "    </tr>\n",
       "    <tr>\n",
       "      <th>3</th>\n",
       "      <td>CLK00</td>\n",
       "      <td>2000-05-01</td>\n",
       "      <td>04/19/00</td>\n",
       "      <td>27.35</td>\n",
       "    </tr>\n",
       "    <tr>\n",
       "      <th>4</th>\n",
       "      <td>CLM00</td>\n",
       "      <td>2000-06-01</td>\n",
       "      <td>05/22/00</td>\n",
       "      <td>28.61</td>\n",
       "    </tr>\n",
       "  </tbody>\n",
       "</table>\n",
       "</div>"
      ],
      "text/plain": [
       "  Ticker      Month Last Trade  Last Price\n",
       "0  CLG00 2000-02-01   01/20/00       29.66\n",
       "1  CLH00 2000-03-01   02/22/00       29.62\n",
       "2  CLJ00 2000-04-01   03/21/00       28.00\n",
       "3  CLK00 2000-05-01   04/19/00       27.35\n",
       "4  CLM00 2000-06-01   05/22/00       28.61"
      ]
     },
     "execution_count": 6,
     "metadata": {},
     "output_type": "execute_result"
    }
   ],
   "source": [
    "edf.head()"
   ]
  },
  {
   "cell_type": "code",
   "execution_count": 7,
   "id": "3be9c679-b957-45a7-a64f-8f4f30be6f7e",
   "metadata": {},
   "outputs": [],
   "source": [
    "edf.set_index('Month',inplace=True)"
   ]
  },
  {
   "cell_type": "code",
   "execution_count": 8,
   "id": "2d73481f-72d8-4715-bb59-c216f2d2ba53",
   "metadata": {},
   "outputs": [
    {
     "name": "stdout",
     "output_type": "stream",
     "text": [
      "2017-12-26 00:00:00 2000-02-01 00:00:00\n"
     ]
    }
   ],
   "source": [
    "print(edf.index.max(), edf.index.min())"
   ]
  },
  {
   "cell_type": "code",
   "execution_count": 9,
   "id": "15a70422-1196-46f8-b04a-a67cbbf0a384",
   "metadata": {},
   "outputs": [
    {
     "name": "stdout",
     "output_type": "stream",
     "text": [
      "2017-12-28 00:00:00 2010-01-04 00:00:00\n"
     ]
    }
   ],
   "source": [
    "print(df.index.max(), df.index.min())"
   ]
  },
  {
   "cell_type": "code",
   "execution_count": null,
   "id": "cdb4bf8a-aa45-48ad-ab6c-84a16386f80b",
   "metadata": {},
   "outputs": [],
   "source": []
  },
  {
   "cell_type": "code",
   "execution_count": 10,
   "id": "8ae53bbc-afb6-4824-8fd0-9bc9c20fcc8e",
   "metadata": {},
   "outputs": [],
   "source": [
    "# 만기일 알람\n",
    "gdf = pd.concat([df,edf], axis=1, join='outer')\n",
    "df['exp']= np.nan\n",
    "cnt = 0\n",
    "for d in df.index:\n",
    "    if d in edf.index:\n",
    "        df.loc[d,'exp'] = 1\n",
    "        cnt += 1\n",
    "df.fillna(0,inplace=True)"
   ]
  },
  {
   "cell_type": "code",
   "execution_count": 11,
   "id": "99754b1c-1163-46a3-b883-eed193728e37",
   "metadata": {},
   "outputs": [
    {
     "data": {
      "text/html": [
       "<div>\n",
       "<style scoped>\n",
       "    .dataframe tbody tr th:only-of-type {\n",
       "        vertical-align: middle;\n",
       "    }\n",
       "\n",
       "    .dataframe tbody tr th {\n",
       "        vertical-align: top;\n",
       "    }\n",
       "\n",
       "    .dataframe thead th {\n",
       "        text-align: right;\n",
       "    }\n",
       "</style>\n",
       "<table border=\"1\" class=\"dataframe\">\n",
       "  <thead>\n",
       "    <tr style=\"text-align: right;\">\n",
       "      <th></th>\n",
       "      <th>Spot</th>\n",
       "      <th>Front</th>\n",
       "      <th>Second</th>\n",
       "      <th>exp</th>\n",
       "    </tr>\n",
       "    <tr>\n",
       "      <th>Date</th>\n",
       "      <th></th>\n",
       "      <th></th>\n",
       "      <th></th>\n",
       "      <th></th>\n",
       "    </tr>\n",
       "  </thead>\n",
       "  <tbody>\n",
       "    <tr>\n",
       "      <th>2017-12-28</th>\n",
       "      <td>59.84</td>\n",
       "      <td>59.84</td>\n",
       "      <td>59.87</td>\n",
       "      <td>0.0</td>\n",
       "    </tr>\n",
       "    <tr>\n",
       "      <th>2017-12-27</th>\n",
       "      <td>59.64</td>\n",
       "      <td>59.64</td>\n",
       "      <td>59.69</td>\n",
       "      <td>0.0</td>\n",
       "    </tr>\n",
       "    <tr>\n",
       "      <th>2017-12-26</th>\n",
       "      <td>59.97</td>\n",
       "      <td>59.97</td>\n",
       "      <td>60.00</td>\n",
       "      <td>1.0</td>\n",
       "    </tr>\n",
       "    <tr>\n",
       "      <th>2017-12-22</th>\n",
       "      <td>58.42</td>\n",
       "      <td>58.47</td>\n",
       "      <td>58.54</td>\n",
       "      <td>1.0</td>\n",
       "    </tr>\n",
       "    <tr>\n",
       "      <th>2017-12-21</th>\n",
       "      <td>58.33</td>\n",
       "      <td>58.36</td>\n",
       "      <td>58.40</td>\n",
       "      <td>1.0</td>\n",
       "    </tr>\n",
       "  </tbody>\n",
       "</table>\n",
       "</div>"
      ],
      "text/plain": [
       "             Spot  Front  Second  exp\n",
       "Date                                 \n",
       "2017-12-28  59.84  59.84   59.87  0.0\n",
       "2017-12-27  59.64  59.64   59.69  0.0\n",
       "2017-12-26  59.97  59.97   60.00  1.0\n",
       "2017-12-22  58.42  58.47   58.54  1.0\n",
       "2017-12-21  58.33  58.36   58.40  1.0"
      ]
     },
     "execution_count": 11,
     "metadata": {},
     "output_type": "execute_result"
    }
   ],
   "source": [
    "df.head()"
   ]
  },
  {
   "cell_type": "code",
   "execution_count": 12,
   "id": "15012ce4-5ff9-42ef-a412-6c88e5e5b57f",
   "metadata": {},
   "outputs": [
    {
     "name": "stdout",
     "output_type": "stream",
     "text": [
      "191\n"
     ]
    }
   ],
   "source": [
    "df.head()\n",
    "print(cnt)"
   ]
  },
  {
   "cell_type": "markdown",
   "id": "d751345f-5d75-4100-aef9-4548d21536b4",
   "metadata": {},
   "source": [
    "# 현물가"
   ]
  },
  {
   "cell_type": "code",
   "execution_count": 13,
   "id": "d20c0b97-8610-4c93-96e8-6fcf177c1790",
   "metadata": {},
   "outputs": [
    {
     "name": "stdout",
     "output_type": "stream",
     "text": [
      "2017-12-28 00:00:00 2010-01-04 00:00:00\n"
     ]
    }
   ],
   "source": [
    "print(df.index.max(), df.index.min())"
   ]
  },
  {
   "cell_type": "code",
   "execution_count": 14,
   "id": "2edd3638-2f48-4225-a099-1d0d10d838ed",
   "metadata": {},
   "outputs": [
    {
     "data": {
      "text/plain": [
       "-21.67"
      ]
     },
     "execution_count": 14,
     "metadata": {},
     "output_type": "execute_result"
    }
   ],
   "source": [
    "# 2010년 날짜를 2017년 지금까지 들고있다면?\n",
    "df.loc[df.index.max(),'Spot'] - df.loc[df.index.min(),'Spot'] "
   ]
  },
  {
   "cell_type": "markdown",
   "id": "c0eb6a57-6ad5-4b92-a460-8ed7ebf528c8",
   "metadata": {},
   "source": [
    "## 선물가\n",
    "- 만기일(exp=1)에는 롤오버 발생\n",
    "- 롤오버: 차월만기금(second) - 당월만기금(front)    # 다음달꺼가 더 비쌈(이자붙음)   "
   ]
  },
  {
   "cell_type": "code",
   "execution_count": 22,
   "id": "c4e29e28-c05c-440a-9f66-db804fe0646a",
   "metadata": {},
   "outputs": [
    {
     "data": {
      "text/plain": [
       "<AxesSubplot:xlabel='Date'>"
      ]
     },
     "execution_count": 22,
     "metadata": {},
     "output_type": "execute_result"
    },
    {
     "data": {
      "image/png": "[encoded data removed]",
      "text/plain": [
       "<Figure size 432x288 with 1 Axes>"
      ]
     },
     "metadata": {
      "needs_background": "light"
     },
     "output_type": "display_data"
    }
   ],
   "source": [
    "temp= df[df['exp']==1][['Second','Front']]\n",
    "temp['diff'] = temp['Second'] - temp['Front']\n",
    "temp.head()\n",
    "temp['diff'].plot()"
   ]
  },
  {
   "cell_type": "code",
   "execution_count": 19,
   "id": "c1261bad-aed8-4170-a282-3d200c875d24",
   "metadata": {},
   "outputs": [],
   "source": [
    "rollover = df.loc[df['exp']==1,'Second'] - df.loc[df['exp']==1,'Front'] # 롤오버 갈아탔을 때 비용\n",
    "\n",
    "rov_tot = np.array(rollover).sum()"
   ]
  },
  {
   "cell_type": "code",
   "execution_count": 21,
   "id": "8fb9415a-4985-427b-af90-abf524e53f17",
   "metadata": {},
   "outputs": [
    {
     "data": {
      "text/plain": [
       "-87.81000000000003"
      ]
     },
     "execution_count": 21,
     "metadata": {},
     "output_type": "execute_result"
    }
   ],
   "source": [
    "# 2010년 날짜를 2017년 지금까지 들고있다면? (rollover : 이자까지 감안)\n",
    "df.loc[df.index.max(),'Spot'] - ( df.loc[df.index.min(),'Spot'] + rov_tot )"
   ]
  },
  {
   "cell_type": "markdown",
   "id": "8b8e2c73-3f95-4c72-b7a7-a9a961a18f1e",
   "metadata": {},
   "source": [
    "# 이론가 산출\n",
    "이론가 = 지수가격 * EXP( (cd금리) * t)"
   ]
  },
  {
   "cell_type": "code",
   "execution_count": 6,
   "id": "c2e04b57-4af8-41b5-a0e0-668745ad96f4",
   "metadata": {
    "tags": []
   },
   "outputs": [],
   "source": [
    "def 이론가(선물지수, 이자율, 배당률, 오늘, 만기일):\n",
    "    선물이론가 = 선물지수 * np.exp((이자율-배당률) * np.busday_count(오늘, 만기일)/252)\n",
    "    return 선물이론가"
   ]
  },
  {
   "cell_type": "code",
   "execution_count": 7,
   "id": "42f4a411-3deb-447e-b589-52645266fa19",
   "metadata": {},
   "outputs": [],
   "source": [
    "# sample data\n",
    "temp = pd.DataFrame({\n",
    "                    'date':pd.date_range('2021-01-04',periods=4),\n",
    "                   '지수': [100,101,102,103]   \n",
    "                   'b':[1,1,1,1]\n",
    "                })\n",
    "\n",
    "temp['date']  = pd.to_datetime(temp['date'] , format='%Y-%m-%d', errors='raise')\n",
    "temp = temp.set_index('date')"
   ]
  },
  {
   "cell_type": "code",
   "execution_count": 8,
   "id": "f9dcfec0-ca7d-4145-8ef4-aa23fd1e1193",
   "metadata": {
    "tags": []
   },
   "outputs": [
    {
     "data": {
      "text/html": [
       "<div>\n",
       "<style scoped>\n",
       "    .dataframe tbody tr th:only-of-type {\n",
       "        vertical-align: middle;\n",
       "    }\n",
       "\n",
       "    .dataframe tbody tr th {\n",
       "        vertical-align: top;\n",
       "    }\n",
       "\n",
       "    .dataframe thead th {\n",
       "        text-align: right;\n",
       "    }\n",
       "</style>\n",
       "<table border=\"1\" class=\"dataframe\">\n",
       "  <thead>\n",
       "    <tr style=\"text-align: right;\">\n",
       "      <th></th>\n",
       "      <th>지수</th>\n",
       "      <th>선물이론가</th>\n",
       "    </tr>\n",
       "    <tr>\n",
       "      <th>date</th>\n",
       "      <th></th>\n",
       "      <th></th>\n",
       "    </tr>\n",
       "  </thead>\n",
       "  <tbody>\n",
       "    <tr>\n",
       "      <th>2021-01-04</th>\n",
       "      <td>100</td>\n",
       "      <td>100.011905</td>\n",
       "    </tr>\n",
       "    <tr>\n",
       "      <th>2021-01-05</th>\n",
       "      <td>101</td>\n",
       "      <td>101.009018</td>\n",
       "    </tr>\n",
       "    <tr>\n",
       "      <th>2021-01-06</th>\n",
       "      <td>102</td>\n",
       "      <td>102.006072</td>\n",
       "    </tr>\n",
       "    <tr>\n",
       "      <th>2021-01-07</th>\n",
       "      <td>103</td>\n",
       "      <td>103.003066</td>\n",
       "    </tr>\n",
       "  </tbody>\n",
       "</table>\n",
       "</div>"
      ],
      "text/plain": [
       "             지수       선물이론가\n",
       "date                       \n",
       "2021-01-04  100  100.011905\n",
       "2021-01-05  101  101.009018\n",
       "2021-01-06  102  102.006072\n",
       "2021-01-07  103  103.003066"
      ]
     },
     "execution_count": 8,
     "metadata": {},
     "output_type": "execute_result"
    }
   ],
   "source": [
    "이자율 = 0.0225\n",
    "배당률 = 0.015\n",
    "\n",
    "for date in temp.index:\n",
    "    오늘 = date.date()\n",
    "    만기일 = pd.to_datetime('2021-01-08').date()\n",
    "    선물지수 = temp.loc[date,'지수']\n",
    "    선물이론가 = 이론가(선물지수,이자율,배당률,오늘, 만기일)\n",
    "    temp.loc[date,'선물이론가']= 선물이론가\n",
    "temp"
   ]
  },
  {
   "cell_type": "code",
   "execution_count": null,
   "id": "c8dc7af1-bd5b-4f70-82d0-8a5e86bab16b",
   "metadata": {},
   "outputs": [],
   "source": []
  }
 ],
 "metadata": {
  "kernelspec": {
   "display_name": "Python 3",
   "language": "python",
   "name": "python3"
  },
  "language_info": {
   "codemirror_mode": {
    "name": "ipython",
    "version": 3
   },
   "file_extension": ".py",
   "mimetype": "text/x-python",
   "name": "python",
   "nbconvert_exporter": "python",
   "pygments_lexer": "ipython3",
   "version": "3.7.7"
  }
 },
 "nbformat": 4,
 "nbformat_minor": 5
}
