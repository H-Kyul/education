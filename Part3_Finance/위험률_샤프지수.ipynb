{
 "cells": [
  {
   "cell_type": "code",
   "execution_count": 1,
   "id": "2b611851-f4e3-4a65-8070-1e01676d712d",
   "metadata": {},
   "outputs": [],
   "source": [
    "import numpy as np\n",
    "import pandas as pd\n",
    "import matplotlib.pyplot as plt\n",
    "import seaborn as sns\n",
    "from datetime import datetime, timedelta\n",
    "from matplotlib import font_manager, rc\n",
    "font_name = font_manager.FontProperties(fname=\"c:/Windows/Fonts/malgun.ttf\").get_name()\n",
    "rc('font', family=font_name)\n",
    "plt.rcParams['axes.unicode_minus'] = False\n",
    "\n",
    "import warnings\n",
    "warnings.filterwarnings(action='ignore')\n",
    "\n",
    "from pandas_datareader import data as pdr\n",
    "import FinanceDataReader as fdr\n",
    "import yfinance as yf\n",
    "from pykrx import stock"
   ]
  },
  {
   "cell_type": "markdown",
   "id": "c332e6eb-bc4e-46ae-8c0f-5364c8c8136d",
   "metadata": {},
   "source": [
    "# 함수"
   ]
  },
  {
   "cell_type": "code",
   "execution_count": 2,
   "id": "d565b7ef-e577-4e11-b533-097679534848",
   "metadata": {},
   "outputs": [],
   "source": [
    
    "def myplot(df, nrows=5,  kind='line', title='제목', labels=False):  \n",
    "#     if nrows > 0:\n",
    "#         print(df.head(nrows))\n",
    "#     else:\n",
    "#         print(df.tail(nrows))\n",
    "    if labels:\n",
    "        cols = df.columns\n",
    "        for i, col in enumerate(cols):\n",
    "            df[col].plot(label=labels[i], kind=kind)\n",
    "    else :\n",
    "        df.plot(kind=kind)\n",
    "    \n",
    "    plt.title(title)\n",
    "    plt.legend()\n",
    "    plt.show()\n"
   ]
  },
  {
   "cell_type": "code",
   "execution_count": 3,
   "id": "dba3c6d5-c202-4693-96e8-7c46f944790e",
   "metadata": {},
   "outputs": [],
   "source": [
   
    "def myplotmix(df1, df2, y1='ylabel-1', y2='ylabel-2', kind1='bar', kind2='line', title='제목',  nrows1=5, nrows2=5,  labels=False):  \n",
    "    ytl=['b', 'g', 'r', 'c', 'm', 'y', 'k', 'w']\n",
    "\n",
    "    if nrows1 > 0:\n",
    "        print(df1.head(nrows1))\n",
    "    elif nrows1 < 0:\n",
    "        print(df1.tail(nrows1))\n",
    "    if nrows2 > 0:\n",
    "        print(df2.head(nrows2))\n",
    "    else:\n",
    "        print(df2.tail(nrows2))\n",
    "    fig, ax1 = plt.subplots(figsize=(12, 4))\n",
    "    ax2=ax1.twinx()\n",
    "    if kind1 == 'line':\n",
    "        df1.plot(kind=kind1, ax=ax2, marker='d',color='#e35f62')  #color='y', \n",
    "        df2.plot(kind=kind2, ax=ax1)  #bar\n",
    "    else:\n",
    "        df1.plot(kind=kind1, ax=ax1,color='#bcbd22')\n",
    "        df2.plot(kind=kind2, ax=ax2) #color='y',\n",
    "        \n",
    "    # df['date'] = df['date'].dt.strftime('%Y-%m-%d') \n",
    "    # ax1.set_xticklabels(df['date'])    \n",
    "    ax1.yaxis.tick_right()\n",
    "    ax2.yaxis.tick_left()\n",
    "    ax1.set_ylabel(y1) #, color='red')\n",
    "    ax2.set_ylabel(y2) #, color='red')\n",
    "    ax1.legend(loc=1)\n",
    "    ax2.legend(loc=2)\n",
    "    plt.title(title)\n",
    "    ax1.grid(False)\n",
    "    \n",
    "    plt.show()"
   ]
  },
  {
   "cell_type": "code",
   "execution_count": 4,
   "id": "ebdc0a49-ff54-4a5a-be4b-97d5845fa39c",
   "metadata": {},
   "outputs": [],
   "source": [
    "# def codefind(name):\n",
    "#     krx = fdr.StockListing('KRX')\n",
    "#     search = list(krx['Name'])\n",
    "#     for i in range(len(krx)):\n",
    "#         if (search[i]==name):\n",
    "#             print(krx['Symbol'][i])\n",
    "#             return"
   ]
  },
  {
   "cell_type": "markdown",
   "id": "cfcf9ea0-c9ab-4c70-b7f0-f80613d66065",
   "metadata": {},
   "source": [
    "- 메소드변경 \n",
    "codefind -> my_ticker, my_krx"
   ]
  },
  {
   "cell_type": "code",
   "execution_count": 5,
   "id": "0765785e-8e38-4def-b7db-7837852f2ce3",
   "metadata": {},
   "outputs": [
    {
     "name": "stdout",
     "output_type": "stream",
     "text": [
      "['005930', '066570']\n"
     ]
    }
   ],
   "source": [
    "df_code= pd.read_html('http://kind.krx.co.kr/corpgeneral/corpList.do?method=download', header=0)[0]\n",
    "df_code = df_code[['회사명', '종목코드']]\n",
    "df_code.종목코드 = df_code.종목코드.map('{:06d}'.format)\n",
    "df_code.head()\n",
    "\n",
    "names=['삼성전자','LG전자']\n",
    "code_list = []\n",
    "for name in names:\n",
    "    code = df_code.query(\"회사명=='{}'\".format(name))['종목코드'].to_string(index=False)\n",
    "    code_list.append(code)\n",
    "print(code_list)"
   ]
  },
  {
   "cell_type": "code",
   "execution_count": null,
   "id": "d8df5527-2af0-4cb4-ac06-89bfcab55d6d",
   "metadata": {},
   "outputs": [],
   "source": []
  },
  {
   "cell_type": "code",
   "execution_count": 6,
   "id": "3ae12d8e-327a-4f42-a951-347be177ca3e",
   "metadata": {},
   "outputs": [],
   "source": [
    "def ticker(names):    \n",
    "    df_code = pd.read_html('http://kind.krx.co.kr/corpgeneral/corpList.do?method=download', header=0)[0]\n",
    "    df_code.종목코드 = df_code.종목코드.map('{:06d}'.format)\n",
    "    df_code = df_code[['회사명', '종목코드']]\n",
    "    code_list = []\n",
    "    for name in names:\n",
    "        code = df_code.query(\"회사명=='{}'\".format(name))['종목코드'].to_string(index=False)\n",
    "        code_list.append(code)\n",
    "    return code_list\n"
   ]
  },
  {
   "cell_type": "code",
   "execution_count": null,
   "id": "fdd0360e-dcce-4958-91a0-a2e68e626fdc",
   "metadata": {},
   "outputs": [],
   "source": []
  },
  {
   "cell_type": "code",
   "execution_count": 18,
   "id": "02d4cc9b-a288-441c-a473-5fcbcdecc0cc",
   "metadata": {},
   "outputs": [],
   "source": [
    "def krxdata(start, end, *codes):\n",
    "    error_list = []\n",
    "    failed = 0\n",
    "    success = 0\n",
    "#     df= pd.DataFrame()\n",
    "    for code in codes:\n",
    "        try:\n",
    "            df = stock.get_market_ohlcv_by_date(start, end, code)\n",
    "            df.reset_index(inplace=True)\n",
    "            df.insert(loc=1, column='종목코드', value=code)\n",
    "            df.columns = ['date', 'code', 'open', 'high', 'low', 'close','volume']\n",
    "            success += 1\n",
    "        except ElementTree.ParseError as e:\n",
    "            error_list.append(e)\n",
    "            drop_rows(database, table, code)  # 특정 종목코드에서 에러 발생 시 해당 종목코드에 대한 데이터 삭제 후 다음 종목코드로 넘어감\n",
    "            failed += 1\n",
    "            continue\n",
    "        except Exception as e:\n",
    "            print('Error occurred : ', e)\n",
    "            failed += 1\n",
    "            continue\n",
    "#     print(f'변환갯수:{len(codes)},success:{success}, failed:{failed}')\n",
    "    return df\n"
   ]
  },
  {
   "cell_type": "markdown",
   "id": "66ac6e51-1c99-4636-8244-b933e1b48b45",
   "metadata": {},
   "source": [
    "# 데이터 수집 \n",
    " ## - stock"
   ]
  },
  {
   "cell_type": "code",
   "execution_count": 19,
   "id": "cd2adfe7-e645-4736-a57b-45884d9eed42",
   "metadata": {},
   "outputs": [
    {
     "name": "stdout",
     "output_type": "stream",
     "text": [
      "삼성전자 005930\n",
      "SK하이닉스 000660\n",
      "현대자동차 005380\n",
      "NAVER 035420\n"
     ]
    }
   ],
   "source": [
    "# 코드 확인\n",
    "stocks = ['삼성전자','SK하이닉스','현대자동차','NAVER'] # 종목명 오류일 시, 'Series([], '\n",
    "stock_codes = ticker(stocks)\n",
    "stock_codes # ['005930', '000660', '005380', '035420']\n",
    "df = pd.DataFrame()\n",
    "for i, sname in enumerate(stocks):\n",
    "    print(sname, stock_codes[i])\n",
    "    df[sname] = krxdata('20180101','20191231', stock_codes[i])['close']\n"
   ]
  },
  {
   "cell_type": "code",
   "execution_count": 20,
   "id": "3df0c911-3f0b-4f4d-a4db-aab5e9f3d36b",
   "metadata": {},
   "outputs": [
    {
     "data": {
      "text/html": [
       "<div>\n",
       "<style scoped>\n",
       "    .dataframe tbody tr th:only-of-type {\n",
       "        vertical-align: middle;\n",
       "    }\n",
       "\n",
       "    .dataframe tbody tr th {\n",
       "        vertical-align: top;\n",
       "    }\n",
       "\n",
       "    .dataframe thead th {\n",
       "        text-align: right;\n",
       "    }\n",
       "</style>\n",
       "<table border=\"1\" class=\"dataframe\">\n",
       "  <thead>\n",
       "    <tr style=\"text-align: right;\">\n",
       "      <th></th>\n",
       "      <th>삼성전자</th>\n",
       "      <th>SK하이닉스</th>\n",
       "      <th>현대자동차</th>\n",
       "      <th>NAVER</th>\n",
       "    </tr>\n",
       "  </thead>\n",
       "  <tbody>\n",
       "    <tr>\n",
       "      <th>0</th>\n",
       "      <td>51020</td>\n",
       "      <td>76600</td>\n",
       "      <td>149500</td>\n",
       "      <td>177251</td>\n",
       "    </tr>\n",
       "    <tr>\n",
       "      <th>1</th>\n",
       "      <td>51620</td>\n",
       "      <td>77700</td>\n",
       "      <td>150500</td>\n",
       "      <td>174447</td>\n",
       "    </tr>\n",
       "    <tr>\n",
       "      <th>2</th>\n",
       "      <td>51080</td>\n",
       "      <td>77100</td>\n",
       "      <td>146500</td>\n",
       "      <td>178853</td>\n",
       "    </tr>\n",
       "    <tr>\n",
       "      <th>3</th>\n",
       "      <td>52120</td>\n",
       "      <td>79300</td>\n",
       "      <td>149000</td>\n",
       "      <td>181857</td>\n",
       "    </tr>\n",
       "    <tr>\n",
       "      <th>4</th>\n",
       "      <td>52020</td>\n",
       "      <td>78200</td>\n",
       "      <td>151000</td>\n",
       "      <td>190269</td>\n",
       "    </tr>\n",
       "  </tbody>\n",
       "</table>\n",
       "</div>"
      ],
      "text/plain": [
       "    삼성전자  SK하이닉스   현대자동차   NAVER\n",
       "0  51020   76600  149500  177251\n",
       "1  51620   77700  150500  174447\n",
       "2  51080   77100  146500  178853\n",
       "3  52120   79300  149000  181857\n",
       "4  52020   78200  151000  190269"
      ]
     },
     "execution_count": 20,
     "metadata": {},
     "output_type": "execute_result"
    }
   ],
   "source": [
    "df.head()"
   ]
  },
  {
   "cell_type": "markdown",
   "id": "8c0eb9b8-56cc-4279-b62e-597ae1735e04",
   "metadata": {},
   "source": [
    "# 수익률\n",
    "- shift(1) rolling() pch_change()"
   ]
  },
  {
   "cell_type": "markdown",
   "id": "b4f59445-ac02-40cc-9f17-4ebda45a6b60",
   "metadata": {},
   "source": [
    "# 리스크\n",
    "- 변동성 = 분산(기대(평균)수익률로부터 +- 변동성)\n",
    "- 변동성 크다 = 리스크 크다\n",
    "- 공분산"
   ]
  },
  {
   "cell_type": "code",
   "execution_count": null,
   "id": "d827ab74-d997-4e3b-83e3-2cc7a4f28803",
   "metadata": {},
   "outputs": [],
   "source": [
    "# 연단위 편차\n",
    "day_std = dflog[['삼성전자','SK하이닉스']].std()\n",
    "year_std = day_std * np.sqrt(252)\n",
    "print(year_std)"
   ]
  },
  {
   "cell_type": "code",
   "execution_count": null,
   "id": "f8370441-d90a-4fb3-983f-6a17e87c9ef6",
   "metadata": {},
   "outputs": [],
   "source": [
    "# 연단위 공분산\n",
    "day_cov = dflog[['삼성전자','SK하이닉스']].cov()\n",
    "year_cov = day_cov * 252\n",
    "print(year_cov)"
   ]
  },
  {
   "cell_type": "code",
   "execution_count": null,
   "id": "5c9b7756-3d21-40a9-b477-84fc170d8c3a",
   "metadata": {},
   "outputs": [],
   "source": []
  },
  {
   "cell_type": "markdown",
   "id": "515ef077-e112-46b8-9639-c5bc1294528b",
   "metadata": {},
   "source": [
    "# 투자의 가장 효율적 배분은?"
   ]
  },
  {
   "cell_type": "code",
   "execution_count": null,
   "id": "a98fc2c9-a21e-4d3e-9f1a-52cc0ecd52ec",
   "metadata": {},
   "outputs": [],
   "source": [
    "ws = np.arange(.1, 1.0, .1)\n",
    "\n",
    "for i in ws:\n",
    "    w = np.array([i, 1-i])\n",
    "    res = ym.dot(w)\n",
    "    print(w, res)"
   ]
  },
  {
   "cell_type": "markdown",
   "id": "85a96784-5485-4bb7-98d8-35579e723d9b",
   "metadata": {},
   "source": [
    "# 효율적 투자선"
   ]
  },
  {
   "cell_type": "code",
   "execution_count": null,
   "id": "8629c032-f6f4-4a4e-9646-81dbf977d6dc",
   "metadata": {},
   "outputs": [],
   "source": [
    "dcov= dflog.cov()\n",
    "ycov= dflog.cov() * 252\n",
    "dmean= dflog.mean()\n",
    "ymean= dflog.mean()"
   ]
  }
 ],
 "metadata": {
  "kernelspec": {
   "display_name": "Python 3",
   "language": "python",
   "name": "python3"
  },
  "language_info": {
   "codemirror_mode": {
    "name": "ipython",
    "version": 3
   },
   "file_extension": ".py",
   "mimetype": "text/x-python",
   "name": "python",
   "nbconvert_exporter": "python",
   "pygments_lexer": "ipython3",
   "version": "3.7.7"
  }
 },
 "nbformat": 4,
 "nbformat_minor": 5
}
