{
 "cells": [
  {
   "cell_type": "markdown",
   "id": "04da5f9a-f89d-446f-a5a8-11d85e6020ab",
   "metadata": {},
   "source": [
    "# 유가증권 수익률 계산"
   ]
  },
  {
   "cell_type": "code",
   "execution_count": 1,
   "id": "417bd5f1-b49c-4e00-8583-11247019d531",
   "metadata": {},
   "outputs": [],
   "source": [
    "import numpy as np\n",
    "import pandas as pd\n",
    "import matplotlib.pyplot as plt\n",
    "import seaborn as sns\n",
    "from datetime import datetime, timedelta\n",
    "from matplotlib import font_manager, rc\n",
    "font_name = font_manager.FontProperties(fname=\"c:/Windows/Fonts/malgun.ttf\").get_name()\n",
    "rc('font', family=font_name)\n",
    "plt.rcParams['axes.unicode_minus'] = False\n",
    "\n",
    "import warnings\n",
    "warnings.filterwarnings(action='ignore')\n",
    "\n",
    "from pandas_datareader import data as pdr\n",
    "import FinanceDataReader as fdr\n",
    "import yfinance as yf\n",
    "from pykrx import stock"
   ]
  },
  {
   "cell_type": "markdown",
   "id": "9faba949-d753-4ecc-b3f6-1663c87d27f9",
   "metadata": {},
   "source": [
    "# 함수"
   ]
  },
  {
   "cell_type": "code",
   "execution_count": 2,
   "id": "1a874092-1845-4e8c-925c-8eecf43e091b",
   "metadata": {},
   "outputs": [],
   "source": [
    "# 강사님 차트 함수\n",
    "def myplot(df, nrows=5,  kind='line', title='제목', labels=False):  \n",
    "#     if nrows > 0:\n",
    "#         print(df.head(nrows))\n",
    "#     else:\n",
    "#         print(df.tail(nrows))\n",
    "    if labels:\n",
    "        cols = df.columns\n",
    "        for i, col in enumerate(cols):\n",
    "            df[col].plot(label=labels[i], kind=kind)\n",
    "    else :\n",
    "        df.plot(kind=kind)\n",
    "    \n",
    "    plt.title(title)\n",
    "    plt.legend()\n",
    "    plt.show()\n"
   ]
  },
  {
   "cell_type": "code",
   "execution_count": 3,
   "id": "4bdf09fe-55d7-457b-95ee-03823fcb2c88",
   "metadata": {},
   "outputs": [],
   "source": [
    "# 강사님 차트 함수\n",
    "def myplotmix(df1, df2, y1='ylabel-1', y2='ylabel-2', kind1='bar', kind2='line', title='제목',  nrows1=5, nrows2=5,  labels=False):  \n",
    "    ytl=['b', 'g', 'r', 'c', 'm', 'y', 'k', 'w']\n",
    "\n",
    "    if nrows1 > 0:\n",
    "        print(df1.head(nrows1))\n",
    "    elif nrows1 < 0:\n",
    "        print(df1.tail(nrows1))\n",
    "    if nrows2 > 0:\n",
    "        print(df2.head(nrows2))\n",
    "    else:\n",
    "        print(df2.tail(nrows2))\n",
    "    fig, ax1 = plt.subplots(figsize=(12, 4))\n",
    "    ax2=ax1.twinx()\n",
    "    if kind1 == 'line':\n",
    "        df1.plot(kind=kind1, ax=ax2, marker='d',color='#e35f62')  #color='y', \n",
    "        df2.plot(kind=kind2, ax=ax1)  #bar\n",
    "    else:\n",
    "        df1.plot(kind=kind1, ax=ax1,color='#bcbd22')\n",
    "        df2.plot(kind=kind2, ax=ax2) #color='y',\n",
    "        \n",
    "    # df['date'] = df['date'].dt.strftime('%Y-%m-%d') \n",
    "    # ax1.set_xticklabels(df['date'])    \n",
    "    ax1.yaxis.tick_right()\n",
    "    ax2.yaxis.tick_left()\n",
    "    ax1.set_ylabel(y1) #, color='red')\n",
    "    ax2.set_ylabel(y2) #, color='red')\n",
    "    ax1.legend(loc=1)\n",
    "    ax2.legend(loc=2)\n",
    "    plt.title(title)\n",
    "    ax1.grid(False)\n",
    "    \n",
    "    plt.show()"
   ]
  },
  {
   "cell_type": "code",
   "execution_count": 4,
   "id": "7a39ef26-9565-4f52-a75c-7bf072a00bf0",
   "metadata": {},
   "outputs": [],
   "source": [
    "def codefind(name):\n",
    "    krx = fdr.StockListing('KRX')\n",
    "    search = list(krx['Name'])\n",
    "    for i in range(len(krx)):\n",
    "        if (search[i]==name):\n",
    "            print(krx['Symbol'][i])\n",
    "            return"
   ]
  },
  {
   "cell_type": "markdown",
   "id": "304c7a02-9b11-4f97-9115-735c3dd824fc",
   "metadata": {},
   "source": [
    "# 데이터 수집 \n",
    " ## - FinanceDataReader"
   ]
  },
  {
   "cell_type": "code",
   "execution_count": 5,
   "id": "cdb4bf8a-aa45-48ad-ab6c-84a16386f80b",
   "metadata": {},
   "outputs": [],
   "source": [
    "# 연간변동률 구하기 위해 2년치 데이터 가져오기\n",
    "df_ss = fdr.DataReader('005930','2018-01-01', '2019-12-31') # y_finanace와 차이점 발견, yf는 '005930.KS'"
   ]
  },
  {
   "cell_type": "code",
   "execution_count": 6,
   "id": "766e11f6-94d3-4589-8556-94dfb2a7e14f",
   "metadata": {},
   "outputs": [],
   "source": [
    "df_ss.drop(pd.to_datetime('2018-01-02'),inplace=True) # yfinance는 1/3부터 데이터가 있다."
   ]
  },
  {
   "cell_type": "code",
   "execution_count": 7,
   "id": "c8dc7af1-bd5b-4f70-82d0-8a5e86bab16b",
   "metadata": {},
   "outputs": [
    {
     "name": "stdout",
     "output_type": "stream",
     "text": [
      "<class 'pandas.core.frame.DataFrame'>\n",
      "DatetimeIndex: 489 entries, 2018-01-03 to 2019-12-30\n",
      "Data columns (total 6 columns):\n",
      " #   Column  Non-Null Count  Dtype  \n",
      "---  ------  --------------  -----  \n",
      " 0   Open    489 non-null    int64  \n",
      " 1   High    489 non-null    int64  \n",
      " 2   Low     489 non-null    int64  \n",
      " 3   Close   489 non-null    int64  \n",
      " 4   Volume  489 non-null    int64  \n",
      " 5   Change  489 non-null    float64\n",
      "dtypes: float64(1), int64(5)\n",
      "memory usage: 26.7 KB\n"
     ]
    },
    {
     "data": {
      "text/html": [
       "<div>\n",
       "<style scoped>\n",
       "    .dataframe tbody tr th:only-of-type {\n",
       "        vertical-align: middle;\n",
       "    }\n",
       "\n",
       "    .dataframe tbody tr th {\n",
       "        vertical-align: top;\n",
       "    }\n",
       "\n",
       "    .dataframe thead th {\n",
       "        text-align: right;\n",
       "    }\n",
       "</style>\n",
       "<table border=\"1\" class=\"dataframe\">\n",
       "  <thead>\n",
       "    <tr style=\"text-align: right;\">\n",
       "      <th></th>\n",
       "      <th>Open</th>\n",
       "      <th>High</th>\n",
       "      <th>Low</th>\n",
       "      <th>Close</th>\n",
       "      <th>Volume</th>\n",
       "      <th>Change</th>\n",
       "    </tr>\n",
       "    <tr>\n",
       "      <th>Date</th>\n",
       "      <th></th>\n",
       "      <th></th>\n",
       "      <th></th>\n",
       "      <th></th>\n",
       "      <th></th>\n",
       "      <th></th>\n",
       "    </tr>\n",
       "  </thead>\n",
       "  <tbody>\n",
       "    <tr>\n",
       "      <th>2018-01-03</th>\n",
       "      <td>52540</td>\n",
       "      <td>52560</td>\n",
       "      <td>51420</td>\n",
       "      <td>51620</td>\n",
       "      <td>200270</td>\n",
       "      <td>0.011760</td>\n",
       "    </tr>\n",
       "    <tr>\n",
       "      <th>2018-01-04</th>\n",
       "      <td>52120</td>\n",
       "      <td>52180</td>\n",
       "      <td>50640</td>\n",
       "      <td>51080</td>\n",
       "      <td>233909</td>\n",
       "      <td>-0.010461</td>\n",
       "    </tr>\n",
       "    <tr>\n",
       "      <th>2018-01-05</th>\n",
       "      <td>51300</td>\n",
       "      <td>52120</td>\n",
       "      <td>51200</td>\n",
       "      <td>52120</td>\n",
       "      <td>189623</td>\n",
       "      <td>0.020360</td>\n",
       "    </tr>\n",
       "    <tr>\n",
       "      <th>2018-01-08</th>\n",
       "      <td>52400</td>\n",
       "      <td>52520</td>\n",
       "      <td>51500</td>\n",
       "      <td>52020</td>\n",
       "      <td>167673</td>\n",
       "      <td>-0.001919</td>\n",
       "    </tr>\n",
       "    <tr>\n",
       "      <th>2018-01-09</th>\n",
       "      <td>51460</td>\n",
       "      <td>51720</td>\n",
       "      <td>49980</td>\n",
       "      <td>50400</td>\n",
       "      <td>360272</td>\n",
       "      <td>-0.031142</td>\n",
       "    </tr>\n",
       "    <tr>\n",
       "      <th>...</th>\n",
       "      <td>...</td>\n",
       "      <td>...</td>\n",
       "      <td>...</td>\n",
       "      <td>...</td>\n",
       "      <td>...</td>\n",
       "      <td>...</td>\n",
       "    </tr>\n",
       "    <tr>\n",
       "      <th>2019-12-23</th>\n",
       "      <td>56100</td>\n",
       "      <td>56400</td>\n",
       "      <td>55100</td>\n",
       "      <td>55500</td>\n",
       "      <td>9839252</td>\n",
       "      <td>-0.008929</td>\n",
       "    </tr>\n",
       "    <tr>\n",
       "      <th>2019-12-24</th>\n",
       "      <td>55600</td>\n",
       "      <td>55700</td>\n",
       "      <td>54800</td>\n",
       "      <td>55000</td>\n",
       "      <td>11868463</td>\n",
       "      <td>-0.009009</td>\n",
       "    </tr>\n",
       "    <tr>\n",
       "      <th>2019-12-26</th>\n",
       "      <td>54700</td>\n",
       "      <td>55400</td>\n",
       "      <td>54400</td>\n",
       "      <td>55400</td>\n",
       "      <td>9645034</td>\n",
       "      <td>0.007273</td>\n",
       "    </tr>\n",
       "    <tr>\n",
       "      <th>2019-12-27</th>\n",
       "      <td>55700</td>\n",
       "      <td>56900</td>\n",
       "      <td>55500</td>\n",
       "      <td>56500</td>\n",
       "      <td>12313056</td>\n",
       "      <td>0.019856</td>\n",
       "    </tr>\n",
       "    <tr>\n",
       "      <th>2019-12-30</th>\n",
       "      <td>56200</td>\n",
       "      <td>56600</td>\n",
       "      <td>55700</td>\n",
       "      <td>55800</td>\n",
       "      <td>8356767</td>\n",
       "      <td>-0.012389</td>\n",
       "    </tr>\n",
       "  </tbody>\n",
       "</table>\n",
       "<p>489 rows × 6 columns</p>\n",
       "</div>"
      ],
      "text/plain": [
       "             Open   High    Low  Close    Volume    Change\n",
       "Date                                                      \n",
       "2018-01-03  52540  52560  51420  51620    200270  0.011760\n",
       "2018-01-04  52120  52180  50640  51080    233909 -0.010461\n",
       "2018-01-05  51300  52120  51200  52120    189623  0.020360\n",
       "2018-01-08  52400  52520  51500  52020    167673 -0.001919\n",
       "2018-01-09  51460  51720  49980  50400    360272 -0.031142\n",
       "...           ...    ...    ...    ...       ...       ...\n",
       "2019-12-23  56100  56400  55100  55500   9839252 -0.008929\n",
       "2019-12-24  55600  55700  54800  55000  11868463 -0.009009\n",
       "2019-12-26  54700  55400  54400  55400   9645034  0.007273\n",
       "2019-12-27  55700  56900  55500  56500  12313056  0.019856\n",
       "2019-12-30  56200  56600  55700  55800   8356767 -0.012389\n",
       "\n",
       "[489 rows x 6 columns]"
      ]
     },
     "execution_count": 7,
     "metadata": {},
     "output_type": "execute_result"
    }
   ],
   "source": [
    "df_ss.info()\n",
    "df_ss"
   ]
  },
  {
   "cell_type": "code",
   "execution_count": 8,
   "id": "14626b34-3bbd-4d61-900c-7cdeb54cc3de",
   "metadata": {},
   "outputs": [
    {
     "data": {
      "text/plain": [
       "0"
      ]
     },
     "execution_count": 8,
     "metadata": {},
     "output_type": "execute_result"
    }
   ],
   "source": [
    "df_ss.isna().sum().sum()"
   ]
  },
  {
   "cell_type": "code",
   "execution_count": 9,
   "id": "4eac9209-1523-48b8-8a02-ae3e69564294",
   "metadata": {},
   "outputs": [
    {
     "data": {
      "text/plain": [
       "<matplotlib.legend.Legend at 0x1ce535752c8>"
      ]
     },
     "execution_count": 9,
     "metadata": {},
     "output_type": "execute_result"
    },
    {
     "data": {
      "image/png": "[encoded data removed]",
      "text/plain": [
       "<Figure size 648x432 with 1 Axes>"
      ]
     },
     "metadata": {
      "needs_background": "light"
     },
     "output_type": "display_data"
    }
   ],
   "source": [
    "# 원자료(종가)로 그리지 않는다. 종가 그대로 출력하면 다른 상품과 비교하기 어렵다. 예) 애플(140달러) - 삼성(78000) 차트에서 비교 불가\n",
    "plt.figure(figsize=(9, 6))\n",
    "# plt.subplot(2, 1, 1)\n",
    "plt.title('Samsung')\n",
    "plt.plot(df_ss.index, df_ss['Close'], label='samsung')\n",
    "plt.grid()\n",
    "plt.legend()"
   ]
  },
  {
   "cell_type": "markdown",
   "id": "db0a7769-03e2-4073-a5ab-08274d5cb33e",
   "metadata": {},
   "source": [
    "# 일간 변동률 계산"
   ]
  },
  {
   "cell_type": "code",
   "execution_count": 10,
   "id": "4b13dda1-4469-4118-b3ca-d867ac5b0c65",
   "metadata": {},
   "outputs": [
    {
     "data": {
      "text/html": [
       "<div>\n",
       "<style scoped>\n",
       "    .dataframe tbody tr th:only-of-type {\n",
       "        vertical-align: middle;\n",
       "    }\n",
       "\n",
       "    .dataframe tbody tr th {\n",
       "        vertical-align: top;\n",
       "    }\n",
       "\n",
       "    .dataframe thead th {\n",
       "        text-align: right;\n",
       "    }\n",
       "</style>\n",
       "<table border=\"1\" class=\"dataframe\">\n",
       "  <thead>\n",
       "    <tr style=\"text-align: right;\">\n",
       "      <th></th>\n",
       "      <th>Open</th>\n",
       "      <th>High</th>\n",
       "      <th>Low</th>\n",
       "      <th>Close</th>\n",
       "      <th>Volume</th>\n",
       "      <th>Change</th>\n",
       "      <th>Var_daily_price</th>\n",
       "      <th>Var_daily_ratio</th>\n",
       "      <th>Var_daily_ratio2</th>\n",
       "    </tr>\n",
       "    <tr>\n",
       "      <th>Date</th>\n",
       "      <th></th>\n",
       "      <th></th>\n",
       "      <th></th>\n",
       "      <th></th>\n",
       "      <th></th>\n",
       "      <th></th>\n",
       "      <th></th>\n",
       "      <th></th>\n",
       "      <th></th>\n",
       "    </tr>\n",
       "  </thead>\n",
       "  <tbody>\n",
       "    <tr>\n",
       "      <th>2018-01-03</th>\n",
       "      <td>52540</td>\n",
       "      <td>52560</td>\n",
       "      <td>51420</td>\n",
       "      <td>51620</td>\n",
       "      <td>200270</td>\n",
       "      <td>0.011760</td>\n",
       "      <td>NaN</td>\n",
       "      <td>NaN</td>\n",
       "      <td>NaN</td>\n",
       "    </tr>\n",
       "    <tr>\n",
       "      <th>2018-01-04</th>\n",
       "      <td>52120</td>\n",
       "      <td>52180</td>\n",
       "      <td>50640</td>\n",
       "      <td>51080</td>\n",
       "      <td>233909</td>\n",
       "      <td>-0.010461</td>\n",
       "      <td>-540.0</td>\n",
       "      <td>-1.046106</td>\n",
       "      <td>-1.046106</td>\n",
       "    </tr>\n",
       "    <tr>\n",
       "      <th>2018-01-05</th>\n",
       "      <td>51300</td>\n",
       "      <td>52120</td>\n",
       "      <td>51200</td>\n",
       "      <td>52120</td>\n",
       "      <td>189623</td>\n",
       "      <td>0.020360</td>\n",
       "      <td>1040.0</td>\n",
       "      <td>2.036022</td>\n",
       "      <td>2.036022</td>\n",
       "    </tr>\n",
       "    <tr>\n",
       "      <th>2018-01-08</th>\n",
       "      <td>52400</td>\n",
       "      <td>52520</td>\n",
       "      <td>51500</td>\n",
       "      <td>52020</td>\n",
       "      <td>167673</td>\n",
       "      <td>-0.001919</td>\n",
       "      <td>-100.0</td>\n",
       "      <td>-0.191865</td>\n",
       "      <td>-0.191865</td>\n",
       "    </tr>\n",
       "    <tr>\n",
       "      <th>2018-01-09</th>\n",
       "      <td>51460</td>\n",
       "      <td>51720</td>\n",
       "      <td>49980</td>\n",
       "      <td>50400</td>\n",
       "      <td>360272</td>\n",
       "      <td>-0.031142</td>\n",
       "      <td>-1620.0</td>\n",
       "      <td>-3.114187</td>\n",
       "      <td>-3.114187</td>\n",
       "    </tr>\n",
       "  </tbody>\n",
       "</table>\n",
       "</div>"
      ],
      "text/plain": [
       "             Open   High    Low  Close  Volume    Change  Var_daily_price  \\\n",
       "Date                                                                        \n",
       "2018-01-03  52540  52560  51420  51620  200270  0.011760              NaN   \n",
       "2018-01-04  52120  52180  50640  51080  233909 -0.010461           -540.0   \n",
       "2018-01-05  51300  52120  51200  52120  189623  0.020360           1040.0   \n",
       "2018-01-08  52400  52520  51500  52020  167673 -0.001919           -100.0   \n",
       "2018-01-09  51460  51720  49980  50400  360272 -0.031142          -1620.0   \n",
       "\n",
       "            Var_daily_ratio  Var_daily_ratio2  \n",
       "Date                                           \n",
       "2018-01-03              NaN               NaN  \n",
       "2018-01-04        -1.046106         -1.046106  \n",
       "2018-01-05         2.036022          2.036022  \n",
       "2018-01-08        -0.191865         -0.191865  \n",
       "2018-01-09        -3.114187         -3.114187  "
      ]
     },
     "execution_count": 10,
     "metadata": {},
     "output_type": "execute_result"
    }
   ],
   "source": [
    "# FinanceDataReader에는 변동률이 들어있다. 0.011760 이나 (공식의 *100인) 1.176009 이나 값이 아닌 비율이기 때문에 같다.\n",
    "\n",
    "# 변동률 계산방법 1\n",
    "last_day = df_ss['Close'].shift(1)\n",
    "today = df_ss['Close']\n",
    "df_ss['Var_daily_price']= today - last_day\n",
    "df_ss['Var_daily_ratio']= ((today- last_day)/last_day)*100\n",
    "\n",
    "# 변동률 계산방법 2\n",
    "df_ss['Var_daily_ratio2']= df_ss['Close'].pct_change(periods=1) * 100 \n",
    "\n",
    "df_ss.head()"
   ]
  },
  {
   "cell_type": "code",
   "execution_count": 11,
   "id": "1de9f7be-6349-4c2f-b7ea-e0ba6ab0b504",
   "metadata": {},
   "outputs": [
    {
     "data": {
      "text/plain": [
       "<matplotlib.legend.Legend at 0x1ce53746c88>"
      ]
     },
     "execution_count": 11,
     "metadata": {},
     "output_type": "execute_result"
    },
    {
     "data": {
      "image/png": "[encoded data removed]",
      "text/plain": [
       "<Figure size 648x432 with 1 Axes>"
      ]
     },
     "metadata": {
      "needs_background": "light"
     },
     "output_type": "display_data"
    }
   ],
   "source": [
    "# 이렇게 변동률 자체로 그리지도 않는다. -> 누적합을 구해 추이를 봐야한다.\n",
    "# 한주의 변동을 보려면 각 일자의 변동값을 모두 더하기 때문 (1 2 3 5 4)\n",
    "# 5일씩 구한다 -> 5일의 평균을 구한다는 의미 -> [1 2 3 4 5]일 경우 평균 3을 기준으로 한다.\n",
    "\n",
    "plt.figure(figsize=(9, 6))\n",
    "# plt.subplot(2, 1, 1)\n",
    "plt.title('Samsung')\n",
    "plt.plot(df_ss.index, df_ss['Var_daily_ratio'], label='samsung')\n",
    "plt.grid()\n",
    "plt.legend()"
   ]
  },
  {
   "cell_type": "code",
   "execution_count": 12,
   "id": "f237151a-9168-41f7-aea4-63e62b2cba17",
   "metadata": {},
   "outputs": [
    {
     "data": {
      "text/plain": [
       "<matplotlib.legend.Legend at 0x1ce537c68c8>"
      ]
     },
     "execution_count": 12,
     "metadata": {},
     "output_type": "execute_result"
    },
    {
     "data": {
      "image/png": "[encoded data removed]",
      "text/plain": [
       "<Figure size 648x432 with 1 Axes>"
      ]
     },
     "metadata": {
      "needs_background": "light"
     },
     "output_type": "display_data"
    }
   ],
   "source": [
    "plt.figure(figsize=(9, 6))\n",
    "# plt.subplot(2, 1, 1)\n",
    "plt.title('Samsung')\n",
    "plt.plot(df_ss.index, df_ss['Change'], label='samsung')\n",
    "plt.grid()\n",
    "plt.legend()"
   ]
  },
  {
   "cell_type": "markdown",
   "id": "f1b38b08-3c15-456b-89ce-c5db66605c0b",
   "metadata": {},
   "source": [
    "# 주가 상승/하락 추이 확인"
   ]
  },
  {
   "cell_type": "code",
   "execution_count": 13,
   "id": "c46293a5-e0cc-4b33-8d85-e9b2d7961d89",
   "metadata": {},
   "outputs": [
    {
     "data": {
      "text/plain": [
       "Date\n",
       "2018-01-03         NaN\n",
       "2018-01-04   -1.046106\n",
       "2018-01-05    0.989916\n",
       "2018-01-08    0.798051\n",
       "2018-01-09   -2.316136\n",
       "Name: Var_daily_ratio, dtype: float64"
      ]
     },
     "execution_count": 13,
     "metadata": {},
     "output_type": "execute_result"
    }
   ],
   "source": [
    "# 일간변동률 누적합\n",
    "df_ss['Var_daily_ratio'].cumsum()[:5]"
   ]
  },
  {
   "cell_type": "code",
   "execution_count": 14,
   "id": "cba05ed4-eb8c-4ae3-bd3e-d20994136203",
   "metadata": {},
   "outputs": [
    {
     "data": {
      "text/plain": [
       "<matplotlib.legend.Legend at 0x1ce53773188>"
      ]
     },
     "execution_count": 14,
     "metadata": {},
     "output_type": "execute_result"
    },
    {
     "data": {
      "image/png": "[encoded data removed]",
      "text/plain": [
       "<Figure size 648x432 with 1 Axes>"
      ]
     },
     "metadata": {
      "needs_background": "light"
     },
     "output_type": "display_data"
    }
   ],
   "source": [
    "plt.figure(figsize=(9, 6))\n",
    "# plt.subplot(2, 1, 1)\n",
    "plt.title('Samsung Elec.')\n",
    "plt.plot(df_ss.index, df_ss['Var_daily_ratio'].cumsum(), label='samsung')\n",
    "plt.legend()\n"
   ]
  },
  {
   "cell_type": "markdown",
   "id": "6addebf4-3f2c-4a1c-bd17-8092a6338791",
   "metadata": {},
   "source": [
    "### 이동평균선(이평선) 함수를 만든다.\n",
    " - N일의 주가지수의 평균 변동률\n",
    " - 이동평균선 : N일 동안의 주가의 평균 변동률을 이은 선"
   ]
  },
  {
   "cell_type": "code",
   "execution_count": 15,
   "id": "206bb529-0d25-4269-bd6a-a956ae74e191",
   "metadata": {},
   "outputs": [],
   "source": [
    "def daily_ratio(day=1): \n",
    "    df_ss['dayline_'+str(day)] = df_ss['Close'].rolling(day).mean()\n",
    "    \n",
    "# day: 5 => 5일 평균선인지. \n",
    "# 몇개씩 묶어와. 5개씩 묶어와 => rolling"
   ]
  },
  {
   "cell_type": "code",
   "execution_count": 16,
   "id": "e7daec3c-df4b-4e1c-961b-c34eaabb2f9d",
   "metadata": {},
   "outputs": [
    {
     "data": {
      "text/html": [
       "<div>\n",
       "<style scoped>\n",
       "    .dataframe tbody tr th:only-of-type {\n",
       "        vertical-align: middle;\n",
       "    }\n",
       "\n",
       "    .dataframe tbody tr th {\n",
       "        vertical-align: top;\n",
       "    }\n",
       "\n",
       "    .dataframe thead th {\n",
       "        text-align: right;\n",
       "    }\n",
       "</style>\n",
       "<table border=\"1\" class=\"dataframe\">\n",
       "  <thead>\n",
       "    <tr style=\"text-align: right;\">\n",
       "      <th></th>\n",
       "      <th>Open</th>\n",
       "      <th>High</th>\n",
       "      <th>Low</th>\n",
       "      <th>Close</th>\n",
       "      <th>Volume</th>\n",
       "      <th>Change</th>\n",
       "      <th>Var_daily_price</th>\n",
       "      <th>Var_daily_ratio</th>\n",
       "      <th>Var_daily_ratio2</th>\n",
       "    </tr>\n",
       "    <tr>\n",
       "      <th>Date</th>\n",
       "      <th></th>\n",
       "      <th></th>\n",
       "      <th></th>\n",
       "      <th></th>\n",
       "      <th></th>\n",
       "      <th></th>\n",
       "      <th></th>\n",
       "      <th></th>\n",
       "      <th></th>\n",
       "    </tr>\n",
       "  </thead>\n",
       "  <tbody>\n",
       "    <tr>\n",
       "      <th>2018-01-03</th>\n",
       "      <td>52540</td>\n",
       "      <td>52560</td>\n",
       "      <td>51420</td>\n",
       "      <td>51620</td>\n",
       "      <td>200270</td>\n",
       "      <td>0.011760</td>\n",
       "      <td>NaN</td>\n",
       "      <td>NaN</td>\n",
       "      <td>NaN</td>\n",
       "    </tr>\n",
       "    <tr>\n",
       "      <th>2018-01-04</th>\n",
       "      <td>52120</td>\n",
       "      <td>52180</td>\n",
       "      <td>50640</td>\n",
       "      <td>51080</td>\n",
       "      <td>233909</td>\n",
       "      <td>-0.010461</td>\n",
       "      <td>-540.0</td>\n",
       "      <td>-1.046106</td>\n",
       "      <td>-1.046106</td>\n",
       "    </tr>\n",
       "    <tr>\n",
       "      <th>2018-01-05</th>\n",
       "      <td>51300</td>\n",
       "      <td>52120</td>\n",
       "      <td>51200</td>\n",
       "      <td>52120</td>\n",
       "      <td>189623</td>\n",
       "      <td>0.020360</td>\n",
       "      <td>1040.0</td>\n",
       "      <td>2.036022</td>\n",
       "      <td>2.036022</td>\n",
       "    </tr>\n",
       "    <tr>\n",
       "      <th>2018-01-08</th>\n",
       "      <td>52400</td>\n",
       "      <td>52520</td>\n",
       "      <td>51500</td>\n",
       "      <td>52020</td>\n",
       "      <td>167673</td>\n",
       "      <td>-0.001919</td>\n",
       "      <td>-100.0</td>\n",
       "      <td>-0.191865</td>\n",
       "      <td>-0.191865</td>\n",
       "    </tr>\n",
       "    <tr>\n",
       "      <th>2018-01-09</th>\n",
       "      <td>51460</td>\n",
       "      <td>51720</td>\n",
       "      <td>49980</td>\n",
       "      <td>50400</td>\n",
       "      <td>360272</td>\n",
       "      <td>-0.031142</td>\n",
       "      <td>-1620.0</td>\n",
       "      <td>-3.114187</td>\n",
       "      <td>-3.114187</td>\n",
       "    </tr>\n",
       "    <tr>\n",
       "      <th>...</th>\n",
       "      <td>...</td>\n",
       "      <td>...</td>\n",
       "      <td>...</td>\n",
       "      <td>...</td>\n",
       "      <td>...</td>\n",
       "      <td>...</td>\n",
       "      <td>...</td>\n",
       "      <td>...</td>\n",
       "      <td>...</td>\n",
       "    </tr>\n",
       "    <tr>\n",
       "      <th>2019-12-23</th>\n",
       "      <td>56100</td>\n",
       "      <td>56400</td>\n",
       "      <td>55100</td>\n",
       "      <td>55500</td>\n",
       "      <td>9839252</td>\n",
       "      <td>-0.008929</td>\n",
       "      <td>-500.0</td>\n",
       "      <td>-0.892857</td>\n",
       "      <td>-0.892857</td>\n",
       "    </tr>\n",
       "    <tr>\n",
       "      <th>2019-12-24</th>\n",
       "      <td>55600</td>\n",
       "      <td>55700</td>\n",
       "      <td>54800</td>\n",
       "      <td>55000</td>\n",
       "      <td>11868463</td>\n",
       "      <td>-0.009009</td>\n",
       "      <td>-500.0</td>\n",
       "      <td>-0.900901</td>\n",
       "      <td>-0.900901</td>\n",
       "    </tr>\n",
       "    <tr>\n",
       "      <th>2019-12-26</th>\n",
       "      <td>54700</td>\n",
       "      <td>55400</td>\n",
       "      <td>54400</td>\n",
       "      <td>55400</td>\n",
       "      <td>9645034</td>\n",
       "      <td>0.007273</td>\n",
       "      <td>400.0</td>\n",
       "      <td>0.727273</td>\n",
       "      <td>0.727273</td>\n",
       "    </tr>\n",
       "    <tr>\n",
       "      <th>2019-12-27</th>\n",
       "      <td>55700</td>\n",
       "      <td>56900</td>\n",
       "      <td>55500</td>\n",
       "      <td>56500</td>\n",
       "      <td>12313056</td>\n",
       "      <td>0.019856</td>\n",
       "      <td>1100.0</td>\n",
       "      <td>1.985560</td>\n",
       "      <td>1.985560</td>\n",
       "    </tr>\n",
       "    <tr>\n",
       "      <th>2019-12-30</th>\n",
       "      <td>56200</td>\n",
       "      <td>56600</td>\n",
       "      <td>55700</td>\n",
       "      <td>55800</td>\n",
       "      <td>8356767</td>\n",
       "      <td>-0.012389</td>\n",
       "      <td>-700.0</td>\n",
       "      <td>-1.238938</td>\n",
       "      <td>-1.238938</td>\n",
       "    </tr>\n",
       "  </tbody>\n",
       "</table>\n",
       "<p>489 rows × 9 columns</p>\n",
       "</div>"
      ],
      "text/plain": [
       "             Open   High    Low  Close    Volume    Change  Var_daily_price  \\\n",
       "Date                                                                          \n",
       "2018-01-03  52540  52560  51420  51620    200270  0.011760              NaN   \n",
       "2018-01-04  52120  52180  50640  51080    233909 -0.010461           -540.0   \n",
       "2018-01-05  51300  52120  51200  52120    189623  0.020360           1040.0   \n",
       "2018-01-08  52400  52520  51500  52020    167673 -0.001919           -100.0   \n",
       "2018-01-09  51460  51720  49980  50400    360272 -0.031142          -1620.0   \n",
       "...           ...    ...    ...    ...       ...       ...              ...   \n",
       "2019-12-23  56100  56400  55100  55500   9839252 -0.008929           -500.0   \n",
       "2019-12-24  55600  55700  54800  55000  11868463 -0.009009           -500.0   \n",
       "2019-12-26  54700  55400  54400  55400   9645034  0.007273            400.0   \n",
       "2019-12-27  55700  56900  55500  56500  12313056  0.019856           1100.0   \n",
       "2019-12-30  56200  56600  55700  55800   8356767 -0.012389           -700.0   \n",
       "\n",
       "            Var_daily_ratio  Var_daily_ratio2  \n",
       "Date                                           \n",
       "2018-01-03              NaN               NaN  \n",
       "2018-01-04        -1.046106         -1.046106  \n",
       "2018-01-05         2.036022          2.036022  \n",
       "2018-01-08        -0.191865         -0.191865  \n",
       "2018-01-09        -3.114187         -3.114187  \n",
       "...                     ...               ...  \n",
       "2019-12-23        -0.892857         -0.892857  \n",
       "2019-12-24        -0.900901         -0.900901  \n",
       "2019-12-26         0.727273          0.727273  \n",
       "2019-12-27         1.985560          1.985560  \n",
       "2019-12-30        -1.238938         -1.238938  \n",
       "\n",
       "[489 rows x 9 columns]"
      ]
     },
     "execution_count": 16,
     "metadata": {},
     "output_type": "execute_result"
    }
   ],
   "source": [
    "df_ss"
   ]
  },
  {
   "cell_type": "code",
   "execution_count": 17,
   "id": "83258ee3-6bfd-410d-a081-0332636133cd",
   "metadata": {},
   "outputs": [],
   "source": [
    "n_list = [3,5,10]\n",
    "for n in n_list:\n",
    "    daily_ratio(n)"
   ]
  },
  {
   "cell_type": "code",
   "execution_count": 18,
   "id": "ceeb513d-7c26-4b57-a441-c152c4b3d60a",
   "metadata": {},
   "outputs": [
    {
     "data": {
      "image/png": "[encoded data removed]",
      "text/plain": [
       "<Figure size 432x288 with 1 Axes>"
      ]
     },
     "metadata": {
      "needs_background": "light"
     },
     "output_type": "display_data"
    }
   ],
   "source": [
    "# myplot(df_ss[f'dayline_{5}']) # 5일 평균선\n",
    "# myplot(df_ss[['Close','dayline_5','dayline_10']],title='이동평균선', labels=['종가','5일평균선','10일평균선']) \n",
    "# 100건만 가져오기\n",
    "myplot(df_ss.iloc[:100][['Close','dayline_5','dayline_10']],title='이동평균선', labels=['종가','5일평균선','10일평균선']) "
   ]
  },
  {
   "cell_type": "code",
   "execution_count": 19,
   "id": "b3212340-ef2e-4f2c-ba2e-eac0570bb64f",
   "metadata": {},
   "outputs": [],
   "source": [
    "# 이평선은 변동성이 완화된 것처럼 보인다."
   ]
  },
  {
   "cell_type": "markdown",
   "id": "c90be18f-7400-4c4c-9add-d832ff779ae0",
   "metadata": {},
   "source": [
    "### 이동변동가(지수)"
   ]
  },
  {
   "cell_type": "code",
   "execution_count": 20,
   "id": "3b103ea1-debe-4885-93c9-16f937730a51",
   "metadata": {},
   "outputs": [],
   "source": [
    "def price_change(day=1): # 변동지수 / 가격변동\n",
    "    df_ss[f'chg_{day}']= df_ss['Close'].pct_change(periods=day) * 100"
   ]
  },
  {
   "cell_type": "code",
   "execution_count": 21,
   "id": "83636f95-ffd2-4deb-8633-389d9b3dbc24",
   "metadata": {},
   "outputs": [],
   "source": [
    "n=3 # 3일치 (지금 기준, 이틀 전의 값 불러오기)\n",
    "price_change(n)"
   ]
  },
  {
   "cell_type": "code",
   "execution_count": 22,
   "id": "4435cbb4-b010-4116-960d-6d46d07f35c4",
   "metadata": {},
   "outputs": [
    {
     "data": {
      "text/html": [
       "<div>\n",
       "<style scoped>\n",
       "    .dataframe tbody tr th:only-of-type {\n",
       "        vertical-align: middle;\n",
       "    }\n",
       "\n",
       "    .dataframe tbody tr th {\n",
       "        vertical-align: top;\n",
       "    }\n",
       "\n",
       "    .dataframe thead th {\n",
       "        text-align: right;\n",
       "    }\n",
       "</style>\n",
       "<table border=\"1\" class=\"dataframe\">\n",
       "  <thead>\n",
       "    <tr style=\"text-align: right;\">\n",
       "      <th></th>\n",
       "      <th>Open</th>\n",
       "      <th>High</th>\n",
       "      <th>Low</th>\n",
       "      <th>Close</th>\n",
       "      <th>Volume</th>\n",
       "      <th>Change</th>\n",
       "      <th>Var_daily_price</th>\n",
       "      <th>Var_daily_ratio</th>\n",
       "      <th>Var_daily_ratio2</th>\n",
       "      <th>dayline_3</th>\n",
       "      <th>dayline_5</th>\n",
       "      <th>dayline_10</th>\n",
       "      <th>chg_3</th>\n",
       "    </tr>\n",
       "    <tr>\n",
       "      <th>Date</th>\n",
       "      <th></th>\n",
       "      <th></th>\n",
       "      <th></th>\n",
       "      <th></th>\n",
       "      <th></th>\n",
       "      <th></th>\n",
       "      <th></th>\n",
       "      <th></th>\n",
       "      <th></th>\n",
       "      <th></th>\n",
       "      <th></th>\n",
       "      <th></th>\n",
       "      <th></th>\n",
       "    </tr>\n",
       "  </thead>\n",
       "  <tbody>\n",
       "    <tr>\n",
       "      <th>2018-01-03</th>\n",
       "      <td>52540</td>\n",
       "      <td>52560</td>\n",
       "      <td>51420</td>\n",
       "      <td>51620</td>\n",
       "      <td>200270</td>\n",
       "      <td>0.011760</td>\n",
       "      <td>NaN</td>\n",
       "      <td>NaN</td>\n",
       "      <td>NaN</td>\n",
       "      <td>NaN</td>\n",
       "      <td>NaN</td>\n",
       "      <td>NaN</td>\n",
       "      <td>NaN</td>\n",
       "    </tr>\n",
       "    <tr>\n",
       "      <th>2018-01-04</th>\n",
       "      <td>52120</td>\n",
       "      <td>52180</td>\n",
       "      <td>50640</td>\n",
       "      <td>51080</td>\n",
       "      <td>233909</td>\n",
       "      <td>-0.010461</td>\n",
       "      <td>-540.0</td>\n",
       "      <td>-1.046106</td>\n",
       "      <td>-1.046106</td>\n",
       "      <td>NaN</td>\n",
       "      <td>NaN</td>\n",
       "      <td>NaN</td>\n",
       "      <td>NaN</td>\n",
       "    </tr>\n",
       "    <tr>\n",
       "      <th>2018-01-05</th>\n",
       "      <td>51300</td>\n",
       "      <td>52120</td>\n",
       "      <td>51200</td>\n",
       "      <td>52120</td>\n",
       "      <td>189623</td>\n",
       "      <td>0.020360</td>\n",
       "      <td>1040.0</td>\n",
       "      <td>2.036022</td>\n",
       "      <td>2.036022</td>\n",
       "      <td>51606.666667</td>\n",
       "      <td>NaN</td>\n",
       "      <td>NaN</td>\n",
       "      <td>NaN</td>\n",
       "    </tr>\n",
       "    <tr>\n",
       "      <th>2018-01-08</th>\n",
       "      <td>52400</td>\n",
       "      <td>52520</td>\n",
       "      <td>51500</td>\n",
       "      <td>52020</td>\n",
       "      <td>167673</td>\n",
       "      <td>-0.001919</td>\n",
       "      <td>-100.0</td>\n",
       "      <td>-0.191865</td>\n",
       "      <td>-0.191865</td>\n",
       "      <td>51740.000000</td>\n",
       "      <td>NaN</td>\n",
       "      <td>NaN</td>\n",
       "      <td>0.774893</td>\n",
       "    </tr>\n",
       "    <tr>\n",
       "      <th>2018-01-09</th>\n",
       "      <td>51460</td>\n",
       "      <td>51720</td>\n",
       "      <td>49980</td>\n",
       "      <td>50400</td>\n",
       "      <td>360272</td>\n",
       "      <td>-0.031142</td>\n",
       "      <td>-1620.0</td>\n",
       "      <td>-3.114187</td>\n",
       "      <td>-3.114187</td>\n",
       "      <td>51513.333333</td>\n",
       "      <td>51448.0</td>\n",
       "      <td>NaN</td>\n",
       "      <td>-1.331245</td>\n",
       "    </tr>\n",
       "  </tbody>\n",
       "</table>\n",
       "</div>"
      ],
      "text/plain": [
       "             Open   High    Low  Close  Volume    Change  Var_daily_price  \\\n",
       "Date                                                                        \n",
       "2018-01-03  52540  52560  51420  51620  200270  0.011760              NaN   \n",
       "2018-01-04  52120  52180  50640  51080  233909 -0.010461           -540.0   \n",
       "2018-01-05  51300  52120  51200  52120  189623  0.020360           1040.0   \n",
       "2018-01-08  52400  52520  51500  52020  167673 -0.001919           -100.0   \n",
       "2018-01-09  51460  51720  49980  50400  360272 -0.031142          -1620.0   \n",
       "\n",
       "            Var_daily_ratio  Var_daily_ratio2     dayline_3  dayline_5  \\\n",
       "Date                                                                     \n",
       "2018-01-03              NaN               NaN           NaN        NaN   \n",
       "2018-01-04        -1.046106         -1.046106           NaN        NaN   \n",
       "2018-01-05         2.036022          2.036022  51606.666667        NaN   \n",
       "2018-01-08        -0.191865         -0.191865  51740.000000        NaN   \n",
       "2018-01-09        -3.114187         -3.114187  51513.333333    51448.0   \n",
       "\n",
       "            dayline_10     chg_3  \n",
       "Date                              \n",
       "2018-01-03         NaN       NaN  \n",
       "2018-01-04         NaN       NaN  \n",
       "2018-01-05         NaN       NaN  \n",
       "2018-01-08         NaN  0.774893  \n",
       "2018-01-09         NaN -1.331245  "
      ]
     },
     "execution_count": 22,
     "metadata": {},
     "output_type": "execute_result"
    }
   ],
   "source": [
    "df_ss.head()"
   ]
  },
  {
   "cell_type": "markdown",
   "id": "1313fa0d-4c4f-4d97-99b2-03782e6c4642",
   "metadata": {},
   "source": [
    "### 수익률 구하기\n",
    "- 가격 변동을 보고, 오늘 기준으로 N일과 비교해서 증감 금액 구하기"
   ]
  },
  {
   "cell_type": "markdown",
   "id": "ed3e6f94-0bbc-45b7-949e-7175447c7f0e",
   "metadata": {},
   "source": [
    "### 보유기간수익률\n",
    "- 투자자산을 보유한 기간동안 몇 %의 수익률을 올렸는지를 측정하는 것으로 단순한 성과 비교용으로 사용\n",
    "- 보유기간수익률(%) = [{기말의 투자자산(매도가) / 기초의 투자자산(매수가)} -1 ] * 100"
   ]
  },
  {
   "cell_type": "code",
   "execution_count": 23,
   "id": "bad95093-53ca-4879-b539-6007eb67eaf8",
   "metadata": {},
   "outputs": [
    {
     "data": {
      "text/plain": [
       "(Timestamp('2019-12-30 00:00:00'), Timestamp('2018-01-03 00:00:00'))"
      ]
     },
     "execution_count": 23,
     "metadata": {},
     "output_type": "execute_result"
    }
   ],
   "source": [
    "df_ss.index.max(), df_ss.index.min()"
   ]
  },
  {
   "cell_type": "code",
   "execution_count": 24,
   "id": "17679f3a-5e8e-4ff4-a8e2-c3532e2699eb",
   "metadata": {},
   "outputs": [],
   "source": [
    "# # 보유기간수익률 1년 계산하기\n",
    "# from datetime import datetime, timedelta\n",
    "# start = pd.to_datetime('2018-01-02') # 1년: 252일로 가정 오늘날짜는 어떻게 구하는지\n",
    "# today = start + timedelta(days=364)\n"
   ]
  },
  {
   "cell_type": "code",
   "execution_count": 25,
   "id": "363eae50-a407-4fd3-89b2-27114a806d09",
   "metadata": {},
   "outputs": [
    {
     "name": "stdout",
     "output_type": "stream",
     "text": [
      "기초 매수가 51620\n",
      "기말 매도가 41100\n",
      "-20.379697791553664\n"
     ]
    }
   ],
   "source": [
    "# 강사님 코드 수정(강사님 노트북 확인 필요, 결과값이 다름 - 시작날짜가 다름)\n",
    "\n",
    "start_price = int(df_ss.loc[df_ss.index.min(),'Close'])\n",
    "today_price = int(df_ss.iloc[252:253]['Close']) # 강사님은 252:253인데 다른 이유?\n",
    "print('기초 매수가',start_price)\n",
    "print('기말 매도가',today_price)\n",
    "\n",
    "보유기간수익률 = (today_price/start_price-1)*100\n",
    "print(보유기간수익률)"
   ]
  },
  {
   "cell_type": "markdown",
   "id": "85564782-cb46-48ba-a76e-bcee49df6f80",
   "metadata": {},
   "source": [
    "### 연간 보유기간 수익률 - 기하평균\n"
   ]
  },
  {
   "cell_type": "code",
   "execution_count": 26,
   "id": "a859892d-781c-4a7c-b3b9-4fae998c67ad",
   "metadata": {},
   "outputs": [
    {
     "data": {
      "text/plain": [
       "0.29"
      ]
     },
     "execution_count": 26,
     "metadata": {},
     "output_type": "execute_result"
    }
   ],
   "source": [
    "# 블로그 예시로 보유기간 수익률 계산\n",
    "\n",
    "기초투자금 = 5000  #3년전\n",
    "연간배당금 = [250,300,400] # 1년차,2년차,3년차\n",
    "기말투자금 = 5500\n",
    "\n",
    "배당수익금 = np.sum(연간배당금)\n",
    "보유기간수익률 = (배당수익금 + (기말투자금-기초투자금)) / 기초투자금\n",
    "보유기간수익률 # 0.29  = 29%"
   ]
  },
  {
   "cell_type": "code",
   "execution_count": null,
   "id": "4d5d74cb-c3d9-45e7-86a8-d037d526b5fe",
   "metadata": {},
   "outputs": [],
   "source": []
  },
  {
   "cell_type": "markdown",
   "id": "b8eb44a1-4d3e-4685-b887-bbe87c5b4142",
   "metadata": {},
   "source": [
    "### 기대수익률\n",
    "- 기대수익률 = 호황 * 수익률 + 보통 * 수익률 + 불황 * 수익률"
   ]
  },
  {
   "cell_type": "code",
   "execution_count": 27,
   "id": "1ea319de-f5f7-4ca8-88de-e9b54885a96b",
   "metadata": {},
   "outputs": [
    {
     "name": "stdout",
     "output_type": "stream",
     "text": [
      "0.08\n"
     ]
    }
   ],
   "source": [
    "# parameter 호황 30% 보통 40% 불황 30%  / 예상주가 12000 10800 9600 / 수익률 20% 8% -4%\n",
    "# 두 리스트 요소 연산하기 zip(리스트1,리스트2)\n",
    "\n",
    "경기상황 = [30/100, 40/100, 30/100]\n",
    "수익률 = [0.2,0.08,-0.04]\n",
    "기대수익률 = np.sum([i * j for i, j in zip(경기상황, 수익률)])    \n",
    "print(기대수익률)"
   ]
  },
  {
   "cell_type": "code",
   "execution_count": 28,
   "id": "45a51b27-d39a-4cdd-b966-db5d620045ab",
   "metadata": {},
   "outputs": [],
   "source": [
    "# # 또는 for문\n",
    "# 기대수익률 = 0\n",
    "# for i in range(0,len(prices)):\n",
    "#     기대수익률 = 기대수익률 + 경기상황[i] * 수익률[i]\n",
    "# 기대수익률"
   ]
  },
  {
   "cell_type": "code",
   "execution_count": 29,
   "id": "7976bca0-edba-4a47-b403-d3a74da607ba",
   "metadata": {},
   "outputs": [
    {
     "data": {
      "text/plain": [
       "0.3333333333333333"
      ]
     },
     "execution_count": 29,
     "metadata": {},
     "output_type": "execute_result"
    }
   ],
   "source": [
    "# 또는 np.array np.dot ( 강사님 코드 보기편하게 수정 : 강사님 결과와 동일함. 근데 왜 0.33333? )\n",
    "\n",
    "price = np.array([12000, 10800, 9600])\n",
    "eco_rate = np.array([30/100 , 40/100 , 30/100])\n",
    "\n",
    "price_sum = np.sum(price)\n",
    "price_weight = np.array(price/price_sum)\n",
    "# eco_rate = eco_rate.reshape(-1,1)\n",
    "기대수익률 = np.dot(price_weight, eco_rate)\n",
    "기대수익률"
   ]
  },
  {
   "cell_type": "code",
   "execution_count": 30,
   "id": "30f42f3e-227d-4a39-9e9c-55ee1abbf854",
   "metadata": {},
   "outputs": [
    {
     "name": "stdout",
     "output_type": "stream",
     "text": [
      "[0.33333333] [0.33333333]\n"
     ]
    }
   ],
   "source": [
    "price = [12000, 10800, 9600]\n",
    "price_sum = np.array(price).sum()\n",
    "\n",
    "price_weight = [12000/price_sum, 10800/price_sum, 9600/price_sum]\n",
    "eco_rate = [30/100 , 40/100 , 30/100]\n",
    "\n",
    "\n",
    "price_weight = np.array(price_weight)\n",
    "eco_rate = np.array(eco_rate).reshape(-1,1)\n",
    "기대수익률1 = np.dot(price_weight, eco_rate)\n",
    "\n",
    "기대수익률2 = (eco_rate[0]*price_weight[0])  + (eco_rate[1]*price_weight[1])  + (eco_rate[2]*price_weight[2])\n",
    "print(기대수익률1, 기대수익률2)"
   ]
  },
  {
   "cell_type": "markdown",
   "id": "9f9bac57-635f-4aa5-8ca7-f186db1c811b",
   "metadata": {},
   "source": [
    "### 가중평균수익률\n",
    "- 개별 자산들을 하나로 묶은 전체 포트폴리오(주식, 채권, 부동산 등)의 수익률\n",
    "- 각 자산별 기대수익률의 총 합"
   ]
  },
  {
   "cell_type": "code",
   "execution_count": 31,
   "id": "1ec5e834-5c4a-4ed2-8d59-420ee01ef4ac",
   "metadata": {},
   "outputs": [],
   "source": [
    "# 각 자산 기대수익률\n",
    "# 투자대상 = [주식펀드,채권펀드,부동산투자신탁] / 기초투자금 = [4000,4000,2000,10000] / 기말투자금액 = [5000,4200,2200,11400]\n",
    "# / 연간수익률 = (기말/기초-1)*100 = [25%,5%,10%,-] / 가중수익률 = 기초투자금액 * 연간수익률\n",
    "\n",
    "# 정리하면\n",
    "# 연간수익률 = ((기말/기초) -1) * 100\n",
    "# 가중수익률 = 기초 * 연간수익률 = (기말 - 기초) * 100"
   ]
  },
  {
   "cell_type": "code",
   "execution_count": 32,
   "id": "3b5047a6-6161-4810-8344-5e9196789ccb",
   "metadata": {},
   "outputs": [
    {
     "data": {
      "text/plain": [
       "[100000, 20000, 20000, 140000]"
      ]
     },
     "execution_count": 32,
     "metadata": {},
     "output_type": "execute_result"
    }
   ],
   "source": [
    "기초투자금 = [4000,4000,2000,10000] \n",
    "기말투자금 = [5000,4200,2200,11400]\n",
    "연말수익률 = [(j/i-1)*100 for i,j in zip(기초투자금,기말투자금)]\n",
    "가중수익률 = [(j-i)*100 for i,j in zip(기초투자금,기말투자금)]\n",
    "가중수익률"
   ]
  },
  {
   "cell_type": "code",
   "execution_count": 33,
   "id": "46b69e28-36a6-41ef-8f65-3984fb0de4c0",
   "metadata": {},
   "outputs": [
    {
     "data": {
      "text/plain": [
       "[25.0, 5.000000000000004, 10.000000000000009, 13.99999999999999]"
      ]
     },
     "execution_count": 33,
     "metadata": {},
     "output_type": "execute_result"
    }
   ],
   "source": [
    "연말수익률"
   ]
  },
  {
   "cell_type": "code",
   "execution_count": 34,
   "id": "d7d8a4a9-5662-4f97-8f96-caabe471d4ef",
   "metadata": {},
   "outputs": [
    {
     "data": {
      "text/plain": [
       "[10.0, 2.0, 2.0, 0.0]"
      ]
     },
     "execution_count": 34,
     "metadata": {},
     "output_type": "execute_result"
    }
   ],
   "source": [
    "연말수익률 = [0.25, 0.05, 0.1, 0]\n",
    "가중수익률 = [i*j/100 for i,j in zip(기초투자금,연말수익률)]\n",
    "가중수익률"
   ]
  },
  {
   "cell_type": "markdown",
   "id": "060d9007-f491-4ff4-bc0c-3f135746b4f9",
   "metadata": {},
   "source": [
    "# 변동계수"
   ]
  },
  {
   "cell_type": "code",
   "execution_count": 35,
   "id": "509e3f5f-9284-4dbf-a030-6db390fd3edd",
   "metadata": {},
   "outputs": [
    {
     "data": {
      "text/plain": [
       "0.07742367927506001"
      ]
     },
     "execution_count": 35,
     "metadata": {},
     "output_type": "execute_result"
    }
   ],
   "source": [
    "변동계수 = df_ss.loc['2018-01-03':,'Close'].std() / df_ss.loc['2018-01-03':,'Close'].mean()\n",
    "변동계수"
   ]
  },
  {
   "cell_type": "code",
   "execution_count": 36,
   "id": "a3ea91de-0498-4600-9919-c4ec575e90db",
   "metadata": {},
   "outputs": [
    {
     "data": {
      "text/html": [
       "<div>\n",
       "<style scoped>\n",
       "    .dataframe tbody tr th:only-of-type {\n",
       "        vertical-align: middle;\n",
       "    }\n",
       "\n",
       "    .dataframe tbody tr th {\n",
       "        vertical-align: top;\n",
       "    }\n",
       "\n",
       "    .dataframe thead th {\n",
       "        text-align: right;\n",
       "    }\n",
       "</style>\n",
       "<table border=\"1\" class=\"dataframe\">\n",
       "  <thead>\n",
       "    <tr style=\"text-align: right;\">\n",
       "      <th></th>\n",
       "      <th>Open</th>\n",
       "      <th>High</th>\n",
       "      <th>Low</th>\n",
       "      <th>Close</th>\n",
       "      <th>Volume</th>\n",
       "      <th>Change</th>\n",
       "      <th>Var_daily_price</th>\n",
       "      <th>Var_daily_ratio</th>\n",
       "      <th>Var_daily_ratio2</th>\n",
       "      <th>dayline_3</th>\n",
       "      <th>dayline_5</th>\n",
       "      <th>dayline_10</th>\n",
       "      <th>chg_3</th>\n",
       "    </tr>\n",
       "    <tr>\n",
       "      <th>Date</th>\n",
       "      <th></th>\n",
       "      <th></th>\n",
       "      <th></th>\n",
       "      <th></th>\n",
       "      <th></th>\n",
       "      <th></th>\n",
       "      <th></th>\n",
       "      <th></th>\n",
       "      <th></th>\n",
       "      <th></th>\n",
       "      <th></th>\n",
       "      <th></th>\n",
       "      <th></th>\n",
       "    </tr>\n",
       "  </thead>\n",
       "  <tbody>\n",
       "    <tr>\n",
       "      <th>2018-01-03</th>\n",
       "      <td>52540</td>\n",
       "      <td>52560</td>\n",
       "      <td>51420</td>\n",
       "      <td>51620</td>\n",
       "      <td>200270</td>\n",
       "      <td>0.011760</td>\n",
       "      <td>NaN</td>\n",
       "      <td>NaN</td>\n",
       "      <td>NaN</td>\n",
       "      <td>NaN</td>\n",
       "      <td>NaN</td>\n",
       "      <td>NaN</td>\n",
       "      <td>NaN</td>\n",
       "    </tr>\n",
       "    <tr>\n",
       "      <th>2018-01-04</th>\n",
       "      <td>52120</td>\n",
       "      <td>52180</td>\n",
       "      <td>50640</td>\n",
       "      <td>51080</td>\n",
       "      <td>233909</td>\n",
       "      <td>-0.010461</td>\n",
       "      <td>-540.0</td>\n",
       "      <td>-1.046106</td>\n",
       "      <td>-1.046106</td>\n",
       "      <td>NaN</td>\n",
       "      <td>NaN</td>\n",
       "      <td>NaN</td>\n",
       "      <td>NaN</td>\n",
       "    </tr>\n",
       "    <tr>\n",
       "      <th>2018-01-05</th>\n",
       "      <td>51300</td>\n",
       "      <td>52120</td>\n",
       "      <td>51200</td>\n",
       "      <td>52120</td>\n",
       "      <td>189623</td>\n",
       "      <td>0.020360</td>\n",
       "      <td>1040.0</td>\n",
       "      <td>2.036022</td>\n",
       "      <td>2.036022</td>\n",
       "      <td>51606.666667</td>\n",
       "      <td>NaN</td>\n",
       "      <td>NaN</td>\n",
       "      <td>NaN</td>\n",
       "    </tr>\n",
       "    <tr>\n",
       "      <th>2018-01-08</th>\n",
       "      <td>52400</td>\n",
       "      <td>52520</td>\n",
       "      <td>51500</td>\n",
       "      <td>52020</td>\n",
       "      <td>167673</td>\n",
       "      <td>-0.001919</td>\n",
       "      <td>-100.0</td>\n",
       "      <td>-0.191865</td>\n",
       "      <td>-0.191865</td>\n",
       "      <td>51740.000000</td>\n",
       "      <td>NaN</td>\n",
       "      <td>NaN</td>\n",
       "      <td>0.774893</td>\n",
       "    </tr>\n",
       "    <tr>\n",
       "      <th>2018-01-09</th>\n",
       "      <td>51460</td>\n",
       "      <td>51720</td>\n",
       "      <td>49980</td>\n",
       "      <td>50400</td>\n",
       "      <td>360272</td>\n",
       "      <td>-0.031142</td>\n",
       "      <td>-1620.0</td>\n",
       "      <td>-3.114187</td>\n",
       "      <td>-3.114187</td>\n",
       "      <td>51513.333333</td>\n",
       "      <td>51448.0</td>\n",
       "      <td>NaN</td>\n",
       "      <td>-1.331245</td>\n",
       "    </tr>\n",
       "  </tbody>\n",
       "</table>\n",
       "</div>"
      ],
      "text/plain": [
       "             Open   High    Low  Close  Volume    Change  Var_daily_price  \\\n",
       "Date                                                                        \n",
       "2018-01-03  52540  52560  51420  51620  200270  0.011760              NaN   \n",
       "2018-01-04  52120  52180  50640  51080  233909 -0.010461           -540.0   \n",
       "2018-01-05  51300  52120  51200  52120  189623  0.020360           1040.0   \n",
       "2018-01-08  52400  52520  51500  52020  167673 -0.001919           -100.0   \n",
       "2018-01-09  51460  51720  49980  50400  360272 -0.031142          -1620.0   \n",
       "\n",
       "            Var_daily_ratio  Var_daily_ratio2     dayline_3  dayline_5  \\\n",
       "Date                                                                     \n",
       "2018-01-03              NaN               NaN           NaN        NaN   \n",
       "2018-01-04        -1.046106         -1.046106           NaN        NaN   \n",
       "2018-01-05         2.036022          2.036022  51606.666667        NaN   \n",
       "2018-01-08        -0.191865         -0.191865  51740.000000        NaN   \n",
       "2018-01-09        -3.114187         -3.114187  51513.333333    51448.0   \n",
       "\n",
       "            dayline_10     chg_3  \n",
       "Date                              \n",
       "2018-01-03         NaN       NaN  \n",
       "2018-01-04         NaN       NaN  \n",
       "2018-01-05         NaN       NaN  \n",
       "2018-01-08         NaN  0.774893  \n",
       "2018-01-09         NaN -1.331245  "
      ]
     },
     "execution_count": 36,
     "metadata": {},
     "output_type": "execute_result"
    }
   ],
   "source": [
    "df_ss.head()"
   ]
  },
  {
   "cell_type": "markdown",
   "id": "fb958568-12a0-484e-a1fd-02f732bee4cf",
   "metadata": {},
   "source": [
    "# NN 모델 예측\n",
    " - 계산은 수익률"
   ]
  },
  {
   "cell_type": "code",
   "execution_count": 37,
   "id": "083000fa-7ffb-4d42-9918-1a8db1a58019",
   "metadata": {},
   "outputs": [
    {
     "data": {
      "text/plain": [
       "Open                0\n",
       "High                0\n",
       "Low                 0\n",
       "Close               0\n",
       "Volume              0\n",
       "Change              0\n",
       "Var_daily_price     1\n",
       "Var_daily_ratio     1\n",
       "Var_daily_ratio2    1\n",
       "dayline_3           2\n",
       "dayline_5           4\n",
       "dayline_10          9\n",
       "chg_3               3\n",
       "dtype: int64"
      ]
     },
     "execution_count": 37,
     "metadata": {},
     "output_type": "execute_result"
    }
   ],
   "source": [
    "df_ss.isna().sum()"
   ]
  },
  {
   "cell_type": "code",
   "execution_count": 38,
   "id": "a93c8f97-2f54-41df-ad9c-589c31afda5b",
   "metadata": {},
   "outputs": [],
   "source": [
    "df_ss.drop(['Volume','Change','dayline_10','Var_daily_ratio2'], axis=1, inplace=True)"
   ]
  },
  {
   "cell_type": "code",
   "execution_count": 39,
   "id": "1c99b0a5-e4ba-458c-9edc-8e091b955a66",
   "metadata": {},
   "outputs": [],
   "source": [
    "df_ss.dropna(axis=0,inplace=True)"
   ]
  },
  {
   "cell_type": "code",
   "execution_count": 40,
   "id": "2d6522c1-5db5-468e-99e9-63a6cc9981a1",
   "metadata": {},
   "outputs": [],
   "source": [
    "y = df_ss['Close']\n",
    "X = df_ss.drop('Close',axis=1)"
   ]
  },
  {
   "cell_type": "code",
   "execution_count": 41,
   "id": "5ccfd08c-e7ba-490d-b128-e90392544b77",
   "metadata": {},
   "outputs": [
    {
     "data": {
      "text/html": [
       "<div>\n",
       "<style scoped>\n",
       "    .dataframe tbody tr th:only-of-type {\n",
       "        vertical-align: middle;\n",
       "    }\n",
       "\n",
       "    .dataframe tbody tr th {\n",
       "        vertical-align: top;\n",
       "    }\n",
       "\n",
       "    .dataframe thead th {\n",
       "        text-align: right;\n",
       "    }\n",
       "</style>\n",
       "<table border=\"1\" class=\"dataframe\">\n",
       "  <thead>\n",
       "    <tr style=\"text-align: right;\">\n",
       "      <th></th>\n",
       "      <th>Open</th>\n",
       "      <th>High</th>\n",
       "      <th>Low</th>\n",
       "      <th>Var_daily_price</th>\n",
       "      <th>Var_daily_ratio</th>\n",
       "      <th>dayline_3</th>\n",
       "      <th>dayline_5</th>\n",
       "      <th>chg_3</th>\n",
       "    </tr>\n",
       "    <tr>\n",
       "      <th>Date</th>\n",
       "      <th></th>\n",
       "      <th></th>\n",
       "      <th></th>\n",
       "      <th></th>\n",
       "      <th></th>\n",
       "      <th></th>\n",
       "      <th></th>\n",
       "      <th></th>\n",
       "    </tr>\n",
       "  </thead>\n",
       "  <tbody>\n",
       "    <tr>\n",
       "      <th>2018-01-09</th>\n",
       "      <td>51460</td>\n",
       "      <td>51720</td>\n",
       "      <td>49980</td>\n",
       "      <td>-1620.0</td>\n",
       "      <td>-3.114187</td>\n",
       "      <td>51513.333333</td>\n",
       "      <td>51448.0</td>\n",
       "      <td>-1.331245</td>\n",
       "    </tr>\n",
       "    <tr>\n",
       "      <th>2018-01-10</th>\n",
       "      <td>50500</td>\n",
       "      <td>50520</td>\n",
       "      <td>48640</td>\n",
       "      <td>-1560.0</td>\n",
       "      <td>-3.095238</td>\n",
       "      <td>50420.000000</td>\n",
       "      <td>50892.0</td>\n",
       "      <td>-6.293170</td>\n",
       "    </tr>\n",
       "    <tr>\n",
       "      <th>2018-01-11</th>\n",
       "      <td>48200</td>\n",
       "      <td>49260</td>\n",
       "      <td>48020</td>\n",
       "      <td>-600.0</td>\n",
       "      <td>-1.228501</td>\n",
       "      <td>49160.000000</td>\n",
       "      <td>50324.0</td>\n",
       "      <td>-7.266436</td>\n",
       "    </tr>\n",
       "    <tr>\n",
       "      <th>2018-01-12</th>\n",
       "      <td>48240</td>\n",
       "      <td>48480</td>\n",
       "      <td>46760</td>\n",
       "      <td>-40.0</td>\n",
       "      <td>-0.082919</td>\n",
       "      <td>48426.666667</td>\n",
       "      <td>49540.0</td>\n",
       "      <td>-4.365079</td>\n",
       "    </tr>\n",
       "    <tr>\n",
       "      <th>2018-01-15</th>\n",
       "      <td>48800</td>\n",
       "      <td>48980</td>\n",
       "      <td>47920</td>\n",
       "      <td>340.0</td>\n",
       "      <td>0.705394</td>\n",
       "      <td>48326.666667</td>\n",
       "      <td>48844.0</td>\n",
       "      <td>-0.614251</td>\n",
       "    </tr>\n",
       "    <tr>\n",
       "      <th>...</th>\n",
       "      <td>...</td>\n",
       "      <td>...</td>\n",
       "      <td>...</td>\n",
       "      <td>...</td>\n",
       "      <td>...</td>\n",
       "      <td>...</td>\n",
       "      <td>...</td>\n",
       "      <td>...</td>\n",
       "    </tr>\n",
       "    <tr>\n",
       "      <th>2019-12-23</th>\n",
       "      <td>56100</td>\n",
       "      <td>56400</td>\n",
       "      <td>55100</td>\n",
       "      <td>-500.0</td>\n",
       "      <td>-0.892857</td>\n",
       "      <td>55833.333333</td>\n",
       "      <td>56100.0</td>\n",
       "      <td>-1.420959</td>\n",
       "    </tr>\n",
       "    <tr>\n",
       "      <th>2019-12-24</th>\n",
       "      <td>55600</td>\n",
       "      <td>55700</td>\n",
       "      <td>54800</td>\n",
       "      <td>-500.0</td>\n",
       "      <td>-0.900901</td>\n",
       "      <td>55500.000000</td>\n",
       "      <td>55760.0</td>\n",
       "      <td>-1.785714</td>\n",
       "    </tr>\n",
       "    <tr>\n",
       "      <th>2019-12-26</th>\n",
       "      <td>54700</td>\n",
       "      <td>55400</td>\n",
       "      <td>54400</td>\n",
       "      <td>400.0</td>\n",
       "      <td>0.727273</td>\n",
       "      <td>55300.000000</td>\n",
       "      <td>55580.0</td>\n",
       "      <td>-1.071429</td>\n",
       "    </tr>\n",
       "    <tr>\n",
       "      <th>2019-12-27</th>\n",
       "      <td>55700</td>\n",
       "      <td>56900</td>\n",
       "      <td>55500</td>\n",
       "      <td>1100.0</td>\n",
       "      <td>1.985560</td>\n",
       "      <td>55633.333333</td>\n",
       "      <td>55680.0</td>\n",
       "      <td>1.801802</td>\n",
       "    </tr>\n",
       "    <tr>\n",
       "      <th>2019-12-30</th>\n",
       "      <td>56200</td>\n",
       "      <td>56600</td>\n",
       "      <td>55700</td>\n",
       "      <td>-700.0</td>\n",
       "      <td>-1.238938</td>\n",
       "      <td>55900.000000</td>\n",
       "      <td>55640.0</td>\n",
       "      <td>1.454545</td>\n",
       "    </tr>\n",
       "  </tbody>\n",
       "</table>\n",
       "<p>485 rows × 8 columns</p>\n",
       "</div>"
      ],
      "text/plain": [
       "             Open   High    Low  Var_daily_price  Var_daily_ratio  \\\n",
       "Date                                                                \n",
       "2018-01-09  51460  51720  49980          -1620.0        -3.114187   \n",
       "2018-01-10  50500  50520  48640          -1560.0        -3.095238   \n",
       "2018-01-11  48200  49260  48020           -600.0        -1.228501   \n",
       "2018-01-12  48240  48480  46760            -40.0        -0.082919   \n",
       "2018-01-15  48800  48980  47920            340.0         0.705394   \n",
       "...           ...    ...    ...              ...              ...   \n",
       "2019-12-23  56100  56400  55100           -500.0        -0.892857   \n",
       "2019-12-24  55600  55700  54800           -500.0        -0.900901   \n",
       "2019-12-26  54700  55400  54400            400.0         0.727273   \n",
       "2019-12-27  55700  56900  55500           1100.0         1.985560   \n",
       "2019-12-30  56200  56600  55700           -700.0        -1.238938   \n",
       "\n",
       "               dayline_3  dayline_5     chg_3  \n",
       "Date                                           \n",
       "2018-01-09  51513.333333    51448.0 -1.331245  \n",
       "2018-01-10  50420.000000    50892.0 -6.293170  \n",
       "2018-01-11  49160.000000    50324.0 -7.266436  \n",
       "2018-01-12  48426.666667    49540.0 -4.365079  \n",
       "2018-01-15  48326.666667    48844.0 -0.614251  \n",
       "...                  ...        ...       ...  \n",
       "2019-12-23  55833.333333    56100.0 -1.420959  \n",
       "2019-12-24  55500.000000    55760.0 -1.785714  \n",
       "2019-12-26  55300.000000    55580.0 -1.071429  \n",
       "2019-12-27  55633.333333    55680.0  1.801802  \n",
       "2019-12-30  55900.000000    55640.0  1.454545  \n",
       "\n",
       "[485 rows x 8 columns]"
      ]
     },
     "execution_count": 41,
     "metadata": {},
     "output_type": "execute_result"
    }
   ],
   "source": [
    "X"
   ]
  },
  {
   "cell_type": "code",
   "execution_count": 42,
   "id": "03b4e78d-edf8-4aad-b968-bef2e24427b7",
   "metadata": {},
   "outputs": [],
   "source": [
    "from sklearn.preprocessing import MinMaxScaler\n",
    "scaler = MinMaxScaler()\n",
    "\n",
    "# X normalizing\n",
    "X_scaled = scaler.fit_transform(X) "
   ]
  },
  {
   "cell_type": "code",
   "execution_count": 43,
   "id": "98cede95-b686-4c05-82d4-68c040034f2b",
   "metadata": {},
   "outputs": [],
   "source": [
    "# y normalizing\n",
    "y.shape # 1차원\n",
    "y= y.values.reshape(-1,1) # 2차원\n",
    "y_scaled = scaler.fit_transform(y)"
   ]
  },
  {
   "cell_type": "code",
   "execution_count": 44,
   "id": "0e239728-35eb-4f29-af38-b42b71211879",
   "metadata": {},
   "outputs": [],
   "source": [
    "from sklearn.model_selection import train_test_split\n",
    "X_train, X_test, y_train, y_test = train_test_split(X_scaled, y_scaled, test_size=0.2,shuffle=False)\n",
    "# X_train, X_test, y_train, y_test = train_test_split(X_scaled, y_scaled, test_size=0.2, random_state=336)"
   ]
  },
  {
   "cell_type": "code",
   "execution_count": 45,
   "id": "03e5e58b-b65e-4cca-80e1-2d50d79f3810",
   "metadata": {},
   "outputs": [],
   "source": [
    "# y_train = y_train.flatten()\n",
    "# y_test = y_test.flatten()"
   ]
  },
  {
   "cell_type": "code",
   "execution_count": 46,
   "id": "c81fa470-fce9-4947-b02b-9c5bb88691b4",
   "metadata": {},
   "outputs": [
    {
     "name": "stdout",
     "output_type": "stream",
     "text": [
      "(388, 8) (97, 8) (388, 1) (97, 1)\n"
     ]
    }
   ],
   "source": [
    "print(X_train.shape, X_test.shape, y_train.shape, y_test.shape)"
   ]
  },
  {
   "cell_type": "code",
   "execution_count": 47,
   "id": "b166ecba-4dd9-4236-9df8-96b271f6a350",
   "metadata": {},
   "outputs": [],
   "source": [
    "def my_dataset_window(xdata, ydata, window_size=5):\n",
    "    window_size = 5\n",
    "    xlist= []\n",
    "    ylist = []\n",
    "    # for i in range(train_scaler.shape[0] - window_size) :  #range(377)\n",
    "    for i in range(window_size, xdata.shape[0]) :   #5,377   \n",
    "        xvar = xdata[i-window_size: i]   #[0:5]  0,1,2,3,4\n",
    "        yvar = ydata[i]    #Close\n",
    "        xlist.append(xvar)\n",
    "        ylist.append(yvar) \n",
    "    xlist = np.array(xlist)\n",
    "    ylist = np.array(ylist)\n",
    "    return xlist, ylist\n",
    "\n",
    "X_train, y_train = my_dataset_window(X_train, y_train)\n",
    "X_test, y_test = my_dataset_window(X_test, y_test)"
   ]
  },
  {
   "cell_type": "code",
   "execution_count": 48,
   "id": "8a81b2f2-01a0-4824-bb1c-4d71e9968754",
   "metadata": {},
   "outputs": [
    {
     "name": "stdout",
     "output_type": "stream",
     "text": [
      "(383, 5, 8)\n",
      "(383, 1)\n"
     ]
    }
   ],
   "source": [
    "print(X_train.shape)    \n",
    "print(y_train.shape)  "
   ]
  },
  {
   "cell_type": "code",
   "execution_count": 49,
   "id": "020cd4fe-143c-42b8-9038-0ec2d2ee2a95",
   "metadata": {},
   "outputs": [],
   "source": [
    "# from tensorflow.keras import Sequential\n",
    "# from tensorflow.keras.layers import Dense, LSTM, Dropout\n",
    "# # 모델 생성\n",
    "# model = Sequential()\n",
    "# model.add(LSTM(10, activation='relu',\n",
    "#                input_shape=(X_train.shape[1], X_train.shape[2])))  #(5,8)\n",
    "# model.add(Dropout(0.1))\n",
    "# model.add(Dense(1))\n",
    "# model.summary()\n",
    "# model.compile(optimizer='adam', loss='mean_squared_error', metrics=['mse'])\n"
   ]
  },
  {
   "cell_type": "code",
   "execution_count": 50,
   "id": "5000fae2-10b2-47c1-b4ad-0aa4cff43fbb",
   "metadata": {},
   "outputs": [
    {
     "name": "stdout",
     "output_type": "stream",
     "text": [
      "Model: \"sequential\"\n",
      "_________________________________________________________________\n",
      "Layer (type)                 Output Shape              Param #   \n",
      "=================================================================\n",
      "lstm (LSTM)                  (None, 5, 50)             11800     \n",
      "_________________________________________________________________\n",
      "dropout (Dropout)            (None, 5, 50)             0         \n",
      "_________________________________________________________________\n",
      "lstm_1 (LSTM)                (None, 5, 60)             26640     \n",
      "_________________________________________________________________\n",
      "dropout_1 (Dropout)          (None, 5, 60)             0         \n",
      "_________________________________________________________________\n",
      "lstm_2 (LSTM)                (None, 5, 80)             45120     \n",
      "_________________________________________________________________\n",
      "dropout_2 (Dropout)          (None, 5, 80)             0         \n",
      "_________________________________________________________________\n",
      "lstm_3 (LSTM)                (None, 120)               96480     \n",
      "_________________________________________________________________\n",
      "dropout_3 (Dropout)          (None, 120)               0         \n",
      "_________________________________________________________________\n",
      "dense (Dense)                (None, 1)                 121       \n",
      "=================================================================\n",
      "Total params: 180,161\n",
      "Trainable params: 180,161\n",
      "Non-trainable params: 0\n",
      "_________________________________________________________________\n"
     ]
    }
   ],
   "source": [
    "# 모델 생성\n",
    "\n",
    "from tensorflow.keras import Sequential\n",
    "from tensorflow.keras.layers import Dense, LSTM, Dropout\n",
    "\n",
    "model = Sequential()\n",
    "model.add(LSTM(units=50, activation=\"relu\", return_sequences=True, input_shape = (X_train.shape[1], X_train.shape[2])))\n",
    "model.add(Dropout(0.2))\n",
    "\n",
    "model.add(LSTM(units=60, activation=\"relu\", return_sequences=True))\n",
    "model.add(Dropout(0.3))\n",
    "\n",
    "model.add(LSTM(units=80, activation=\"relu\", return_sequences=True))\n",
    "model.add(Dropout(0.4))\n",
    "\n",
    "model.add(LSTM(units=120, activation=\"relu\"))\n",
    "model.add(Dropout(0.5))\n",
    "\n",
    "model.add(Dense(units = 1))\n",
    "\n",
    "model.summary()\n",
    "model.compile(optimizer='adam', loss='mean_squared_error', metrics=['mse'])\n"
   ]
  },
  {
   "cell_type": "code",
   "execution_count": 51,
   "id": "9c700f6a-0b69-4eea-b478-339d83715bc9",
   "metadata": {},
   "outputs": [
    {
     "name": "stdout",
     "output_type": "stream",
     "text": [
      "Epoch 1/200\n",
      "22/22 [==============================] - 13s 149ms/step - loss: 0.1681 - mse: 0.1681 - val_loss: 0.0159 - val_mse: 0.0159\n",
      "Epoch 2/200\n",
      "22/22 [==============================] - 0s 18ms/step - loss: 0.0320 - mse: 0.0320 - val_loss: 0.0034 - val_mse: 0.0034\n",
      "Epoch 3/200\n",
      "22/22 [==============================] - 1s 25ms/step - loss: 0.0279 - mse: 0.0279 - val_loss: 0.0029 - val_mse: 0.0029\n",
      "Epoch 4/200\n",
      "22/22 [==============================] - 1s 26ms/step - loss: 0.0148 - mse: 0.0148 - val_loss: 0.0091 - val_mse: 0.0091\n",
      "Epoch 5/200\n",
      "22/22 [==============================] - 1s 23ms/step - loss: 0.0156 - mse: 0.0156 - val_loss: 0.0026 - val_mse: 0.0026\n",
      "Epoch 6/200\n",
      "22/22 [==============================] - 0s 20ms/step - loss: 0.0113 - mse: 0.0113 - val_loss: 0.0028 - val_mse: 0.0028\n",
      "Epoch 7/200\n",
      "22/22 [==============================] - 1s 24ms/step - loss: 0.0136 - mse: 0.0136 - val_loss: 0.0027 - val_mse: 0.0027\n",
      "Epoch 8/200\n",
      "22/22 [==============================] - 1s 25ms/step - loss: 0.0128 - mse: 0.0128 - val_loss: 0.0048 - val_mse: 0.0048\n",
      "Epoch 9/200\n",
      "22/22 [==============================] - ETA: 0s - loss: 0.0144 - mse: 0.014 - 0s 22ms/step - loss: 0.0141 - mse: 0.0141 - val_loss: 0.0048 - val_mse: 0.0048\n",
      "Epoch 10/200\n",
      "22/22 [==============================] - 0s 18ms/step - loss: 0.0108 - mse: 0.0108 - val_loss: 0.0027 - val_mse: 0.0027\n",
      "Epoch 11/200\n",
      "22/22 [==============================] - 1s 27ms/step - loss: 0.0116 - mse: 0.0116 - val_loss: 0.0044 - val_mse: 0.0044\n",
      "Epoch 12/200\n",
      "22/22 [==============================] - 1s 26ms/step - loss: 0.0111 - mse: 0.0111 - val_loss: 0.0026 - val_mse: 0.0026\n",
      "Epoch 13/200\n",
      "22/22 [==============================] - 1s 25ms/step - loss: 0.0118 - mse: 0.0118 - val_loss: 0.0033 - val_mse: 0.0033\n",
      "Epoch 14/200\n",
      "22/22 [==============================] - 0s 20ms/step - loss: 0.0122 - mse: 0.0122 - val_loss: 0.0026 - val_mse: 0.0026\n",
      "Epoch 15/200\n",
      "22/22 [==============================] - 1s 27ms/step - loss: 0.0090 - mse: 0.0090 - val_loss: 0.0043 - val_mse: 0.0043\n",
      "Epoch 16/200\n",
      "22/22 [==============================] - 1s 27ms/step - loss: 0.0114 - mse: 0.0114 - val_loss: 0.0034 - val_mse: 0.0034\n",
      "Epoch 17/200\n",
      "22/22 [==============================] - 0s 21ms/step - loss: 0.0097 - mse: 0.0097 - val_loss: 0.0035 - val_mse: 0.0035\n",
      "Epoch 18/200\n",
      "22/22 [==============================] - 0s 23ms/step - loss: 0.0099 - mse: 0.0099 - val_loss: 0.0026 - val_mse: 0.0026\n",
      "Epoch 19/200\n",
      "22/22 [==============================] - 1s 28ms/step - loss: 0.0086 - mse: 0.0086 - val_loss: 0.0035 - val_mse: 0.0035\n",
      "Epoch 20/200\n",
      "22/22 [==============================] - 1s 32ms/step - loss: 0.0081 - mse: 0.0081 - val_loss: 0.0028 - val_mse: 0.0028\n",
      "Epoch 21/200\n",
      "22/22 [==============================] - 1s 27ms/step - loss: 0.0087 - mse: 0.0087 - val_loss: 0.0027 - val_mse: 0.0027\n",
      "Epoch 22/200\n",
      "22/22 [==============================] - 1s 38ms/step - loss: 0.0095 - mse: 0.0095 - val_loss: 0.0022 - val_mse: 0.0022\n",
      "Epoch 23/200\n",
      "22/22 [==============================] - 1s 39ms/step - loss: 0.0080 - mse: 0.0080 - val_loss: 0.0022 - val_mse: 0.0022\n",
      "Epoch 24/200\n",
      "22/22 [==============================] - 1s 33ms/step - loss: 0.0085 - mse: 0.0085 - val_loss: 0.0030 - val_mse: 0.0030\n",
      "Epoch 25/200\n",
      "22/22 [==============================] - 1s 32ms/step - loss: 0.0070 - mse: 0.0070 - val_loss: 0.0023 - val_mse: 0.0023\n",
      "Epoch 26/200\n",
      "22/22 [==============================] - 1s 25ms/step - loss: 0.0075 - mse: 0.0075 - val_loss: 0.0039 - val_mse: 0.0039\n",
      "Epoch 27/200\n",
      "22/22 [==============================] - 1s 36ms/step - loss: 0.0094 - mse: 0.0094 - val_loss: 0.0019 - val_mse: 0.0019\n",
      "Epoch 28/200\n",
      "22/22 [==============================] - 1s 37ms/step - loss: 0.0077 - mse: 0.0077 - val_loss: 0.0018 - val_mse: 0.0018\n",
      "Epoch 29/200\n",
      "22/22 [==============================] - 1s 30ms/step - loss: 0.0064 - mse: 0.0064 - val_loss: 0.0031 - val_mse: 0.0031\n",
      "Epoch 30/200\n",
      "22/22 [==============================] - 1s 30ms/step - loss: 0.0089 - mse: 0.0089 - val_loss: 0.0031 - val_mse: 0.0031\n",
      "Epoch 31/200\n",
      "22/22 [==============================] - 1s 40ms/step - loss: 0.0081 - mse: 0.0081 - val_loss: 0.0017 - val_mse: 0.0017\n",
      "Epoch 32/200\n",
      "22/22 [==============================] - 1s 31ms/step - loss: 0.0078 - mse: 0.0078 - val_loss: 0.0016 - val_mse: 0.0016\n",
      "Epoch 33/200\n",
      "22/22 [==============================] - 1s 44ms/step - loss: 0.0077 - mse: 0.0077 - val_loss: 0.0024 - val_mse: 0.0024\n",
      "Epoch 34/200\n",
      "22/22 [==============================] - 1s 44ms/step - loss: 0.0075 - mse: 0.0075 - val_loss: 0.0029 - val_mse: 0.0029\n",
      "Epoch 35/200\n",
      "22/22 [==============================] - 1s 29ms/step - loss: 0.0072 - mse: 0.0072 - val_loss: 0.0016 - val_mse: 0.0016\n",
      "Epoch 36/200\n",
      "22/22 [==============================] - 1s 31ms/step - loss: 0.0079 - mse: 0.0079 - val_loss: 0.0021 - val_mse: 0.0021\n",
      "Epoch 37/200\n",
      "22/22 [==============================] - 1s 33ms/step - loss: 0.0065 - mse: 0.0065 - val_loss: 0.0018 - val_mse: 0.0018\n",
      "Epoch 38/200\n",
      "22/22 [==============================] - 1s 41ms/step - loss: 0.0072 - mse: 0.0072 - val_loss: 0.0018 - val_mse: 0.0018\n",
      "Epoch 39/200\n",
      "22/22 [==============================] - 1s 39ms/step - loss: 0.0065 - mse: 0.0065 - val_loss: 0.0020 - val_mse: 0.0020\n",
      "Epoch 40/200\n",
      "22/22 [==============================] - 1s 44ms/step - loss: 0.0059 - mse: 0.0059 - val_loss: 0.0015 - val_mse: 0.0015\n",
      "Epoch 41/200\n",
      "22/22 [==============================] - 1s 34ms/step - loss: 0.0065 - mse: 0.0065 - val_loss: 0.0027 - val_mse: 0.0027\n",
      "Epoch 42/200\n",
      "22/22 [==============================] - 1s 38ms/step - loss: 0.0076 - mse: 0.0076 - val_loss: 0.0018 - val_mse: 0.0018\n",
      "Epoch 43/200\n",
      "22/22 [==============================] - 1s 31ms/step - loss: 0.0062 - mse: 0.0062 - val_loss: 0.0019 - val_mse: 0.0019\n",
      "Epoch 44/200\n",
      "22/22 [==============================] - 1s 42ms/step - loss: 0.0061 - mse: 0.0061 - val_loss: 0.0015 - val_mse: 0.0015\n",
      "Epoch 45/200\n",
      "22/22 [==============================] - 1s 36ms/step - loss: 0.0054 - mse: 0.0054 - val_loss: 0.0020 - val_mse: 0.0020\n",
      "Epoch 46/200\n",
      "22/22 [==============================] - 1s 41ms/step - loss: 0.0070 - mse: 0.0070 - val_loss: 0.0017 - val_mse: 0.0017\n",
      "Epoch 47/200\n",
      "22/22 [==============================] - 1s 37ms/step - loss: 0.0058 - mse: 0.0058 - val_loss: 0.0014 - val_mse: 0.0014\n",
      "Epoch 48/200\n",
      "22/22 [==============================] - 1s 40ms/step - loss: 0.0060 - mse: 0.0060 - val_loss: 0.0013 - val_mse: 0.0013\n",
      "Epoch 49/200\n",
      "22/22 [==============================] - 1s 30ms/step - loss: 0.0065 - mse: 0.0065 - val_loss: 0.0014 - val_mse: 0.0014\n",
      "Epoch 50/200\n",
      "22/22 [==============================] - 1s 38ms/step - loss: 0.0067 - mse: 0.0067 - val_loss: 0.0019 - val_mse: 0.0019\n",
      "Epoch 51/200\n",
      "22/22 [==============================] - 1s 32ms/step - loss: 0.0064 - mse: 0.0064 - val_loss: 0.0015 - val_mse: 0.0015\n",
      "Epoch 52/200\n",
      "22/22 [==============================] - 1s 24ms/step - loss: 0.0057 - mse: 0.0057 - val_loss: 0.0024 - val_mse: 0.0024\n",
      "Epoch 53/200\n",
      "22/22 [==============================] - 1s 32ms/step - loss: 0.0048 - mse: 0.0048 - val_loss: 0.0017 - val_mse: 0.0017\n",
      "Epoch 54/200\n",
      "22/22 [==============================] - 1s 31ms/step - loss: 0.0065 - mse: 0.0065 - val_loss: 0.0020 - val_mse: 0.0020\n",
      "Epoch 55/200\n",
      "22/22 [==============================] - 1s 28ms/step - loss: 0.0061 - mse: 0.0061 - val_loss: 0.0017 - val_mse: 0.0017\n",
      "Epoch 56/200\n",
      "22/22 [==============================] - 1s 31ms/step - loss: 0.0046 - mse: 0.0046 - val_loss: 0.0020 - val_mse: 0.0020\n",
      "Epoch 57/200\n",
      "22/22 [==============================] - 1s 29ms/step - loss: 0.0058 - mse: 0.0058 - val_loss: 0.0025 - val_mse: 0.0025\n",
      "Epoch 58/200\n",
      "22/22 [==============================] - 1s 29ms/step - loss: 0.0056 - mse: 0.0056 - val_loss: 0.0013 - val_mse: 0.0013\n",
      "Epoch 59/200\n",
      "22/22 [==============================] - 1s 32ms/step - loss: 0.0045 - mse: 0.0045 - val_loss: 0.0035 - val_mse: 0.0035\n",
      "Epoch 60/200\n",
      "22/22 [==============================] - 1s 30ms/step - loss: 0.0055 - mse: 0.0055 - val_loss: 0.0018 - val_mse: 0.0018\n",
      "Epoch 61/200\n",
      "22/22 [==============================] - 0s 20ms/step - loss: 0.0065 - mse: 0.0065 - val_loss: 0.0017 - val_mse: 0.0017\n",
      "Epoch 62/200\n",
      "22/22 [==============================] - 1s 29ms/step - loss: 0.0051 - mse: 0.0051 - val_loss: 0.0013 - val_mse: 0.0013\n",
      "Epoch 63/200\n",
      "22/22 [==============================] - 1s 35ms/step - loss: 0.0067 - mse: 0.0067 - val_loss: 0.0052 - val_mse: 0.0052\n",
      "Epoch 64/200\n",
      "22/22 [==============================] - 0s 21ms/step - loss: 0.0064 - mse: 0.0064 - val_loss: 0.0027 - val_mse: 0.0027\n",
      "Epoch 65/200\n",
      "22/22 [==============================] - 1s 23ms/step - loss: 0.0050 - mse: 0.0050 - val_loss: 0.0012 - val_mse: 0.0012\n",
      "Epoch 66/200\n",
      "22/22 [==============================] - 1s 28ms/step - loss: 0.0055 - mse: 0.0055 - val_loss: 0.0015 - val_mse: 0.0015\n",
      "Epoch 67/200\n",
      "22/22 [==============================] - 1s 25ms/step - loss: 0.0053 - mse: 0.0053 - val_loss: 0.0014 - val_mse: 0.0014\n",
      "Epoch 68/200\n",
      "22/22 [==============================] - 0s 20ms/step - loss: 0.0046 - mse: 0.0046 - val_loss: 0.0018 - val_mse: 0.0018\n",
      "Epoch 69/200\n",
      "22/22 [==============================] - 1s 27ms/step - loss: 0.0045 - mse: 0.0045 - val_loss: 0.0011 - val_mse: 0.0011\n",
      "Epoch 70/200\n",
      "22/22 [==============================] - 1s 31ms/step - loss: 0.0054 - mse: 0.0054 - val_loss: 0.0015 - val_mse: 0.0015\n",
      "Epoch 71/200\n",
      "22/22 [==============================] - 0s 23ms/step - loss: 0.0066 - mse: 0.0066 - val_loss: 0.0060 - val_mse: 0.0060\n",
      "Epoch 72/200\n",
      "22/22 [==============================] - 0s 18ms/step - loss: 0.0051 - mse: 0.0051 - val_loss: 0.0018 - val_mse: 0.0018\n",
      "Epoch 73/200\n",
      "22/22 [==============================] - 1s 24ms/step - loss: 0.0060 - mse: 0.0060 - val_loss: 0.0014 - val_mse: 0.0014\n",
      "Epoch 74/200\n",
      "22/22 [==============================] - 1s 26ms/step - loss: 0.0049 - mse: 0.0049 - val_loss: 0.0025 - val_mse: 0.0025\n",
      "Epoch 75/200\n",
      "22/22 [==============================] - 0s 21ms/step - loss: 0.0040 - mse: 0.0040 - val_loss: 0.0014 - val_mse: 0.0014\n",
      "Epoch 76/200\n",
      "22/22 [==============================] - 0s 21ms/step - loss: 0.0043 - mse: 0.0043 - val_loss: 0.0022 - val_mse: 0.0022\n",
      "Epoch 77/200\n",
      "22/22 [==============================] - 1s 25ms/step - loss: 0.0041 - mse: 0.0041 - val_loss: 0.0012 - val_mse: 0.0012\n",
      "Epoch 78/200\n",
      "22/22 [==============================] - 1s 24ms/step - loss: 0.0056 - mse: 0.0056 - val_loss: 0.0020 - val_mse: 0.0020\n",
      "Epoch 79/200\n",
      "22/22 [==============================] - 0s 19ms/step - loss: 0.0045 - mse: 0.0045 - val_loss: 0.0017 - val_mse: 0.0017\n"
     ]
    }
   ],
   "source": [
    "from keras.callbacks import EarlyStopping\n",
    "stop = EarlyStopping(monitor='val_loss', patience=10)\n",
    "history = model.fit(X_train, y_train, epochs=200, batch_size=16, validation_split=0.1, callbacks=[stop])"
   ]
  },
  {
   "cell_type": "code",
   "execution_count": 52,
   "id": "59f3173c-231c-40ba-9c9a-9a366a108461",
   "metadata": {},
   "outputs": [
    {
     "data": {
      "text/plain": [
       "[<matplotlib.lines.Line2D at 0x1ce621076c8>]"
      ]
     },
     "execution_count": 52,
     "metadata": {},
     "output_type": "execute_result"
    },
    {
     "data": {
      "image/png": "[encoded data removed]",
      "text/plain": [
       "<Figure size 432x288 with 1 Axes>"
      ]
     },
     "metadata": {
      "needs_background": "light"
     },
     "output_type": "display_data"
    }
   ],
   "source": [
    "plt.plot(history.history['loss'], label='loss')\n",
    "plt.plot(history.history['val_loss'], label= 'val_loss')"
   ]
  },
  {
   "cell_type": "code",
   "execution_count": 53,
   "id": "70c09e21-ef34-40f3-b424-240b55b58aa1",
   "metadata": {},
   "outputs": [],
   "source": [
    "pred = model.predict(X_test)"
   ]
  },
  {
   "cell_type": "code",
   "execution_count": 54,
   "id": "88aec018-e96b-4831-b731-26099909a6d9",
   "metadata": {},
   "outputs": [
    {
     "data": {
      "text/plain": [
       "[<matplotlib.lines.Line2D at 0x1ce6328c608>]"
      ]
     },
     "execution_count": 54,
     "metadata": {},
     "output_type": "execute_result"
    },
    {
     "data": {
      "image/png": "[encoded data removed]",
      "text/plain": [
       "<Figure size 432x288 with 1 Axes>"
      ]
     },
     "metadata": {
      "needs_background": "light"
     },
     "output_type": "display_data"
    }
   ],
   "source": [
    "plt.plot(pred, label='pred')\n",
    "plt.plot(y_test, label= 'y_test')"
   ]
  }
 ],
 "metadata": {
  "kernelspec": {
   "display_name": "Python 3",
   "language": "python",
   "name": "python3"
  },
  "language_info": {
   "codemirror_mode": {
    "name": "ipython",
    "version": 3
   },
   "file_extension": ".py",
   "mimetype": "text/x-python",
   "name": "python",
   "nbconvert_exporter": "python",
   "pygments_lexer": "ipython3",
   "version": "3.7.7"
  }
 },
 "nbformat": 4,
 "nbformat_minor": 5
}
