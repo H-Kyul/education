{
 "cells": [
  {
   "cell_type": "markdown",
   "metadata": {
    "id": "5oL3DqBkN2KF"
   },
   "source": [
    "trainX,trainy,valX,valy 꼴이 아니라서 작업 손대기 어려움.\\\n",
    "파일이 아닌 여러개 나뉜 디렉토리라서 작업 손대기 어려움."
   ]
  },
  {
   "cell_type": "code",
   "execution_count": 1,
   "metadata": {
    "id": "6LPNVaO-mT6I"
   },
   "outputs": [
    {
     "ename": "ModuleNotFoundError",
     "evalue": "No module named 'cv2'",
     "output_type": "error",
     "traceback": [
      "\u001b[1;31m---------------------------------------------------------------------------\u001b[0m",
      "\u001b[1;31mModuleNotFoundError\u001b[0m                       Traceback (most recent call last)",
      "\u001b[1;32m<ipython-input-1-603dd9426c2e>\u001b[0m in \u001b[0;36m<module>\u001b[1;34m\u001b[0m\n\u001b[0;32m     13\u001b[0m \u001b[1;32mfrom\u001b[0m \u001b[0mkeras\u001b[0m\u001b[1;33m.\u001b[0m\u001b[0mutils\u001b[0m \u001b[1;32mimport\u001b[0m \u001b[0mto_categorical\u001b[0m\u001b[1;33m\u001b[0m\u001b[1;33m\u001b[0m\u001b[0m\n\u001b[0;32m     14\u001b[0m \u001b[1;32mfrom\u001b[0m \u001b[0mtqdm\u001b[0m \u001b[1;32mimport\u001b[0m \u001b[0mtqdm\u001b[0m\u001b[1;33m\u001b[0m\u001b[1;33m\u001b[0m\u001b[0m\n\u001b[1;32m---> 15\u001b[1;33m \u001b[1;32mimport\u001b[0m \u001b[0mcv2\u001b[0m\u001b[1;33m\u001b[0m\u001b[1;33m\u001b[0m\u001b[0m\n\u001b[0m\u001b[0;32m     16\u001b[0m \u001b[1;33m\u001b[0m\u001b[0m\n\u001b[0;32m     17\u001b[0m \u001b[1;32mfrom\u001b[0m \u001b[0msklearn\u001b[0m\u001b[1;33m.\u001b[0m\u001b[0mpreprocessing\u001b[0m \u001b[1;32mimport\u001b[0m \u001b[0mLabelEncoder\u001b[0m\u001b[1;33m\u001b[0m\u001b[1;33m\u001b[0m\u001b[0m\n",
      "\u001b[1;31mModuleNotFoundError\u001b[0m: No module named 'cv2'"
     ]
    }
   ],
   "source": [
    "import pandas as pd\n",
    "import numpy as np\n",
    "import matplotlib.pyplot as plt\n",
    "import os\n",
    "import random\n",
    "\n",
    "from PIL import Image\n",
    "import tensorflow as tf\n",
    "# import tensorflow_datasets as tfds\n",
    "from keras import utils,layers,preprocessing, Sequential\n",
    "from keras.layers import Dense, Input, Conv2D, MaxPooling2D, Dropout, Flatten\n",
    "from keras.callbacks import EarlyStopping, ModelCheckpoint\n",
    "from keras.utils import to_categorical\n",
    "import cv2                  \n",
    "\n",
    "from sklearn.preprocessing import LabelEncoder\n",
    "from sklearn.model_selection import train_test_split\n",
    "import warnings\n",
    "warnings.filterwarnings('ignore')"
   ]
  },
  {
   "cell_type": "code",
   "execution_count": null,
   "metadata": {
    "id": "tWCDw95-XrT1"
   },
   "outputs": [],
   "source": [
    "print(tf.__version__)"
   ]
  },
  {
   "cell_type": "markdown",
   "metadata": {
    "id": "LcqsutkIHTdZ"
   },
   "source": [
    "## 공통 함수"
   ]
  },
  {
   "cell_type": "code",
   "execution_count": null,
   "metadata": {
    "id": "cJXnIdkUHQMo"
   },
   "outputs": [],
   "source": [
    "def myPlot(fit_res) :\n",
    "    key_ = list(fit_res.history.keys())\n",
    "    plt.figure(figsize=(12,5))\n",
    "    for i in range(len(key_)):\n",
    "        plt.plot(fit_res.history[key_[i]], label=key_[i])\n",
    "    plt.title(\"metrics\")\n",
    "    plt.xlabel(\"epoch\")\n",
    "    plt.ylabel(\"score\")\n",
    "    plt.legend()\n",
    "    plt.show()"
   ]
  },
  {
   "cell_type": "code",
   "execution_count": null,
   "metadata": {
    "id": "tYuZ9kLiHZGm"
   },
   "outputs": [],
   "source": [
    "def myscore(X,y,fit_res=None):\n",
    "    # test_loss, test_acc = model.evaluate(test_images,  test_labels, verbose=1)\n",
    "    # print(f\"loss: {test_loss:.5f} accuracy: {test_acc:.5f}\" )\n",
    "    history = model.evaluate(X,  y, verbose=1)\n",
    "    print(f\"loss: {history[0]:.5f} accuracy: {history[1]:.5f}\" )\n",
    "    if fit_res != None:\n",
    "        myPlot(fit_res)\n",
    "# myscore(test_images,  test_labels, fit_res)"
   ]
  },
  {
   "cell_type": "code",
   "execution_count": null,
   "metadata": {
    "id": "M8Z_bmLUHa97"
   },
   "outputs": [],
   "source": [
    "def myfit(X, y, SPLIT__=0.1, BATCH_SIZE__=128, EPOCHS__=10, ):\n",
    "    fit_res = model.fit(X, y, batch_size=BATCH_SIZE__, epochs=EPOCHS__, validation_split=SPLIT__)\n",
    "    return fit_res"
   ]
  },
  {
   "cell_type": "code",
   "execution_count": null,
   "metadata": {
    "id": "3hQzTZjQHcJV"
   },
   "outputs": [],
   "source": [
    "def mypredit_check(test_X, idx=0):\n",
    "    pred = model.predict(test_X)\n",
    "    print(pred[idx])\n",
    "    pred_label = np.argmax(pred[idx])\n",
    "    print(pred_label, LABEL_NAME__[pred_label])\n",
    "    plt.imshow(test_X[idx])\n",
    "    plt.show()"
   ]
  },
  {
   "cell_type": "markdown",
   "metadata": {
    "id": "0M20hv6XHP6l"
   },
   "source": []
  },
  {
   "cell_type": "code",
   "execution_count": null,
   "metadata": {
    "id": "3nz6JotszUoJ"
   },
   "outputs": [],
   "source": [
    "# np.random.seed(121)\n",
    "# tf.random.set_seed(121)"
   ]
  },
  {
   "cell_type": "markdown",
   "metadata": {
    "id": "Pzjm8tIUhAqp"
   },
   "source": [
    "# 데이터 로드 및 탐색 [방법1]"
   ]
  },
  {
   "cell_type": "markdown",
   "metadata": {
    "id": "LEADQw-bX116"
   },
   "source": [
    "### DATASETS LOAD"
   ]
  },
  {
   "cell_type": "markdown",
   "metadata": {
    "id": "aFl6_vT2X993"
   },
   "source": [
    "  '클래스 당 5개의 하위 디렉토리로 구성되어 있다'\n",
    "\n",
    "flowers_photos/\\\n",
    "      daisy/\\\n",
    "    dandelion/\\\n",
    "    roses/\\\n",
    "  sunflowers/\\\n",
    "  tulips/"
   ]
  },
  {
   "cell_type": "markdown",
   "metadata": {
    "id": "aX7hFOKhhwo-"
   },
   "source": [
    "# [데이터 로드 및 탐색]"
   ]
  },
  {
   "cell_type": "markdown",
   "metadata": {
    "id": "-juc_ngBh9gm"
   },
   "source": [
    "## - 데이터 로드"
   ]
  },
  {
   "cell_type": "code",
   "execution_count": null,
   "metadata": {
    "id": "zbzoCBzkjzxw"
   },
   "outputs": [],
   "source": [
    "import pathlib\n",
    "dataset_url = \"https://storage.googleapis.com/download.tensorflow.org/example_images/flower_photos.tgz\"\n",
    "data_dir = utils.get_file(origin=dataset_url,\n",
    "                          fname= 'flower_photos',\n",
    "                          untar=True)\n",
    "data_dir = pathlib.Path(data_dir)\n",
    "print(data_dir, type(data_dir))"
   ]
  },
  {
   "cell_type": "code",
   "execution_count": null,
   "metadata": {
    "id": "bBR00MAAYodt"
   },
   "outputs": [],
   "source": [
    "def assign_label(img,flower_type):\n",
    "    return flower_type"
   ]
  },
  {
   "cell_type": "code",
   "execution_count": null,
   "metadata": {
    "id": "OfLl9c9pYmSG"
   },
   "outputs": [],
   "source": [
    "def make_train_data(flower_type,DIR):\n",
    "    for img in tqdm(os.listdir(DIR)):\n",
    "        label=assign_label(img,flower_type)\n",
    "        path = os.path.join(DIR,img)\n",
    "        img = cv2.imread(path,cv2.IMREAD_COLOR)\n",
    "        img = cv2.resize(img, (IMG_SIZE,IMG_SIZE))\n",
    "        \n",
    "        IMG.append(np.array(img))\n",
    "        LABEL.append(str(label))"
   ]
  },
  {
   "cell_type": "code",
   "execution_count": null,
   "metadata": {
    "id": "uXZvx0hTYI4l"
   },
   "outputs": [],
   "source": [
    "IMG=[]\n",
    "LABEL=[]\n",
    "IMG_SIZE=120\n",
    "FLOWER_DAISY_DIR= str(data_dir)+'/daisy'\n",
    "FLOWER_SUNFLOWER_DIR= str(data_dir)+ '/sunflowers'\n",
    "FLOWER_TULIP_DIR= str(data_dir)+ '/tulips'\n",
    "FLOWER_DANDI_DIR= str(data_dir)+ '/dandelion'\n",
    "FLOWER_ROSE_DIR= str(data_dir)+ '/roses'\n"
   ]
  },
  {
   "cell_type": "code",
   "execution_count": null,
   "metadata": {
    "id": "rxYneYURY9yE"
   },
   "outputs": [],
   "source": [
    "make_train_data('Daisy',FLOWER_DAISY_DIR)\n",
    "print(len(IMG))"
   ]
  },
  {
   "cell_type": "code",
   "execution_count": null,
   "metadata": {
    "id": "rVQsYFHafD6v"
   },
   "outputs": [],
   "source": [
    "make_train_data('Sunflower',FLOWER_SUNFLOWER_DIR)\n",
    "print(len(IMG))"
   ]
  },
  {
   "cell_type": "code",
   "execution_count": null,
   "metadata": {
    "id": "qaUipRZTfD1i"
   },
   "outputs": [],
   "source": [
    "make_train_data('Tulip',FLOWER_TULIP_DIR)\n",
    "print(len(IMG))"
   ]
  },
  {
   "cell_type": "code",
   "execution_count": null,
   "metadata": {
    "id": "orz16DPzfDyd"
   },
   "outputs": [],
   "source": [
    "make_train_data('Dandelion',FLOWER_DANDI_DIR)\n",
    "print(len(IMG))"
   ]
  },
  {
   "cell_type": "code",
   "execution_count": null,
   "metadata": {
    "id": "vGBGWu_HiBrz"
   },
   "outputs": [],
   "source": [
    "make_train_data('Rose',FLOWER_ROSE_DIR)\n",
    "print(len(IMG))"
   ]
  },
  {
   "cell_type": "code",
   "execution_count": null,
   "metadata": {
    "id": "Di_fB6hliBoF"
   },
   "outputs": [],
   "source": []
  },
  {
   "cell_type": "code",
   "execution_count": null,
   "metadata": {
    "id": "mQ1v6dxgnHz7"
   },
   "outputs": [],
   "source": [
    "train_images, test_images, train_labels, test_labels = train_test_split(IMG,LABEL,test_size=0.2,random_state=121)"
   ]
  },
  {
   "cell_type": "markdown",
   "metadata": {
    "id": "7It1MZeQh_wF"
   },
   "source": [
    "## - 데이터 탐색"
   ]
  },
  {
   "cell_type": "code",
   "execution_count": null,
   "metadata": {
    "id": "GCCC_H3SiB38"
   },
   "outputs": [],
   "source": [
    "len(train_images[0]) # 이미지 사이즈 150으로 설정함\n",
    "# IMG[0]"
   ]
  },
  {
   "cell_type": "code",
   "execution_count": null,
   "metadata": {
    "id": "grtsrvt0iBzm"
   },
   "outputs": [],
   "source": [
    "train_images[0]\n",
    "train_labels[:5]"
   ]
  },
  {
   "cell_type": "code",
   "execution_count": null,
   "metadata": {
    "id": "4891Ch8uohtX"
   },
   "outputs": [],
   "source": [
    "plt.figure(figsize=(10, 10))\n",
    "for i in range(9):\n",
    "  ax = plt.subplot(3, 3, i + 1)\n",
    "  plt.imshow(train_images[i])\n",
    "  plt.title(train_labels[i])\n",
    "  plt.axis(\"off\")"
   ]
  },
  {
   "cell_type": "code",
   "execution_count": null,
   "metadata": {
    "id": "Zfpbp8coiBvZ"
   },
   "outputs": [],
   "source": [
    "# import random\n",
    "# fig,ax=plt.subplots(2,5)\n",
    "# fig.set_size_inches(10,10)\n",
    "# for i in range(2):\n",
    "#     for j in range (5):\n",
    "#         l=random.randint(0,len(LABEL))\n",
    "#         ax[i,j].imshow(IMG[l])\n",
    "#         ax[i,j].set_title(LABEL[l])\n",
    "        \n",
    "# plt.tight_layout()"
   ]
  },
  {
   "cell_type": "code",
   "execution_count": null,
   "metadata": {
    "id": "ckNnj45SnBZr"
   },
   "outputs": [],
   "source": []
  },
  {
   "cell_type": "markdown",
   "metadata": {
    "id": "BWOUmNnkX1sK"
   },
   "source": [
    "## EDA (keras)"
   ]
  },
  {
   "cell_type": "code",
   "execution_count": null,
   "metadata": {
    "id": "T_aHTZA2WsD1"
   },
   "outputs": [],
   "source": [
    "# print(os.listdir('/root/.keras/datasets/flower_photos')[1:]) # 0에는 txt 포함되어 있음"
   ]
  },
  {
   "cell_type": "code",
   "execution_count": null,
   "metadata": {
    "id": "uVbNAZwvX77Q"
   },
   "outputs": [],
   "source": [
    "image_count = len(list(data_dir.glob('*/*.jpg')))   # photos/*/*.jpg 꼴. 5개 클라스(전부)/파일(전부).jpg 가져와\n",
    "print(image_count)\n"
   ]
  },
  {
   "cell_type": "code",
   "execution_count": null,
   "metadata": {
    "id": "H3HE6AltZ4oh"
   },
   "outputs": [],
   "source": [
    "roses = list(data_dir.glob('roses/*'))"
   ]
  },
  {
   "cell_type": "code",
   "execution_count": null,
   "metadata": {
    "id": "TzbG7o4oX70O"
   },
   "outputs": [],
   "source": [
    "roses[:5]"
   ]
  },
  {
   "cell_type": "code",
   "execution_count": null,
   "metadata": {
    "id": "vxv8OYLoX7yC"
   },
   "outputs": [],
   "source": [
    "Image.open(roses[0])\n"
   ]
  },
  {
   "cell_type": "markdown",
   "metadata": {
    "id": "nuMhCg0kfDay"
   },
   "source": [
    "# 데이터 전처리"
   ]
  },
  {
   "cell_type": "code",
   "execution_count": null,
   "metadata": {
    "id": "qXBtcIr0lxXh"
   },
   "outputs": [],
   "source": [
    "le=LabelEncoder()\n",
    "LABEL=le.fit_transform(LABEL)\n",
    "LABEL=to_categorical(LABEL,5)\n",
    "IMG=np.array(IMG)\n",
    "IMG=IMG/255"
   ]
  },
  {
   "cell_type": "code",
   "execution_count": null,
   "metadata": {
    "id": "Qm9XhhOJiBlj"
   },
   "outputs": [],
   "source": [
    "LABEL[:10]"
   ]
  },
  {
   "cell_type": "code",
   "execution_count": null,
   "metadata": {
    "id": "zyJk5wa5iBfR"
   },
   "outputs": [],
   "source": [
    "# 다시 나누기 (위에는 셔플 후 train 데이터만 EDA 하기 위한 split, 지금은 학습을 위한 split)\n",
    "train_X, test_X, train_y, test_y = train_test_split(IMG,LABEL,test_size=0.2,random_state=121)"
   ]
  },
  {
   "cell_type": "code",
   "execution_count": null,
   "metadata": {
    "id": "mwS2WVGKy1-L"
   },
   "outputs": [],
   "source": [
    "# train_y[:5] # [2,2,2,0,1] "
   ]
  },
  {
   "cell_type": "code",
   "execution_count": null,
   "metadata": {
    "id": "Y1T7v2qSlhFN"
   },
   "outputs": [],
   "source": [
    "train_y[:10] # [2,2,2,0,1]"
   ]
  },
  {
   "cell_type": "code",
   "execution_count": null,
   "metadata": {
    "id": "Xi2rn1MLrP8d"
   },
   "outputs": [],
   "source": []
  },
  {
   "cell_type": "markdown",
   "metadata": {
    "id": "x3YA8lQpqfqp"
   },
   "source": [
    "# seed 설정"
   ]
  },
  {
   "cell_type": "code",
   "execution_count": null,
   "metadata": {
    "id": "-t_7iAsZqfYK"
   },
   "outputs": [],
   "source": [
    "np.random.seed(121)\n",
    "random.seed(121)\n",
    "tf.random.set_seed(121)"
   ]
  },
  {
   "cell_type": "markdown",
   "metadata": {
    "id": "k_t3l0CEcrXt"
   },
   "source": [
    "## 매개변수 정의"
   ]
  },
  {
   "cell_type": "code",
   "execution_count": null,
   "metadata": {
    "id": "vsiGn8M2x-Or"
   },
   "outputs": [],
   "source": []
  },
  {
   "cell_type": "code",
   "execution_count": null,
   "metadata": {
    "id": "zzCMKrb5X7vJ"
   },
   "outputs": [],
   "source": [
    "BATCH_SIZE__= 150\n",
    "EPOCHS__=10\n",
    "SPLIT__=0.2\n",
    "CLASS__=5\n",
    "LABEL_NAME__ = ['DAISY', 'ROSE', 'Dandelion', 'Sunflower', 'Tulip']"
   ]
  },
  {
   "cell_type": "markdown",
   "metadata": {
    "id": "U-yKCClsu2n3"
   },
   "source": [
    "# 데이터 학습"
   ]
  },
  {
   "cell_type": "code",
   "execution_count": null,
   "metadata": {
    "id": "E0hLFqdHwo4n"
   },
   "outputs": [],
   "source": [
    "def myPlot(res) :\n",
    "    key_ = list(res.history.keys())\n",
    "    plt.figure(figsize=(12,5))\n",
    "    for i in range(len(key_)):\n",
    "        plt.plot(res.history[key_[i]], label=key_[i])\n",
    "    plt.title(\"metrics\")\n",
    "    plt.xlabel(\"epoch\")\n",
    "    plt.ylabel(\"score\")\n",
    "    plt.legend()\n",
    "    plt.show()"
   ]
  },
  {
   "cell_type": "code",
   "execution_count": null,
   "metadata": {
    "id": "UWHz04UWxT4w"
   },
   "outputs": [],
   "source": [
    "def myscore(X,y,fit_res=None):\n",
    "    # test_loss, test_acc = model.evaluate(test_images,  test_labels, verbose=1)\n",
    "    # print(f\"loss: {test_loss:.5f} accuracy: {test_acc:.5f}\" )\n",
    "    history = model.evaluate(X,  y, verbose=1)\n",
    "    print(f\"loss: {history[0]:.5f} accuracy: {history[1]:.5f}\" )\n",
    "    if fit_res != None:\n",
    "        myPlot(fit_res)\n",
    "# myscore(test_images,  test_labels, fit_res)"
   ]
  },
  {
   "cell_type": "code",
   "execution_count": null,
   "metadata": {
    "id": "tMbX6eIpxWAG"
   },
   "outputs": [],
   "source": [
    "def myfit(X, y, SPLIT__=0.1, BATCH_SIZE__=128, EPOCHS__=10, ):\n",
    "    res = model.fit(X, y, batch_size=BATCH_SIZE__, epochs=EPOCHS__, validation_split=SPLIT__)\n",
    "    return res"
   ]
  },
  {
   "cell_type": "code",
   "execution_count": null,
   "metadata": {
    "id": "5nMrCthvxX75"
   },
   "outputs": [],
   "source": [
    "def mypredit_check(test_X, idx=0):\n",
    "    pred = model.predict(test_X)\n",
    "    print(pred[idx])\n",
    "    pred_label = np.argmax(pred[idx])\n",
    "    print(pred_label, LABEL_NAME__[pred_label])\n",
    "    plt.imshow(test_X[idx])\n",
    "    plt.show()"
   ]
  },
  {
   "cell_type": "code",
   "execution_count": null,
   "metadata": {
    "id": "wZ4kHWaZrOYR"
   },
   "outputs": [],
   "source": [
    "print(train_X.shape,test_X.shape,train_y.shape,test_y.shape)\n",
    "\n",
    "# train 2936 , test 734 로 분할됨 (사진 개수)\n",
    "# 180*180 사이즈 , RGB 3 \n",
    "# 5개 클래스 \n",
    "INPUT_SIZE = (IMG_SIZE,IMG_SIZE,3)"
   ]
  },
  {
   "cell_type": "code",
   "execution_count": null,
   "metadata": {
    "id": "Q1uBtTDsutma"
   },
   "outputs": [],
   "source": [
    "model = Sequential([\n",
    "        # CNN\n",
    "        Conv2D(128, kernel_size=(3, 3),input_shape = INPUT_SIZE, activation='relu'),\n",
    "        MaxPooling2D(pool_size=(2,2)),\n",
    "#         Conv2D(32, kernel_size=(3, 3),activation='relu'),\n",
    "#         MaxPooling2D(pool_size=(2,2)),\n",
    "        Conv2D(64, kernel_size=(3, 3),activation='relu'),\n",
    "        MaxPooling2D(pool_size=(2,2)),\n",
    "        Conv2D(32, kernel_size=(3, 3),activation='relu'),\n",
    "        MaxPooling2D(pool_size=(2,2)),\n",
    "        Flatten(),\n",
    "        Dense(256, activation='relu'),\n",
    "        Dropout(0.3),\n",
    "        Dense(CLASS__, activation='softmax')\n",
    "])\n",
    "model.compile(optimizer='adam', loss='categorical_crossentropy', metrics=['accuracy'])\n",
    "print(model.summary())\n"
   ]
  },
  {
   "cell_type": "code",
   "execution_count": null,
   "metadata": {
    "id": "ilibFeiHML94"
   },
   "outputs": [],
   "source": [
    "# 모델 저장 폴더\n",
    "import os\n",
    "if not os.path.exists(\"./model\"):\n",
    "    os.mkdir('./model')\n",
    "\n",
    "filepath = \"./model/{epoch:02d}{val_loss:.3f}.h5\"\n",
    "checkpnt = ModelCheckpoint(filepath, monitor='val_loss', save_best_only=True)\n",
    "estop = EarlyStopping(monitor='val_loss', patience=4)\n"
   ]
  },
  {
   "cell_type": "code",
   "execution_count": 1,
   "metadata": {
    "id": "71P71GPBwBar"
   },
   "outputs": [
    {
     "ename": "NameError",
     "evalue": "name 'model' is not defined",
     "output_type": "error",
     "traceback": [
      "\u001b[1;31m---------------------------------------------------------------------------\u001b[0m",
      "\u001b[1;31mNameError\u001b[0m                                 Traceback (most recent call last)",
      "\u001b[1;32m<ipython-input-1-545e0fc0fdcf>\u001b[0m in \u001b[0;36m<module>\u001b[1;34m\u001b[0m\n\u001b[1;32m----> 1\u001b[1;33m res = model.fit(X_train,y_train, epoch=100,\n\u001b[0m\u001b[0;32m      2\u001b[0m                 \u001b[0mvalidation_split\u001b[0m\u001b[1;33m=\u001b[0m\u001b[1;36m0.1\u001b[0m\u001b[1;33m,\u001b[0m \u001b[1;31m# 사이즈: 개수 정해서 줌,  split: 10% 비율로\u001b[0m\u001b[1;33m\u001b[0m\u001b[1;33m\u001b[0m\u001b[0m\n\u001b[0;32m      3\u001b[0m                 callbacks = [estop])\n",
      "\u001b[1;31mNameError\u001b[0m: name 'model' is not defined"
     ]
    }
   ],
   "source": [
    "res = model.fit(train_X,train_y, batch_size= BATCH_SIZE__, validation_data = (test_X,test_y), epochs=EPOCHS__, callbacks = [checkpnt,estop])"
   ]
  },
  {
   "cell_type": "code",
   "execution_count": null,
   "metadata": {
    "id": "3VhFkYXvIO6d"
   },
   "outputs": [],
   "source": [
    "# score 확인\n",
    "key_ = list(res.history.keys())\n",
    "plt.figure(figsize=(12,5))\n",
    "for i in range(len(key_)):\n",
    "    plt.plot(res.history[key_[i]], label=key_[i])\n",
    "plt.title(\"metrics\")\n",
    "plt.xlabel(\"epoch\")\n",
    "plt.ylabel(\"score\")\n",
    "plt.legend()\n",
    "plt.show()"
   ]
  },
  {
   "cell_type": "markdown",
   "metadata": {
    "id": "Px9YDI1DMg3f"
   },
   "source": [
    "## 예측모델 서비스"
   ]
  },
  {
   "cell_type": "code",
   "execution_count": null,
   "metadata": {
    "id": "7QVgnnWb0XFe"
   },
   "outputs": [],
   "source": [
    "# {'DAISY':0 , 'ROSE':!, 'Dandelion':2, 'Sunflower':3, 'Tulip':4}"
   ]
  },
  {
   "cell_type": "code",
   "execution_count": null,
   "metadata": {},
   "outputs": [],
   "source": [
    "# def mypredit_check(test_X, idxs):\n",
    "#     pred = model.predict(test_X)\n",
    "#     print(pred[idx])\n",
    "#     pred_label = np.argmax(pred[idx])\n",
    "#     print(pred_label, LABEL_NAME__[pred_label])\n",
    "#     plt.imshow(test_X[idx])\n",
    "#     plt.show()\n",
    "\n",
    "\n",
    "def mypredit_mcheck(prm_X, idxs):\n",
    "    pred = model.predict(prm_X)\n",
    "    for i in idxs:\n",
    "        print(pred[i])\n",
    "        pred_label = np.argmax(pred[i])\n",
    "        print(pred_label, LABEL_NAME__[pred_label])\n",
    "        plt.imshow(prm_X[i])\n",
    "        plt.show()"
   ]
  },
  {
   "cell_type": "code",
   "execution_count": null,
   "metadata": {
    "id": "mxojK2MCwRhn"
   },
   "outputs": [],
   "source": [
    "# img = (np.expand_dims(test_X[3],0))\n",
    "# print(img.shape)\n",
    "idxs = [3,7,8,12,15,33,36,38,42,44,45]\n",
    "mypredit_mcheck(test_X, idxs)"
   ]
  }
 ],
 "metadata": {
  "accelerator": "GPU",
  "colab": {
   "collapsed_sections": [],
   "name": "dl_cnn_flower_ref_kaggle",
   "private_outputs": true,
   "provenance": []
  },
  "kernelspec": {
   "display_name": "Python 3",
   "language": "python",
   "name": "python3"
  },
  "language_info": {
   "codemirror_mode": {
    "name": "ipython",
    "version": 3
   },
   "file_extension": ".py",
   "mimetype": "text/x-python",
   "name": "python",
   "nbconvert_exporter": "python",
   "pygments_lexer": "ipython3",
   "version": "3.7.7"
  }
 },
 "nbformat": 4,
 "nbformat_minor": 4
}
