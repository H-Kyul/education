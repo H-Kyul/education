{
 "cells": [
  {
   "cell_type": "code",
   "execution_count": 20,
   "metadata": {},
   "outputs": [],
   "source": [
    "import requests\n",
    "from bs4 import BeautifulSoup\n",
    "import pandas as pd\n",
    "headers = {'User-Agent':'Mozilla/5.0'}\n",
    "url = 'https://finance.naver.com/item/main.nhn?code=005930'\n",
    "r = requests.get(url,headers=headers)\n",
    "soup = BeautifulSoup(r.text)"
   ]
  },
  {
   "cell_type": "code",
   "execution_count": 21,
   "metadata": {},
   "outputs": [
    {
     "data": {
      "text/plain": [
       "'https://finance.naver.com/item/main.nhn?code=005930'"
      ]
     },
     "execution_count": 21,
     "metadata": {},
     "output_type": "execute_result"
    }
   ],
   "source": [
    "url"
   ]
  },
  {
   "cell_type": "code",
   "execution_count": 22,
   "metadata": {},
   "outputs": [
    {
     "data": {
      "text/plain": [
       "<tr>\n",
       "<td class=\"first\">\n",
       "<span class=\"sptxt sp_txt2\">전일</span>\n",
       "<em>\n",
       "<span class=\"blind\">82,800</span>\n",
       "<span class=\"no8\">8</span><span class=\"no2\">2</span><span class=\"shim\">,</span><span class=\"no8\">8</span><span class=\"no0\">0</span><span class=\"no0\">0</span>\n",
       "</em>\n",
       "</td>\n",
       "<td>\n",
       "<span class=\"sptxt sp_txt4\">고가</span>\n",
       "<em class=\"no_up\">\n",
       "<span class=\"blind\">82,900</span><span class=\"no8\">8</span><span class=\"no2\">2</span><span class=\"shim\">,</span><span class=\"no9\">9</span><span class=\"no0\">0</span><span class=\"no0\">0</span>\n",
       "</em>\n",
       "<span class=\"sptxt sp_txt6\">(상한가</span>\n",
       "<em class=\"no_cha\">\n",
       "<span class=\"blind\">107,500</span><span class=\"no1\">1</span><span class=\"no0\">0</span><span class=\"no7\">7</span><span class=\"shim\">,</span><span class=\"no5\">5</span><span class=\"no0\">0</span><span class=\"no0\">0</span>\n",
       "</em>\n",
       "<span class=\"sptxt sp_txt8\">)</span>\n",
       "</td>\n",
       "<td>\n",
       "<span class=\"sptxt sp_txt9\">거래량</span>\n",
       "<em>\n",
       "<span class=\"blind\">11,468,812</span>\n",
       "<span class=\"no1\">1</span><span class=\"no1\">1</span><span class=\"shim\">,</span><span class=\"no4\">4</span><span class=\"no6\">6</span><span class=\"no8\">8</span><span class=\"shim\">,</span><span class=\"no8\">8</span><span class=\"no1\">1</span><span class=\"no2\">2</span>\n",
       "</em>\n",
       "</td>\n",
       "</tr>"
      ]
     },
     "execution_count": 22,
     "metadata": {},
     "output_type": "execute_result"
    }
   ],
   "source": [
    "sub_section = soup.find_all('tr')\n",
    "sub_section[0]"
   ]
  },
  {
   "cell_type": "code",
   "execution_count": 23,
   "metadata": {},
   "outputs": [
    {
     "data": {
      "text/plain": [
       "<tr>\n",
       "<td class=\"first\">\n",
       "<span class=\"sptxt sp_txt3\">시가</span>\n",
       "<em>\n",
       "<span class=\"blind\">82,800</span><span class=\"no8\">8</span><span class=\"no2\">2</span><span class=\"shim\">,</span><span class=\"no8\">8</span><span class=\"no0\">0</span><span class=\"no0\">0</span>\n",
       "</em>\n",
       "</td>\n",
       "<td>\n",
       "<span class=\"sptxt sp_txt5\">저가</span>\n",
       "<em class=\"no_down\">\n",
       "<span class=\"blind\">82,000</span><span class=\"no8\">8</span><span class=\"no2\">2</span><span class=\"shim\">,</span><span class=\"no0\">0</span><span class=\"no0\">0</span><span class=\"no0\">0</span>\n",
       "</em>\n",
       "<span class=\"sptxt sp_txt7\">(하한가</span>\n",
       "<em class=\"no_cha\">\n",
       "<span class=\"no5\">5</span><span class=\"no8\">8</span><span class=\"shim\">,</span><span class=\"no0\">0</span><span class=\"no0\">0</span><span class=\"no0\">0</span>\n",
       "</em>\n",
       "<span class=\"sptxt sp_txt8\">)</span>\n",
       "</td>\n",
       "<td>\n",
       "<span class=\"sptxt sp_txt10\">거래대금</span>\n",
       "<em>\n",
       "<span class=\"blind\">944,571</span>\n",
       "<span class=\"no9\">9</span><span class=\"no4\">4</span><span class=\"no4\">4</span><span class=\"shim\">,</span><span class=\"no5\">5</span><span class=\"no7\">7</span><span class=\"no1\">1</span>\n",
       "</em>\n",
       "<span class=\"sptxt sp_txt11\">백만</span>\n",
       "</td>\n",
       "</tr>"
      ]
     },
     "execution_count": 23,
     "metadata": {},
     "output_type": "execute_result"
    }
   ],
   "source": [
    "sub_section[1]"
   ]
  },
  {
   "cell_type": "code",
   "execution_count": 25,
   "metadata": {},
   "outputs": [
    {
     "data": {
      "text/plain": [
       "<tr>\n",
       "<th class=\"h_th th_sale_top\" scope=\"col\"><span>매도상위</span></th>\n",
       "<th class=\"h_th th_deal_amount\" scope=\"col\"><span>거래량</span></th>\n",
       "<th class=\"h_th th_buy_top\" scope=\"col\"><span>매수상위</span></th>\n",
       "<th class=\"h_th th_deal_amount\" scope=\"col\"><span>거개량</span></th>\n",
       "</tr>"
      ]
     },
     "execution_count": 25,
     "metadata": {},
     "output_type": "execute_result"
    }
   ],
   "source": [
    "tbody = sub_section[2] # 필요한 것\n",
    "tbody"
   ]
  },
  {
   "cell_type": "code",
   "execution_count": null,
   "metadata": {},
   "outputs": [],
   "source": [
    "td = tbody.find_all('tr')\n",
    "td"
   ]
  },
  {
   "cell_type": "code",
   "execution_count": null,
   "metadata": {},
   "outputs": [],
   "source": []
  },
  {
   "cell_type": "code",
   "execution_count": null,
   "metadata": {},
   "outputs": [],
   "source": [
    "val_list = []\n",
    "for item in td:\n",
    "#     val1 = item.text.replace('\\t','').replace('\\n',',').replace(',,,,,,,,','').replace(',,,,,',',')\n",
    "    val1 = item.text.replace('\\t','').replace('\\n',',').replace(',,,,,,,,','=').replace(',,,,,','=')\n",
    "    val1 = val1.replace(',','')\n",
    "    val_list.append(val1)\n",
    "val_list"
   ]
  },
  {
   "cell_type": "code",
   "execution_count": null,
   "metadata": {},
   "outputs": [],
   "source": [
    "# 녹음시작: n=10 언급부분"
   ]
  },
  {
   "cell_type": "code",
   "execution_count": null,
   "metadata": {},
   "outputs": [],
   "source": [
    "len(val_list)"
   ]
  },
  {
   "cell_type": "code",
   "execution_count": null,
   "metadata": {},
   "outputs": [],
   "source": [
    "len(val_list[0])"
   ]
  },
  {
   "cell_type": "code",
   "execution_count": null,
   "metadata": {},
   "outputs": [],
   "source": [
    "len(val_list[1])"
   ]
  },
  {
   "cell_type": "code",
   "execution_count": null,
   "metadata": {},
   "outputs": [],
   "source": [
    "val_list[0]"
   ]
  },
  {
   "cell_type": "code",
   "execution_count": null,
   "metadata": {},
   "outputs": [],
   "source": [
    "val_list[1]"
   ]
  },
  {
   "cell_type": "code",
   "execution_count": null,
   "metadata": {},
   "outputs": [],
   "source": [
    "len(val_list)"
   ]
  },
  {
   "cell_type": "code",
   "execution_count": 19,
   "metadata": {},
   "outputs": [
    {
     "ename": "NameError",
     "evalue": "name 'val_list' is not defined",
     "output_type": "error",
     "traceback": [
      "\u001b[1;31m---------------------------------------------------------------------------\u001b[0m",
      "\u001b[1;31mNameError\u001b[0m                                 Traceback (most recent call last)",
      "\u001b[1;32m<ipython-input-19-2f93962c3e30>\u001b[0m in \u001b[0;36m<module>\u001b[1;34m\u001b[0m\n\u001b[1;32m----> 1\u001b[1;33m \u001b[0mval1\u001b[0m \u001b[1;33m=\u001b[0m \u001b[0mval_list\u001b[0m\u001b[1;33m[\u001b[0m\u001b[1;36m0\u001b[0m\u001b[1;33m]\u001b[0m\u001b[1;33m.\u001b[0m\u001b[0msplit\u001b[0m\u001b[1;33m(\u001b[0m\u001b[1;34m'='\u001b[0m\u001b[1;33m)\u001b[0m\u001b[1;33m\u001b[0m\u001b[1;33m\u001b[0m\u001b[0m\n\u001b[0m\u001b[0;32m      2\u001b[0m \u001b[0mval2\u001b[0m \u001b[1;33m=\u001b[0m \u001b[0mval_list\u001b[0m\u001b[1;33m[\u001b[0m\u001b[1;36m1\u001b[0m\u001b[1;33m]\u001b[0m\u001b[1;33m.\u001b[0m\u001b[0msplit\u001b[0m\u001b[1;33m(\u001b[0m\u001b[1;34m'='\u001b[0m\u001b[1;33m)\u001b[0m\u001b[1;33m\u001b[0m\u001b[1;33m\u001b[0m\u001b[0m\n\u001b[0;32m      3\u001b[0m \u001b[0mval3\u001b[0m \u001b[1;33m=\u001b[0m \u001b[0mval_list\u001b[0m\u001b[1;33m[\u001b[0m\u001b[1;36m2\u001b[0m\u001b[1;33m]\u001b[0m\u001b[1;33m.\u001b[0m\u001b[0msplit\u001b[0m\u001b[1;33m(\u001b[0m\u001b[1;34m'='\u001b[0m\u001b[1;33m)\u001b[0m\u001b[1;33m\u001b[0m\u001b[1;33m\u001b[0m\u001b[0m\n\u001b[0;32m      4\u001b[0m \u001b[0mval4\u001b[0m \u001b[1;33m=\u001b[0m \u001b[0mval_list\u001b[0m\u001b[1;33m[\u001b[0m\u001b[1;36m3\u001b[0m\u001b[1;33m]\u001b[0m\u001b[1;33m.\u001b[0m\u001b[0msplit\u001b[0m\u001b[1;33m(\u001b[0m\u001b[1;34m'='\u001b[0m\u001b[1;33m)\u001b[0m\u001b[1;33m\u001b[0m\u001b[1;33m\u001b[0m\u001b[0m\n\u001b[0;32m      5\u001b[0m \u001b[0mval5\u001b[0m \u001b[1;33m=\u001b[0m \u001b[0mval_list\u001b[0m\u001b[1;33m[\u001b[0m\u001b[1;36m4\u001b[0m\u001b[1;33m]\u001b[0m\u001b[1;33m.\u001b[0m\u001b[0msplit\u001b[0m\u001b[1;33m(\u001b[0m\u001b[1;34m'='\u001b[0m\u001b[1;33m)\u001b[0m\u001b[1;33m\u001b[0m\u001b[1;33m\u001b[0m\u001b[0m\n",
      "\u001b[1;31mNameError\u001b[0m: name 'val_list' is not defined"
     ]
    }
   ],
   "source": [
    "val1 = val_list[0].split('=')\n",
    "val2 = val_list[1].split('=')\n",
    "val3 = val_list[2].split('=')\n",
    "val4 = val_list[3].split('=')\n",
    "val5 = val_list[4].split('=')\n",
    "val6 = val_list[5].split('=')\n",
    "val7 = val_list[6].split('=')\n",
    "val8 = val_list[7].split('=')\n",
    "val9 = val_list[8].split('=')\n",
    "val10 = val_list[9].split('=')\n",
    "val11 = val_list[10].split('=')\n",
    "val12 = val_list[11].split('=')\n",
    "val13 = val_list[12].split('=')\n",
    "val14 = val_list[13].split('=')\n",
    "val15 = val_list[14].split('=')\n",
    "val16 = val_list[15].split('=')"
   ]
  },
  {
   "cell_type": "code",
   "execution_count": 18,
   "metadata": {},
   "outputs": [
    {
     "ename": "NameError",
     "evalue": "name 'val1' is not defined",
     "output_type": "error",
     "traceback": [
      "\u001b[1;31m---------------------------------------------------------------------------\u001b[0m",
      "\u001b[1;31mNameError\u001b[0m                                 Traceback (most recent call last)",
      "\u001b[1;32m<ipython-input-18-137e4ed99143>\u001b[0m in \u001b[0;36m<module>\u001b[1;34m\u001b[0m\n\u001b[1;32m----> 1\u001b[1;33m \u001b[0mval1\u001b[0m\u001b[1;33m\u001b[0m\u001b[1;33m\u001b[0m\u001b[0m\n\u001b[0m\u001b[0;32m      2\u001b[0m df = pd.DataFrame([val1,val2,val3,val4,val5,val6,val7,val8,val9,val10,val11,val12,val13,val14,val15,val16],\n\u001b[0;32m      3\u001b[0m                  columns = ['구분','2018.12','2019.12','2020.12','2021.12(E)','2019.12','2020.03','2020.06','2020.09','2020.12','2021.03(E)'])\n\u001b[0;32m      4\u001b[0m \u001b[0mdf\u001b[0m\u001b[1;33m\u001b[0m\u001b[1;33m\u001b[0m\u001b[0m\n",
      "\u001b[1;31mNameError\u001b[0m: name 'val1' is not defined"
     ]
    }
   ],
   "source": [
    "val1\n",
    "df = pd.DataFrame([val1,val2,val3,val4,val5,val6,val7,val8,val9,val10,val11,val12,val13,val14,val15,val16],\n",
    "                 columns = ['구분','2018.12','2019.12','2020.12','2021.12(E)','2019.12','2020.03','2020.06','2020.09','2020.12','2021.03(E)'])\n",
    "df"
   ]
  },
  {
   "cell_type": "code",
   "execution_count": null,
   "metadata": {},
   "outputs": [],
   "source": [
    "df.set_index(df['구분'], inplace=True)\n",
    "del df['구분']\n",
    "df"
   ]
  },
  {
   "cell_type": "code",
   "execution_count": null,
   "metadata": {},
   "outputs": [],
   "source": [
    "val1[1]"
   ]
  },
  {
   "cell_type": "code",
   "execution_count": null,
   "metadata": {},
   "outputs": [],
   "source": [
    "df = pd.DataFrame(data={'a':val1})\n",
    "df"
   ]
  },
  {
   "cell_type": "code",
   "execution_count": null,
   "metadata": {},
   "outputs": [],
   "source": [
    "2018.12\t2019.12\t2020.12\t2021.12(E)\t2019.12\t2020.03\t2020.06\t2020.09\t2020.12"
   ]
  }
 ],
 "metadata": {
  "kernelspec": {
   "display_name": "Python 3 (ipykernel)",
   "language": "python",
   "name": "python3"
  },
  "language_info": {
   "codemirror_mode": {
    "name": "ipython",
    "version": 3
   },
   "file_extension": ".py",
   "mimetype": "text/x-python",
   "name": "python",
   "nbconvert_exporter": "python",
   "pygments_lexer": "ipython3",
   "version": "3.7.8"
  }
 },
 "nbformat": 4,
 "nbformat_minor": 4
}
